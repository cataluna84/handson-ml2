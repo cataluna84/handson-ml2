{
 "cells": [
  {
   "cell_type": "markdown",
   "metadata": {
    "id": "s_qNSzzyaCbD"
   },
   "source": [
    "##### Copyright 2019 The TensorFlow Authors."
   ]
  },
  {
   "cell_type": "code",
   "execution_count": 1,
   "metadata": {
    "cellView": "form",
    "execution": {
     "iopub.execute_input": "2021-01-08T06:07:53.851194Z",
     "iopub.status.busy": "2021-01-08T06:07:53.850578Z",
     "iopub.status.idle": "2021-01-08T06:07:53.852277Z",
     "shell.execute_reply": "2021-01-08T06:07:53.852629Z"
    },
    "id": "jmjh290raIky"
   },
   "outputs": [],
   "source": [
    "#@title Licensed under the Apache License, Version 2.0 (the \"License\");\n",
    "# you may not use this file except in compliance with the License.\n",
    "# You may obtain a copy of the License at\n",
    "#\n",
    "# https://www.apache.org/licenses/LICENSE-2.0\n",
    "#\n",
    "# Unless required by applicable law or agreed to in writing, software\n",
    "# distributed under the License is distributed on an \"AS IS\" BASIS,\n",
    "# WITHOUT WARRANTIES OR CONDITIONS OF ANY KIND, either express or implied.\n",
    "# See the License for the specific language governing permissions and\n",
    "# limitations under the License."
   ]
  },
  {
   "cell_type": "markdown",
   "metadata": {
    "id": "J0Qjg6vuaHNt"
   },
   "source": [
    "# Transformer model for language understanding"
   ]
  },
  {
   "cell_type": "markdown",
   "metadata": {
    "id": "AOpGoE2T-YXS"
   },
   "source": [
    "<table class=\"tfo-notebook-buttons\" align=\"left\">\n",
    "  <td>\n",
    "    <a target=\"_blank\" href=\"https://www.tensorflow.org/tutorials/text/transformer\">\n",
    "    <img src=\"https://www.tensorflow.org/images/tf_logo_32px.png\" />\n",
    "    View on TensorFlow.org</a>\n",
    "  </td>\n",
    "  <td>\n",
    "    <a target=\"_blank\" href=\"https://colab.research.google.com/github/tensorflow/docs/blob/master/site/en/tutorials/text/transformer.ipynb\">\n",
    "    <img src=\"https://www.tensorflow.org/images/colab_logo_32px.png\" />\n",
    "    Run in Google Colab</a>\n",
    "  </td>\n",
    "  <td>\n",
    "    <a target=\"_blank\" href=\"https://github.com/tensorflow/docs/blob/master/site/en/tutorials/text/transformer.ipynb\">\n",
    "    <img src=\"https://www.tensorflow.org/images/GitHub-Mark-32px.png\" />\n",
    "    View source on GitHub</a>\n",
    "  </td>\n",
    "  <td>\n",
    "    <a href=\"https://storage.googleapis.com/tensorflow_docs/docs/site/en/tutorials/text/transformer.ipynb\"><img src=\"https://www.tensorflow.org/images/download_logo_32px.png\" />Download notebook</a>\n",
    "  </td>\n",
    "</table>"
   ]
  },
  {
   "cell_type": "markdown",
   "metadata": {
    "id": "M-f8TnGpE_ex"
   },
   "source": [
    "This tutorial trains a <a href=\"https://arxiv.org/abs/1706.03762\" class=\"external\">Transformer model</a> to translate Portuguese to English. This is an advanced example that assumes knowledge of [text generation](text_generation.ipynb) and [attention](nmt_with_attention.ipynb).\n",
    "\n",
    "The core idea behind the Transformer model is *self-attention*—the ability to attend to different positions of the input sequence to compute a representation of that sequence. Transformer creates stacks of self-attention layers and is explained below in the sections *Scaled dot product attention* and *Multi-head attention*.\n",
    "\n",
    "A transformer model handles variable-sized input using stacks of self-attention layers instead of\n",
    "[RNNs](text_classification_rnn.ipynb) or [CNNs](../images/intro_to_cnns.ipynb). This general architecture has a\n",
    "number of advantages:\n",
    "\n",
    "* It make no assumptions about the temporal/spatial relationships across the data. This is ideal for processing a\n",
    "set of objects (for example, [StarCraft units](https://deepmind.com/blog/alphastar-mastering-real-time-strategy-game-starcraft-ii/#block-8)).\n",
    "* Layer outputs can be calculated in parallel, instead of a series like an RNN.\n",
    "* Distant items can affect each other's output without passing through many RNN-steps, or convolution layers (see\n",
    "[Scene Memory Transformer](https://arxiv.org/pdf/1903.03878.pdf) for example).\n",
    "* It can learn long-range dependencies. This is a challenge in many sequence tasks.\n",
    "\n",
    "The downsides of this architecture are:\n",
    "\n",
    "* For a time-series, the output for a time-step is calculated from the *entire history* instead of only the inputs\n",
    "and current hidden-state. This _may_ be less efficient.\n",
    "* If the input *does* have a  temporal/spatial relationship, like text, some positional encoding must be added, or\n",
    "the model will effectively see a bag of words.\n",
    "\n",
    "After training the model in this notebook, you will be able to input a Portuguese sentence and return the\n",
    "English translation.\n",
    "\n",
    "<img src=\"https://www.tensorflow.org/images/tutorials/transformer/attention_map_portuguese.png\" width=\"800\" alt=\"Attention heatmap\">"
   ]
  },
  {
   "cell_type": "code",
   "execution_count": 2,
   "metadata": {
    "execution": {
     "iopub.execute_input": "2021-01-08T06:07:53.862783Z",
     "iopub.status.busy": "2021-01-08T06:07:53.862213Z",
     "iopub.status.idle": "2021-01-08T06:07:56.854125Z",
     "shell.execute_reply": "2021-01-08T06:07:56.853566Z"
    },
    "id": "XFG0NDRu5mYQ"
   },
   "outputs": [],
   "source": [
    "# Pin matplotlib version to 3.2.2 since in the latest version\n",
    "# transformer.ipynb fails with the following error:\n",
    "# https://stackoverflow.com/questions/62953704/valueerror-the-number-of-fixedlocator-locations-5-usually-from-a-call-to-set\n",
    "!pip install -q matplotlib==3.2.2"
   ]
  },
  {
   "cell_type": "code",
   "execution_count": 3,
   "metadata": {
    "execution": {
     "iopub.execute_input": "2021-01-08T06:07:56.858561Z",
     "iopub.status.busy": "2021-01-08T06:07:56.857988Z",
     "iopub.status.idle": "2021-01-08T06:08:03.638618Z",
     "shell.execute_reply": "2021-01-08T06:08:03.638062Z"
    },
    "id": "JjJJyJTZYebt"
   },
   "outputs": [],
   "source": [
    "import tensorflow_datasets as tfds\n",
    "import tensorflow as tf\n",
    "tf.config.experimental.set_memory_growth(tf.config.experimental.list_physical_devices('GPU')[0], True)\n",
    "\n",
    "import time\n",
    "import numpy as np\n",
    "import matplotlib.pyplot as plt"
   ]
  },
  {
   "cell_type": "markdown",
   "metadata": {
    "id": "fd1NWMxjfsDd"
   },
   "source": [
    "## Setup input pipeline"
   ]
  },
  {
   "cell_type": "markdown",
   "metadata": {
    "id": "t4_Qt8W1hJE_"
   },
   "source": [
    "Use [TFDS](https://www.tensorflow.org/datasets) to load the\n",
    "[Portugese-English translation dataset](https://github.com/neulab/word-embeddings-for-nmt) from the\n",
    "[TED Talks Open Translation Project](https://www.ted.com/participate/translate).\n",
    "\n",
    "This dataset contains approximately 50000 training examples, 1100 validation examples, and 2000 test examples."
   ]
  },
  {
   "cell_type": "code",
   "execution_count": 4,
   "metadata": {
    "execution": {
     "iopub.execute_input": "2021-01-08T06:08:03.646007Z",
     "iopub.status.busy": "2021-01-08T06:08:03.645416Z",
     "iopub.status.idle": "2021-01-08T06:08:37.353506Z",
     "shell.execute_reply": "2021-01-08T06:08:37.353904Z"
    },
    "id": "8q9t4FmN96eN"
   },
   "outputs": [],
   "source": [
    "examples, metadata = tfds.load('ted_hrlr_translate/pt_to_en', with_info=True,\n",
    "                               as_supervised=True)\n",
    "train_examples, val_examples = examples['train'], examples['validation']"
   ]
  },
  {
   "cell_type": "markdown",
   "metadata": {
    "id": "RCEKotqosGfq"
   },
   "source": [
    "Create a custom subwords tokenizer from the training dataset. "
   ]
  },
  {
   "cell_type": "code",
   "execution_count": 5,
   "metadata": {
    "execution": {
     "iopub.execute_input": "2021-01-08T06:08:37.359490Z",
     "iopub.status.busy": "2021-01-08T06:08:37.358327Z",
     "iopub.status.idle": "2021-01-08T06:10:22.452743Z",
     "shell.execute_reply": "2021-01-08T06:10:22.453203Z"
    },
    "id": "KVBg5Q8tBk5z"
   },
   "outputs": [],
   "source": [
    "tokenizer_en = tfds.deprecated.text.SubwordTextEncoder.build_from_corpus(\n",
    "    (en.numpy() for pt, en in train_examples), target_vocab_size=2**13)\n",
    "\n",
    "tokenizer_pt = tfds.deprecated.text.SubwordTextEncoder.build_from_corpus(\n",
    "    (pt.numpy() for pt, en in train_examples), target_vocab_size=2**13)"
   ]
  },
  {
   "cell_type": "code",
   "execution_count": 6,
   "metadata": {
    "execution": {
     "iopub.execute_input": "2021-01-08T06:10:22.458570Z",
     "iopub.status.busy": "2021-01-08T06:10:22.458002Z",
     "iopub.status.idle": "2021-01-08T06:10:22.460717Z",
     "shell.execute_reply": "2021-01-08T06:10:22.460128Z"
    },
    "id": "4DYWukNFkGQN"
   },
   "outputs": [
    {
     "name": "stdout",
     "output_type": "stream",
     "text": [
      "Tokenized string is [7915, 1248, 7946, 7194, 13, 2799, 7877]\n",
      "The original string: Transformer is awesome.\n"
     ]
    }
   ],
   "source": [
    "sample_string = 'Transformer is awesome.'\n",
    "\n",
    "tokenized_string = tokenizer_en.encode(sample_string)\n",
    "print ('Tokenized string is {}'.format(tokenized_string))\n",
    "\n",
    "original_string = tokenizer_en.decode(tokenized_string)\n",
    "print ('The original string: {}'.format(original_string))\n",
    "\n",
    "assert original_string == sample_string"
   ]
  },
  {
   "cell_type": "markdown",
   "metadata": {
    "id": "o9KJWJjrsZ4Y"
   },
   "source": [
    "The tokenizer encodes the string by breaking it into subwords if the word is not in its dictionary."
   ]
  },
  {
   "cell_type": "code",
   "execution_count": 7,
   "metadata": {
    "execution": {
     "iopub.execute_input": "2021-01-08T06:10:22.464544Z",
     "iopub.status.busy": "2021-01-08T06:10:22.463999Z",
     "iopub.status.idle": "2021-01-08T06:10:22.467076Z",
     "shell.execute_reply": "2021-01-08T06:10:22.466638Z"
    },
    "id": "bf2ntBxjkqK6"
   },
   "outputs": [
    {
     "name": "stdout",
     "output_type": "stream",
     "text": [
      "7915 ----> T\n",
      "1248 ----> ran\n",
      "7946 ----> s\n",
      "7194 ----> former \n",
      "13 ----> is \n",
      "2799 ----> awesome\n",
      "7877 ----> .\n"
     ]
    }
   ],
   "source": [
    "for ts in tokenized_string:\n",
    "  print ('{} ----> {}'.format(ts, tokenizer_en.decode([ts])))"
   ]
  },
  {
   "cell_type": "code",
   "execution_count": 8,
   "metadata": {
    "execution": {
     "iopub.execute_input": "2021-01-08T06:10:22.470278Z",
     "iopub.status.busy": "2021-01-08T06:10:22.469730Z",
     "iopub.status.idle": "2021-01-08T06:10:22.471688Z",
     "shell.execute_reply": "2021-01-08T06:10:22.471282Z"
    },
    "id": "bcRp7VcQ5m6g"
   },
   "outputs": [],
   "source": [
    "BUFFER_SIZE = 20000\n",
    "BATCH_SIZE = 256"
   ]
  },
  {
   "cell_type": "markdown",
   "metadata": {
    "id": "kGi4PoVakxdc"
   },
   "source": [
    "Add a start and end token to the input and target. "
   ]
  },
  {
   "cell_type": "code",
   "execution_count": 9,
   "metadata": {
    "execution": {
     "iopub.execute_input": "2021-01-08T06:10:22.476000Z",
     "iopub.status.busy": "2021-01-08T06:10:22.475431Z",
     "iopub.status.idle": "2021-01-08T06:10:22.477641Z",
     "shell.execute_reply": "2021-01-08T06:10:22.477135Z"
    },
    "id": "UZwnPr4R055s"
   },
   "outputs": [],
   "source": [
    "def encode(lang1, lang2):\n",
    "  lang1 = [tokenizer_pt.vocab_size] + tokenizer_pt.encode(\n",
    "      lang1.numpy()) + [tokenizer_pt.vocab_size+1]\n",
    "\n",
    "  lang2 = [tokenizer_en.vocab_size] + tokenizer_en.encode(\n",
    "      lang2.numpy()) + [tokenizer_en.vocab_size+1]\n",
    "  \n",
    "  return lang1, lang2"
   ]
  },
  {
   "cell_type": "markdown",
   "metadata": {
    "id": "Tx1sFbR-9fRs"
   },
   "source": [
    "You want to use `Dataset.map` to apply this function to each element of the dataset.  `Dataset.map` runs in graph mode.\n",
    "\n",
    "* Graph tensors do not have a value. \n",
    "* In graph mode you can only use TensorFlow Ops and functions. \n",
    "\n",
    "So you can't `.map` this function directly: You need to wrap it in a `tf.py_function`. The `tf.py_function` will\n",
    "pass regular tensors (with a value and a `.numpy()` method to access it), to the wrapped python function."
   ]
  },
  {
   "cell_type": "code",
   "execution_count": 10,
   "metadata": {
    "execution": {
     "iopub.execute_input": "2021-01-08T06:10:22.482155Z",
     "iopub.status.busy": "2021-01-08T06:10:22.481581Z",
     "iopub.status.idle": "2021-01-08T06:10:22.483373Z",
     "shell.execute_reply": "2021-01-08T06:10:22.483811Z"
    },
    "id": "Mah1cS-P70Iz"
   },
   "outputs": [],
   "source": [
    "def tf_encode(pt, en):\n",
    "  result_pt, result_en = tf.py_function(encode, [pt, en], [tf.int64, tf.int64])\n",
    "  result_pt.set_shape([None])\n",
    "  result_en.set_shape([None])\n",
    "\n",
    "  return result_pt, result_en"
   ]
  },
  {
   "cell_type": "markdown",
   "metadata": {
    "id": "6JrGp5Gek6Ql"
   },
   "source": [
    "Note: To keep this example small and relatively fast, drop examples with a length of over 40 tokens."
   ]
  },
  {
   "cell_type": "code",
   "execution_count": 11,
   "metadata": {
    "execution": {
     "iopub.execute_input": "2021-01-08T06:10:22.487366Z",
     "iopub.status.busy": "2021-01-08T06:10:22.486821Z",
     "iopub.status.idle": "2021-01-08T06:10:22.488291Z",
     "shell.execute_reply": "2021-01-08T06:10:22.488736Z"
    },
    "id": "2QEgbjntk6Yf"
   },
   "outputs": [],
   "source": [
    "MAX_LENGTH = 40"
   ]
  },
  {
   "cell_type": "code",
   "execution_count": 12,
   "metadata": {
    "execution": {
     "iopub.execute_input": "2021-01-08T06:10:22.492540Z",
     "iopub.status.busy": "2021-01-08T06:10:22.491995Z",
     "iopub.status.idle": "2021-01-08T06:10:22.493939Z",
     "shell.execute_reply": "2021-01-08T06:10:22.493492Z"
    },
    "id": "c081xPGv1CPI"
   },
   "outputs": [],
   "source": [
    "def filter_max_length(x, y, max_length=MAX_LENGTH):\n",
    "  return tf.logical_and(tf.size(x) <= max_length,\n",
    "                        tf.size(y) <= max_length)"
   ]
  },
  {
   "cell_type": "code",
   "execution_count": 13,
   "metadata": {
    "execution": {
     "iopub.execute_input": "2021-01-08T06:10:22.498807Z",
     "iopub.status.busy": "2021-01-08T06:10:22.498086Z",
     "iopub.status.idle": "2021-01-08T06:10:22.609293Z",
     "shell.execute_reply": "2021-01-08T06:10:22.609663Z"
    },
    "id": "9mk9AZdZ5bcS"
   },
   "outputs": [],
   "source": [
    "train_dataset = train_examples.map(tf_encode)\n",
    "train_dataset = train_dataset.filter(filter_max_length)\n",
    "# cache the dataset to memory to get a speedup while reading from it.\n",
    "train_dataset = train_dataset.cache()\n",
    "train_dataset = train_dataset.shuffle(BUFFER_SIZE).padded_batch(BATCH_SIZE)\n",
    "train_dataset = train_dataset.prefetch(tf.data.experimental.AUTOTUNE)\n",
    "\n",
    "\n",
    "val_dataset = val_examples.map(tf_encode)\n",
    "val_dataset = val_dataset.filter(filter_max_length).padded_batch(BATCH_SIZE)"
   ]
  },
  {
   "cell_type": "code",
   "execution_count": 14,
   "metadata": {
    "execution": {
     "iopub.execute_input": "2021-01-08T06:10:22.613872Z",
     "iopub.status.busy": "2021-01-08T06:10:22.612937Z",
     "iopub.status.idle": "2021-01-08T06:10:22.694743Z",
     "shell.execute_reply": "2021-01-08T06:10:22.695129Z"
    },
    "id": "_fXvfYVfQr2n"
   },
   "outputs": [
    {
     "data": {
      "text/plain": "(<tf.Tensor: shape=(256, 39), dtype=int64, numpy=\n array([[8214,  342, 3032, ...,    0,    0,    0],\n        [8214,   95,  198, ...,    0,    0,    0],\n        [8214, 4479, 7990, ...,    0,    0,    0],\n        ...,\n        [8214,    8,    9, ...,    0,    0,    0],\n        [8214,   12, 1773, ...,    0,    0,    0],\n        [8214,    8,  262, ...,    0,    0,    0]])>,\n <tf.Tensor: shape=(256, 40), dtype=int64, numpy=\n array([[8087,   98,   25, ...,    0,    0,    0],\n        [8087,   12,   20, ...,    0,    0,    0],\n        [8087,   12, 5453, ...,    0,    0,    0],\n        ...,\n        [8087,   19,    8, ...,    0,    0,    0],\n        [8087, 2434,  238, ...,    0,    0,    0],\n        [8087,   19,    8, ...,    0,    0,    0]])>)"
     },
     "execution_count": 14,
     "metadata": {},
     "output_type": "execute_result"
    }
   ],
   "source": [
    "pt_batch, en_batch = next(iter(val_dataset))\n",
    "pt_batch, en_batch"
   ]
  },
  {
   "cell_type": "markdown",
   "metadata": {
    "id": "nBQuibYA4n0n"
   },
   "source": [
    "## Positional encoding\n",
    "\n",
    "Since this model doesn't contain any recurrence or convolution, positional encoding is added to give the model\n",
    "some information about the relative position of the words in the sentence.\n",
    "\n",
    "The positional encoding vector is added to the embedding vector. Embeddings represent a token in a d-dimensional\n",
    "space where tokens with similar meaning will be closer to each other. But, the embeddings do not encode the relative\n",
    "position of words in a sentence. So after adding the positional encoding, words will be closer to each other based\n",
    "on the *similarity of their meaning and their position in the sentence*, in the d-dimensional space.\n",
    "\n",
    "See the notebook on\n",
    "[positional encoding](https://github.com/tensorflow/examples/blob/master/community/en/position_encoding.ipynb) to\n",
    "learn more about it. The formula for calculating the positional encoding is as follows:\n",
    "\n",
    "$$\\Large{PE_{(pos, 2i)} = sin(pos / 10000^{2i / d_{model}})} $$\n",
    "$$\\Large{PE_{(pos, 2i+1)} = cos(pos / 10000^{2i / d_{model}})} $$"
   ]
  },
  {
   "cell_type": "code",
   "execution_count": 15,
   "metadata": {
    "execution": {
     "iopub.execute_input": "2021-01-08T06:10:22.699271Z",
     "iopub.status.busy": "2021-01-08T06:10:22.698643Z",
     "iopub.status.idle": "2021-01-08T06:10:22.700475Z",
     "shell.execute_reply": "2021-01-08T06:10:22.700831Z"
    },
    "id": "WhIOZjMNKujn"
   },
   "outputs": [],
   "source": [
    "def get_angles(pos, i, d_model):\n",
    "  angle_rates = 1 / np.power(10000, (2 * (i//2)) / np.float32(d_model))\n",
    "  return pos * angle_rates"
   ]
  },
  {
   "cell_type": "code",
   "execution_count": 16,
   "metadata": {
    "execution": {
     "iopub.execute_input": "2021-01-08T06:10:22.706058Z",
     "iopub.status.busy": "2021-01-08T06:10:22.705481Z",
     "iopub.status.idle": "2021-01-08T06:10:22.707190Z",
     "shell.execute_reply": "2021-01-08T06:10:22.707530Z"
    },
    "id": "1Rz82wEs5biZ"
   },
   "outputs": [],
   "source": [
    "def positional_encoding(position, d_model):\n",
    "  angle_rads = get_angles(np.arange(position)[:, np.newaxis],\n",
    "                          np.arange(d_model)[np.newaxis, :],\n",
    "                          d_model)\n",
    "  \n",
    "  # apply sin to even indices in the array; 2i\n",
    "  angle_rads[:, 0::2] = np.sin(angle_rads[:, 0::2])\n",
    "  \n",
    "  # apply cos to odd indices in the array; 2i+1\n",
    "  angle_rads[:, 1::2] = np.cos(angle_rads[:, 1::2])\n",
    "    \n",
    "  pos_encoding = angle_rads[np.newaxis, ...]\n",
    "    \n",
    "  return tf.cast(pos_encoding, dtype=tf.float32)"
   ]
  },
  {
   "cell_type": "code",
   "execution_count": 17,
   "metadata": {
    "execution": {
     "iopub.execute_input": "2021-01-08T06:10:22.711937Z",
     "iopub.status.busy": "2021-01-08T06:10:22.711370Z",
     "iopub.status.idle": "2021-01-08T06:10:23.324074Z",
     "shell.execute_reply": "2021-01-08T06:10:23.323528Z"
    },
    "id": "1kLCla68EloE"
   },
   "outputs": [
    {
     "name": "stdout",
     "output_type": "stream",
     "text": [
      "(1, 50, 512)\n"
     ]
    },
    {
     "data": {
      "text/plain": "<Figure size 432x288 with 2 Axes>",
      "image/png": "[encoded data removed]"
     },
     "metadata": {
      "needs_background": "light"
     },
     "output_type": "display_data"
    }
   ],
   "source": [
    "pos_encoding = positional_encoding(50, 512)\n",
    "print (pos_encoding.shape)\n",
    "\n",
    "plt.pcolormesh(pos_encoding[0], cmap='RdBu')\n",
    "plt.xlabel('Depth')\n",
    "plt.xlim((0, 512))\n",
    "plt.ylabel('Position')\n",
    "plt.colorbar()\n",
    "plt.show()"
   ]
  },
  {
   "cell_type": "markdown",
   "metadata": {
    "id": "a_b4ou4TYqUN"
   },
   "source": [
    "## Masking"
   ]
  },
  {
   "cell_type": "markdown",
   "metadata": {
    "id": "s42Uydjkv0hF"
   },
   "source": [
    "Mask all the pad tokens in the batch of sequence. It ensures that the model does not treat padding as the input.\n",
    "The mask indicates where pad value `0` is present: it outputs a `1` at those locations, and a `0` otherwise."
   ]
  },
  {
   "cell_type": "code",
   "execution_count": 18,
   "metadata": {
    "execution": {
     "iopub.execute_input": "2021-01-08T06:10:23.328406Z",
     "iopub.status.busy": "2021-01-08T06:10:23.327788Z",
     "iopub.status.idle": "2021-01-08T06:10:23.329999Z",
     "shell.execute_reply": "2021-01-08T06:10:23.329567Z"
    },
    "id": "U2i8-e1s8ti9"
   },
   "outputs": [],
   "source": [
    "def create_padding_mask(seq):\n",
    "  seq = tf.cast(tf.math.equal(seq, 0), tf.float32)\n",
    "  \n",
    "  # add extra dimensions to add the padding\n",
    "  # to the attention logits.\n",
    "  return seq[:, tf.newaxis, tf.newaxis, :]  # (batch_size, 1, 1, seq_len)"
   ]
  },
  {
   "cell_type": "code",
   "execution_count": 19,
   "metadata": {
    "execution": {
     "iopub.execute_input": "2021-01-08T06:10:23.333826Z",
     "iopub.status.busy": "2021-01-08T06:10:23.333253Z",
     "iopub.status.idle": "2021-01-08T06:10:23.337880Z",
     "shell.execute_reply": "2021-01-08T06:10:23.337473Z"
    },
    "id": "A7BYeBCNvi7n"
   },
   "outputs": [
    {
     "data": {
      "text/plain": "<tf.Tensor: shape=(3, 1, 1, 5), dtype=float32, numpy=\narray([[[[0., 0., 1., 1., 0.]]],\n\n\n       [[[0., 0., 0., 1., 1.]]],\n\n\n       [[[1., 1., 1., 0., 0.]]]], dtype=float32)>"
     },
     "execution_count": 19,
     "metadata": {},
     "output_type": "execute_result"
    }
   ],
   "source": [
    "x = tf.constant([[7, 6, 0, 0, 1], [1, 2, 3, 0, 0], [0, 0, 0, 4, 5]])\n",
    "create_padding_mask(x)"
   ]
  },
  {
   "cell_type": "markdown",
   "metadata": {
    "id": "Z0hzukDBgVom"
   },
   "source": [
    "The look-ahead mask is used to mask the future tokens in a sequence. In other words, the mask indicates which\n",
    "entries should not be used.\n",
    "\n",
    "This means that to predict the third word, only the first and second word will be used. Similarly to predict the\n",
    "fourth word, only the first, second, and the third word will be used and so on."
   ]
  },
  {
   "cell_type": "code",
   "execution_count": 20,
   "metadata": {
    "execution": {
     "iopub.execute_input": "2021-01-08T06:10:23.341621Z",
     "iopub.status.busy": "2021-01-08T06:10:23.341054Z",
     "iopub.status.idle": "2021-01-08T06:10:23.342738Z",
     "shell.execute_reply": "2021-01-08T06:10:23.343123Z"
    },
    "id": "dVxS8OPI9uI0"
   },
   "outputs": [],
   "source": [
    "def create_look_ahead_mask(size):\n",
    "  mask = 1 - tf.linalg.band_part(tf.ones((size, size)), -1, 0)\n",
    "  return mask  # (seq_len, seq_len)"
   ]
  },
  {
   "cell_type": "code",
   "execution_count": 21,
   "metadata": {
    "execution": {
     "iopub.execute_input": "2021-01-08T06:10:23.346712Z",
     "iopub.status.busy": "2021-01-08T06:10:23.346143Z",
     "iopub.status.idle": "2021-01-08T06:10:23.350451Z",
     "shell.execute_reply": "2021-01-08T06:10:23.350024Z"
    },
    "id": "yxKGuXxaBeeE"
   },
   "outputs": [
    {
     "data": {
      "text/plain": "<tf.Tensor: shape=(3, 3), dtype=float32, numpy=\narray([[0., 1., 1.],\n       [0., 0., 1.],\n       [0., 0., 0.]], dtype=float32)>"
     },
     "execution_count": 21,
     "metadata": {},
     "output_type": "execute_result"
    }
   ],
   "source": [
    "x = tf.random.uniform((1, 3))\n",
    "temp = create_look_ahead_mask(x.shape[1])\n",
    "temp"
   ]
  },
  {
   "cell_type": "markdown",
   "metadata": {
    "id": "xluDl5cXYy4y"
   },
   "source": [
    "## Scaled dot product attention"
   ]
  },
  {
   "cell_type": "markdown",
   "metadata": {
    "id": "vsxEE_-Wa1gF"
   },
   "source": [
    "<img src=\"https://www.tensorflow.org/images/tutorials/transformer/scaled_attention.png\" width=\"500\"\n",
    "alt=\"scaled_dot_product_attention\">\n",
    "\n",
    "The attention function used by the transformer takes three inputs: Q (query), K (key), V (value). The equation used\n",
    "to calculate the attention weights is:\n",
    "\n",
    "$$\\Large{Attention(Q, K, V) = softmax_k(\\frac{QK^T}{\\sqrt{d_k}}) V} $$\n",
    "\n",
    "The dot-product attention is scaled by a factor of square root of the depth. This is done because for large values\n",
    "of depth, the dot product grows large in magnitude pushing the softmax function where it has small gradients\n",
    "resulting in a very hard softmax.\n",
    "\n",
    "For example, consider that `Q` and `K` have a mean of 0 and variance of 1. Their matrix multiplication will have a\n",
    "mean of 0 and variance of `dk`. Hence, *square root of `dk`* is used for scaling (and not any other number) because\n",
    "the matmul of `Q` and `K` should have a mean of 0 and variance of 1, and you get a gentler softmax.\n",
    "\n",
    "The mask is multiplied with -1e9 (close to negative infinity). This is done because the mask is summed with the\n",
    "scaled matrix multiplication of Q and K and is applied immediately before a softmax. The goal is to zero out\n",
    "these cells, and large negative inputs to softmax are near zero in the output."
   ]
  },
  {
   "cell_type": "code",
   "execution_count": 22,
   "metadata": {
    "execution": {
     "iopub.execute_input": "2021-01-08T06:10:23.356278Z",
     "iopub.status.busy": "2021-01-08T06:10:23.355713Z",
     "iopub.status.idle": "2021-01-08T06:10:23.357444Z",
     "shell.execute_reply": "2021-01-08T06:10:23.357784Z"
    },
    "id": "LazzUq3bJ5SH"
   },
   "outputs": [],
   "source": [
    "def scaled_dot_product_attention(q, k, v, mask):\n",
    "  \"\"\"Calculate the attention weights.\n",
    "  q, k, v must have matching leading dimensions.\n",
    "  k, v must have matching penultimate dimension, i.e.: seq_len_k = seq_len_v.\n",
    "  The mask has different shapes depending on its type(padding or look ahead) \n",
    "  but it must be broadcastable for addition.\n",
    "  \n",
    "  Args:\n",
    "    q: query shape == (..., seq_len_q, depth)\n",
    "    k: key shape == (..., seq_len_k, depth)\n",
    "    v: value shape == (..., seq_len_v, depth_v)\n",
    "    mask: Float tensor with shape broadcastable \n",
    "          to (..., seq_len_q, seq_len_k). Defaults to None.\n",
    "    \n",
    "  Returns:\n",
    "    output, attention_weights\n",
    "  \"\"\"\n",
    "\n",
    "  matmul_qk = tf.matmul(q, k, transpose_b=True)  # (..., seq_len_q, seq_len_k)\n",
    "  \n",
    "  # scale matmul_qk\n",
    "  dk = tf.cast(tf.shape(k)[-1], tf.float32)\n",
    "  scaled_attention_logits = matmul_qk / tf.math.sqrt(dk)\n",
    "\n",
    "  # add the mask to the scaled tensor.\n",
    "  if mask is not None:\n",
    "    scaled_attention_logits += (mask * -1e9)  \n",
    "\n",
    "  # softmax is normalized on the last axis (seq_len_k) so that the scores\n",
    "  # add up to 1.\n",
    "  attention_weights = tf.nn.softmax(scaled_attention_logits, axis=-1)  # (..., seq_len_q, seq_len_k)\n",
    "\n",
    "  output = tf.matmul(attention_weights, v)  # (..., seq_len_q, depth_v)\n",
    "\n",
    "  return output, attention_weights"
   ]
  },
  {
   "cell_type": "markdown",
   "metadata": {
    "id": "FiqETnhCkoXh"
   },
   "source": [
    "As the softmax normalization is done on K, its values decide the amount of importance given to Q.\n",
    "\n",
    "The output represents the multiplication of the attention weights, and the V (value) vector. This ensures that\n",
    "the words you want to focus on are kept as-is, and the irrelevant words are flushed out."
   ]
  },
  {
   "cell_type": "code",
   "execution_count": 23,
   "metadata": {
    "execution": {
     "iopub.execute_input": "2021-01-08T06:10:23.361702Z",
     "iopub.status.busy": "2021-01-08T06:10:23.361094Z",
     "iopub.status.idle": "2021-01-08T06:10:23.362841Z",
     "shell.execute_reply": "2021-01-08T06:10:23.363188Z"
    },
    "id": "n90YjClyInFy"
   },
   "outputs": [],
   "source": [
    "def print_out(q, k, v):\n",
    "  temp_out, temp_attn = scaled_dot_product_attention(\n",
    "      q, k, v, None)\n",
    "  print ('Attention weights are:')\n",
    "  print (temp_attn)\n",
    "  print ('Output is:')\n",
    "  print (temp_out)"
   ]
  },
  {
   "cell_type": "code",
   "execution_count": 24,
   "metadata": {
    "execution": {
     "iopub.execute_input": "2021-01-08T06:10:23.368287Z",
     "iopub.status.busy": "2021-01-08T06:10:23.367721Z",
     "iopub.status.idle": "2021-01-08T06:10:23.673538Z",
     "shell.execute_reply": "2021-01-08T06:10:23.673914Z"
    },
    "id": "yAzUAf2DPlNt"
   },
   "outputs": [
    {
     "name": "stdout",
     "output_type": "stream",
     "text": [
      "Attention weights are:\n",
      "tf.Tensor([[0. 1. 0. 0.]], shape=(1, 4), dtype=float32)\n",
      "Output is:\n",
      "tf.Tensor([[10.  0.]], shape=(1, 2), dtype=float32)\n"
     ]
    }
   ],
   "source": [
    "np.set_printoptions(suppress=True)\n",
    "\n",
    "temp_k = tf.constant([[10,0,0],\n",
    "                      [0,10,0],\n",
    "                      [0,0,10],\n",
    "                      [0,0,10]], dtype=tf.float32)  # (4, 3)\n",
    "\n",
    "temp_v = tf.constant([[   1,0],\n",
    "                      [  10,0],\n",
    "                      [ 100,5],\n",
    "                      [1000,6]], dtype=tf.float32)  # (4, 2)\n",
    "\n",
    "# This `query` aligns with the second `key`,\n",
    "# so the second `value` is returned.\n",
    "temp_q = tf.constant([[0, 10, 0]], dtype=tf.float32)  # (1, 3)\n",
    "print_out(temp_q, temp_k, temp_v)"
   ]
  },
  {
   "cell_type": "code",
   "execution_count": 25,
   "metadata": {
    "execution": {
     "iopub.execute_input": "2021-01-08T06:10:23.679682Z",
     "iopub.status.busy": "2021-01-08T06:10:23.679088Z",
     "iopub.status.idle": "2021-01-08T06:10:23.682102Z",
     "shell.execute_reply": "2021-01-08T06:10:23.681616Z"
    },
    "id": "zg6k-fGhgXra"
   },
   "outputs": [
    {
     "name": "stdout",
     "output_type": "stream",
     "text": [
      "Attention weights are:\n",
      "tf.Tensor([[0.  0.  0.5 0.5]], shape=(1, 4), dtype=float32)\n",
      "Output is:\n",
      "tf.Tensor([[550.    5.5]], shape=(1, 2), dtype=float32)\n"
     ]
    }
   ],
   "source": [
    "# This query aligns with a repeated key (third and fourth), \n",
    "# so all associated values get averaged.\n",
    "temp_q = tf.constant([[0, 0, 10]], dtype=tf.float32)  # (1, 3)\n",
    "print_out(temp_q, temp_k, temp_v)"
   ]
  },
  {
   "cell_type": "code",
   "execution_count": 26,
   "metadata": {
    "execution": {
     "iopub.execute_input": "2021-01-08T06:10:23.686000Z",
     "iopub.status.busy": "2021-01-08T06:10:23.685384Z",
     "iopub.status.idle": "2021-01-08T06:10:23.689440Z",
     "shell.execute_reply": "2021-01-08T06:10:23.689785Z"
    },
    "id": "UAq3YOzUgXhb"
   },
   "outputs": [
    {
     "name": "stdout",
     "output_type": "stream",
     "text": [
      "Attention weights are:\n",
      "tf.Tensor([[0.5 0.5 0.  0. ]], shape=(1, 4), dtype=float32)\n",
      "Output is:\n",
      "tf.Tensor([[5.5 0. ]], shape=(1, 2), dtype=float32)\n"
     ]
    }
   ],
   "source": [
    "# This query aligns equally with the first and second key, \n",
    "# so their values get averaged.\n",
    "temp_q = tf.constant([[10, 10, 0]], dtype=tf.float32)  # (1, 3)\n",
    "print_out(temp_q, temp_k, temp_v)"
   ]
  },
  {
   "cell_type": "markdown",
   "metadata": {
    "id": "aOz-4_XIhaTP"
   },
   "source": [
    "Pass all the queries together."
   ]
  },
  {
   "cell_type": "code",
   "execution_count": 27,
   "metadata": {
    "execution": {
     "iopub.execute_input": "2021-01-08T06:10:23.694048Z",
     "iopub.status.busy": "2021-01-08T06:10:23.693439Z",
     "iopub.status.idle": "2021-01-08T06:10:23.697405Z",
     "shell.execute_reply": "2021-01-08T06:10:23.697751Z"
    },
    "id": "6dlU8Tm-hYrF"
   },
   "outputs": [
    {
     "name": "stdout",
     "output_type": "stream",
     "text": [
      "Attention weights are:\n",
      "tf.Tensor(\n",
      "[[0.  0.  0.5 0.5]\n",
      " [0.  1.  0.  0. ]\n",
      " [0.5 0.5 0.  0. ]], shape=(3, 4), dtype=float32)\n",
      "Output is:\n",
      "tf.Tensor(\n",
      "[[550.    5.5]\n",
      " [ 10.    0. ]\n",
      " [  5.5   0. ]], shape=(3, 2), dtype=float32)\n"
     ]
    }
   ],
   "source": [
    "temp_q = tf.constant([[0, 0, 10], [0, 10, 0], [10, 10, 0]], dtype=tf.float32)  # (3, 3)\n",
    "print_out(temp_q, temp_k, temp_v)"
   ]
  },
  {
   "cell_type": "markdown",
   "metadata": {
    "id": "kmzGPEy64qmA"
   },
   "source": [
    "## Multi-head attention"
   ]
  },
  {
   "cell_type": "markdown",
   "metadata": {
    "id": "fz5BMC8Kaoqo"
   },
   "source": [
    "<img src=\"https://www.tensorflow.org/images/tutorials/transformer/multi_head_attention.png\" width=\"500\"\n",
    "alt=\"multi-head attention\">\n",
    "\n",
    "\n",
    "Multi-head attention consists of four parts:\n",
    "*    Linear layers and split into heads.\n",
    "*    Scaled dot-product attention.\n",
    "*    Concatenation of heads.\n",
    "*    Final linear layer."
   ]
  },
  {
   "cell_type": "markdown",
   "metadata": {
    "id": "JPmbr6F1C-v_"
   },
   "source": [
    "Each multi-head attention block gets three inputs; Q (query), K (key), V (value). These are put through linear\n",
    "(Dense) layers and split up into multiple heads.\n",
    "\n",
    "The `scaled_dot_product_attention` defined above is applied to each head (broadcasted for efficiency). An\n",
    "appropriate mask must be used in the attention step.  The attention output for each head is then concatenated\n",
    "(using `tf.transpose`, and `tf.reshape`) and put through a final `Dense` layer.\n",
    "\n",
    "Instead of one single attention head, Q, K, and V are split into multiple heads because it allows the model to\n",
    "jointly attend to information at different positions from different representational spaces. After the split\n",
    "each head has a reduced dimensionality, so the total computation cost is the same as a single head attention\n",
    "with full dimensionality."
   ]
  },
  {
   "cell_type": "code",
   "execution_count": 28,
   "metadata": {
    "execution": {
     "iopub.execute_input": "2021-01-08T06:10:23.707027Z",
     "iopub.status.busy": "2021-01-08T06:10:23.706471Z",
     "iopub.status.idle": "2021-01-08T06:10:23.708646Z",
     "shell.execute_reply": "2021-01-08T06:10:23.708244Z"
    },
    "id": "BSV3PPKsYecw"
   },
   "outputs": [],
   "source": [
    "class MultiHeadAttention(tf.keras.layers.Layer):\n",
    "  def __init__(self, d_model, num_heads):\n",
    "    super(MultiHeadAttention, self).__init__()\n",
    "    self.num_heads = num_heads\n",
    "    self.d_model = d_model\n",
    "    \n",
    "    assert d_model % self.num_heads == 0\n",
    "    \n",
    "    self.depth = d_model // self.num_heads\n",
    "    \n",
    "    self.wq = tf.keras.layers.Dense(d_model)\n",
    "    self.wk = tf.keras.layers.Dense(d_model)\n",
    "    self.wv = tf.keras.layers.Dense(d_model)\n",
    "    \n",
    "    self.dense = tf.keras.layers.Dense(d_model)\n",
    "        \n",
    "  def split_heads(self, x, batch_size):\n",
    "    \"\"\"Split the last dimension into (num_heads, depth).\n",
    "    Transpose the result such that the shape is (batch_size, num_heads, seq_len, depth)\n",
    "    \"\"\"\n",
    "    x = tf.reshape(x, (batch_size, -1, self.num_heads, self.depth))\n",
    "    return tf.transpose(x, perm=[0, 2, 1, 3])\n",
    "    \n",
    "  def call(self, v, k, q, mask):\n",
    "    batch_size = tf.shape(q)[0]\n",
    "    \n",
    "    q = self.wq(q)  # (batch_size, seq_len, d_model)\n",
    "    k = self.wk(k)  # (batch_size, seq_len, d_model)\n",
    "    v = self.wv(v)  # (batch_size, seq_len, d_model)\n",
    "    \n",
    "    q = self.split_heads(q, batch_size)  # (batch_size, num_heads, seq_len_q, depth)\n",
    "    k = self.split_heads(k, batch_size)  # (batch_size, num_heads, seq_len_k, depth)\n",
    "    v = self.split_heads(v, batch_size)  # (batch_size, num_heads, seq_len_v, depth)\n",
    "    \n",
    "    # scaled_attention.shape == (batch_size, num_heads, seq_len_q, depth)\n",
    "    # attention_weights.shape == (batch_size, num_heads, seq_len_q, seq_len_k)\n",
    "    scaled_attention, attention_weights = scaled_dot_product_attention(q, k, v, mask)\n",
    "    \n",
    "    scaled_attention = tf.transpose(scaled_attention, perm=[0, 2, 1, 3])  # (batch_size, seq_len_q, num_heads, depth)\n",
    "\n",
    "    concat_attention = tf.reshape(scaled_attention, \n",
    "                                  (batch_size, -1, self.d_model))  # (batch_size, seq_len_q, d_model)\n",
    "\n",
    "    output = self.dense(concat_attention)  # (batch_size, seq_len_q, d_model)\n",
    "        \n",
    "    return output, attention_weights"
   ]
  },
  {
   "cell_type": "markdown",
   "metadata": {
    "id": "0D8FJue5lDyZ"
   },
   "source": [
    "Create a `MultiHeadAttention` layer to try out. At each location in the sequence, `y`, the `MultiHeadAttention`\n",
    " runs all 8 attention heads across all other locations in the sequence, returning a new vector of the same length\n",
    " at each location."
   ]
  },
  {
   "cell_type": "code",
   "execution_count": 29,
   "metadata": {
    "execution": {
     "iopub.execute_input": "2021-01-08T06:10:23.722835Z",
     "iopub.status.busy": "2021-01-08T06:10:23.712420Z",
     "iopub.status.idle": "2021-01-08T06:10:23.745585Z",
     "shell.execute_reply": "2021-01-08T06:10:23.745927Z"
    },
    "id": "Hu94p-_-2_BX"
   },
   "outputs": [
    {
     "data": {
      "text/plain": "(TensorShape([1, 60, 512]), TensorShape([1, 8, 60, 60]))"
     },
     "execution_count": 29,
     "metadata": {},
     "output_type": "execute_result"
    }
   ],
   "source": [
    "temp_mha = MultiHeadAttention(d_model=512, num_heads=8)\n",
    "y = tf.random.uniform((1, 60, 512))  # (batch_size, encoder_sequence, d_model)\n",
    "out, attn = temp_mha(y, k=y, q=y, mask=None)\n",
    "out.shape, attn.shape"
   ]
  },
  {
   "cell_type": "markdown",
   "metadata": {
    "id": "RdDqGayx67vv"
   },
   "source": [
    "## Point wise feed forward network"
   ]
  },
  {
   "cell_type": "markdown",
   "metadata": {
    "id": "gBqzJXGfHK3X"
   },
   "source": [
    "Point wise feed forward network consists of two fully-connected layers with a ReLU activation in between."
   ]
  },
  {
   "cell_type": "code",
   "execution_count": 30,
   "metadata": {
    "execution": {
     "iopub.execute_input": "2021-01-08T06:10:23.750083Z",
     "iopub.status.busy": "2021-01-08T06:10:23.749537Z",
     "iopub.status.idle": "2021-01-08T06:10:23.751266Z",
     "shell.execute_reply": "2021-01-08T06:10:23.751610Z"
    },
    "id": "ET7xLt0yCT6Z"
   },
   "outputs": [],
   "source": [
    "def point_wise_feed_forward_network(d_model, dff):\n",
    "  return tf.keras.Sequential([\n",
    "      tf.keras.layers.Dense(dff, activation='relu'),  # (batch_size, seq_len, dff)\n",
    "      tf.keras.layers.Dense(d_model)  # (batch_size, seq_len, d_model)\n",
    "  ])"
   ]
  },
  {
   "cell_type": "code",
   "execution_count": 31,
   "metadata": {
    "execution": {
     "iopub.execute_input": "2021-01-08T06:10:23.757790Z",
     "iopub.status.busy": "2021-01-08T06:10:23.757230Z",
     "iopub.status.idle": "2021-01-08T06:10:23.781012Z",
     "shell.execute_reply": "2021-01-08T06:10:23.781387Z"
    },
    "id": "mytb1lPyOHLB"
   },
   "outputs": [
    {
     "data": {
      "text/plain": "TensorShape([64, 50, 512])"
     },
     "execution_count": 31,
     "metadata": {},
     "output_type": "execute_result"
    }
   ],
   "source": [
    "sample_ffn = point_wise_feed_forward_network(512, 2048)\n",
    "sample_ffn(tf.random.uniform((64, 50, 512))).shape"
   ]
  },
  {
   "cell_type": "markdown",
   "metadata": {
    "id": "7e7hKcxn6-zd"
   },
   "source": [
    "## Encoder and decoder"
   ]
  },
  {
   "cell_type": "markdown",
   "metadata": {
    "id": "yScbC0MUH8dS"
   },
   "source": [
    "<img src=\"https://www.tensorflow.org/images/tutorials/transformer/transformer.png\" width=\"600\" alt=\"transformer\">"
   ]
  },
  {
   "cell_type": "markdown",
   "metadata": {
    "id": "MfYJG-Kvgwy2"
   },
   "source": [
    "The transformer model follows the same general pattern as a standard\n",
    "[sequence to sequence with attention model](nmt_with_attention.ipynb).\n",
    "\n",
    "* The input sentence is passed through `N` encoder layers that generates an output for each word/token in the sequence.\n",
    "* The decoder attends on the encoder's output and its own input (self-attention) to predict the next word. "
   ]
  },
  {
   "cell_type": "markdown",
   "metadata": {
    "id": "QFv-FNYUmvpn"
   },
   "source": [
    "### Encoder layer\n",
    "\n",
    "Each encoder layer consists of sublayers:\n",
    "\n",
    "1. Multi-head attention (with padding mask)\n",
    "2. Point wise feed forward networks.\n",
    "\n",
    "Each of these sublayers has a residual connection around it followed by a layer normalization. Residual connections\n",
    "help in avoiding the vanishing gradient problem in deep networks.\n",
    "\n",
    "The output of each sublayer is `LayerNorm(x + Sublayer(x))`. The normalization is done on the `d_model` (last)\n",
    "axis. There are N encoder layers in the transformer."
   ]
  },
  {
   "cell_type": "code",
   "execution_count": 32,
   "metadata": {
    "execution": {
     "iopub.execute_input": "2021-01-08T06:10:23.788442Z",
     "iopub.status.busy": "2021-01-08T06:10:23.787861Z",
     "iopub.status.idle": "2021-01-08T06:10:23.789767Z",
     "shell.execute_reply": "2021-01-08T06:10:23.789335Z"
    },
    "id": "ncyS-Ms3i2x_"
   },
   "outputs": [],
   "source": [
    "class EncoderLayer(tf.keras.layers.Layer):\n",
    "  def __init__(self, d_model, num_heads, dff, rate=0.1):\n",
    "    super(EncoderLayer, self).__init__()\n",
    "\n",
    "    self.mha = MultiHeadAttention(d_model, num_heads)\n",
    "    self.ffn = point_wise_feed_forward_network(d_model, dff)\n",
    "\n",
    "    self.layernorm1 = tf.keras.layers.LayerNormalization(epsilon=1e-6)\n",
    "    self.layernorm2 = tf.keras.layers.LayerNormalization(epsilon=1e-6)\n",
    "    \n",
    "    self.dropout1 = tf.keras.layers.Dropout(rate)\n",
    "    self.dropout2 = tf.keras.layers.Dropout(rate)\n",
    "    \n",
    "  def call(self, x, training, mask):\n",
    "\n",
    "    attn_output, _ = self.mha(x, x, x, mask)  # (batch_size, input_seq_len, d_model)\n",
    "    attn_output = self.dropout1(attn_output, training=training)\n",
    "    out1 = self.layernorm1(x + attn_output)  # (batch_size, input_seq_len, d_model)\n",
    "    \n",
    "    ffn_output = self.ffn(out1)  # (batch_size, input_seq_len, d_model)\n",
    "    ffn_output = self.dropout2(ffn_output, training=training)\n",
    "    out2 = self.layernorm2(out1 + ffn_output)  # (batch_size, input_seq_len, d_model)\n",
    "    \n",
    "    return out2"
   ]
  },
  {
   "cell_type": "code",
   "execution_count": 33,
   "metadata": {
    "execution": {
     "iopub.execute_input": "2021-01-08T06:10:23.800358Z",
     "iopub.status.busy": "2021-01-08T06:10:23.799796Z",
     "iopub.status.idle": "2021-01-08T06:10:23.842961Z",
     "shell.execute_reply": "2021-01-08T06:10:23.842532Z"
    },
    "id": "AzZRXdO0mI48"
   },
   "outputs": [
    {
     "data": {
      "text/plain": "TensorShape([64, 43, 512])"
     },
     "execution_count": 33,
     "metadata": {},
     "output_type": "execute_result"
    }
   ],
   "source": [
    "sample_encoder_layer = EncoderLayer(512, 8, 2048)\n",
    "\n",
    "sample_encoder_layer_output = sample_encoder_layer(tf.random.uniform((64, 43, 512)), False, None)\n",
    "\n",
    "sample_encoder_layer_output.shape  # (batch_size, input_seq_len, d_model)"
   ]
  },
  {
   "cell_type": "markdown",
   "metadata": {
    "id": "6LO_48Owmx_o"
   },
   "source": [
    "### Decoder layer\n",
    "\n",
    "Each decoder layer consists of sublayers:\n",
    "\n",
    "1.   Masked multi-head attention (with look ahead mask and padding mask)\n",
    "2.   Multi-head attention (with padding mask). V (value) and K (key) receive the *encoder output* as inputs.\n",
    "Q (query) receives the *output from the masked multi-head attention sublayer.*\n",
    "3.   Point wise feed forward networks\n",
    "\n",
    "Each of these sublayers has a residual connection around it followed by a layer normalization. The output of each\n",
    "sublayer is `LayerNorm(x + Sublayer(x))`. The normalization is done on the `d_model` (last) axis.\n",
    "\n",
    "There are N decoder layers in the transformer.\n",
    "\n",
    "As Q receives the output from decoder's first attention block, and K receives the encoder output, the attention\n",
    "weights represent the importance given to the decoder's input based on the encoder's output. In other words, the\n",
    "decoder predicts the next word by looking at the encoder output and self-attending to its own output. See the\n",
    "demonstration above in the scaled dot product attention section."
   ]
  },
  {
   "cell_type": "code",
   "execution_count": 34,
   "metadata": {
    "execution": {
     "iopub.execute_input": "2021-01-08T06:10:23.847268Z",
     "iopub.status.busy": "2021-01-08T06:10:23.846689Z",
     "iopub.status.idle": "2021-01-08T06:10:23.853560Z",
     "shell.execute_reply": "2021-01-08T06:10:23.853096Z"
    },
    "id": "9SoX0-vd1hue"
   },
   "outputs": [],
   "source": [
    "class DecoderLayer(tf.keras.layers.Layer):\n",
    "  def __init__(self, d_model, num_heads, dff, rate=0.1):\n",
    "    super(DecoderLayer, self).__init__()\n",
    "\n",
    "    self.mha1 = MultiHeadAttention(d_model, num_heads)\n",
    "    self.mha2 = MultiHeadAttention(d_model, num_heads)\n",
    "\n",
    "    self.ffn = point_wise_feed_forward_network(d_model, dff)\n",
    " \n",
    "    self.layernorm1 = tf.keras.layers.LayerNormalization(epsilon=1e-6)\n",
    "    self.layernorm2 = tf.keras.layers.LayerNormalization(epsilon=1e-6)\n",
    "    self.layernorm3 = tf.keras.layers.LayerNormalization(epsilon=1e-6)\n",
    "    \n",
    "    self.dropout1 = tf.keras.layers.Dropout(rate)\n",
    "    self.dropout2 = tf.keras.layers.Dropout(rate)\n",
    "    self.dropout3 = tf.keras.layers.Dropout(rate)\n",
    "    \n",
    "    \n",
    "  def call(self, x, enc_output, training, \n",
    "           look_ahead_mask, padding_mask):\n",
    "    # enc_output.shape == (batch_size, input_seq_len, d_model)\n",
    "\n",
    "    attn1, attn_weights_block1 = self.mha1(x, x, x, look_ahead_mask)  # (batch_size, target_seq_len, d_model)\n",
    "    attn1 = self.dropout1(attn1, training=training)\n",
    "    out1 = self.layernorm1(attn1 + x)   # Q\n",
    "    \n",
    "    attn2, attn_weights_block2 = self.mha2(\n",
    "        enc_output, enc_output, out1, padding_mask)  # (batch_size, target_seq_len, d_model)\n",
    "          # V          # K      # Q\n",
    "\n",
    "    attn2 = self.dropout2(attn2, training=training)\n",
    "    out2 = self.layernorm2(attn2 + out1)  # (batch_size, target_seq_len, d_model)\n",
    "    \n",
    "    ffn_output = self.ffn(out2)  # (batch_size, target_seq_len, d_model)\n",
    "    ffn_output = self.dropout3(ffn_output, training=training)\n",
    "    out3 = self.layernorm3(ffn_output + out2)  # (batch_size, target_seq_len, d_model)\n",
    "    \n",
    "    return out3, attn_weights_block1, attn_weights_block2"
   ]
  },
  {
   "cell_type": "code",
   "execution_count": 35,
   "metadata": {
    "execution": {
     "iopub.execute_input": "2021-01-08T06:10:23.865026Z",
     "iopub.status.busy": "2021-01-08T06:10:23.864430Z",
     "iopub.status.idle": "2021-01-08T06:10:23.910381Z",
     "shell.execute_reply": "2021-01-08T06:10:23.910754Z"
    },
    "id": "Ne2Bqx8k71l0"
   },
   "outputs": [
    {
     "data": {
      "text/plain": "TensorShape([64, 50, 512])"
     },
     "execution_count": 35,
     "metadata": {},
     "output_type": "execute_result"
    }
   ],
   "source": [
    "sample_decoder_layer = DecoderLayer(512, 8, 2048)\n",
    "\n",
    "sample_decoder_layer_output, _, _ = sample_decoder_layer(\n",
    "    tf.random.uniform((64, 50, 512)), sample_encoder_layer_output, \n",
    "    False, None, None)\n",
    "\n",
    "sample_decoder_layer_output.shape  # (batch_size, target_seq_len, d_model)"
   ]
  },
  {
   "cell_type": "markdown",
   "metadata": {
    "id": "SE1H51Ajm0q1"
   },
   "source": [
    "### Encoder\n",
    "\n",
    "The `Encoder` consists of:\n",
    "1.   Input Embedding\n",
    "2.   Positional Encoding\n",
    "3.   N encoder layers\n",
    "\n",
    "The input is put through an embedding which is summed with the positional encoding. The output of this summation\n",
    "is the input to the encoder layers. The output of the encoder is the input to the decoder."
   ]
  },
  {
   "cell_type": "code",
   "execution_count": 36,
   "metadata": {
    "execution": {
     "iopub.execute_input": "2021-01-08T06:10:23.917979Z",
     "iopub.status.busy": "2021-01-08T06:10:23.917412Z",
     "iopub.status.idle": "2021-01-08T06:10:23.919428Z",
     "shell.execute_reply": "2021-01-08T06:10:23.918934Z"
    },
    "id": "jpEox7gJ8FCI"
   },
   "outputs": [],
   "source": [
    "class Encoder(tf.keras.layers.Layer):\n",
    "  def __init__(self, num_layers, d_model, num_heads, dff, input_vocab_size,\n",
    "               maximum_position_encoding, rate=0.1):\n",
    "    super(Encoder, self).__init__()\n",
    "\n",
    "    self.d_model = d_model\n",
    "    self.num_layers = num_layers\n",
    "    \n",
    "    self.embedding = tf.keras.layers.Embedding(input_vocab_size, d_model)\n",
    "    self.pos_encoding = positional_encoding(maximum_position_encoding, \n",
    "                                            self.d_model)\n",
    "    \n",
    "    \n",
    "    self.enc_layers = [EncoderLayer(d_model, num_heads, dff, rate) \n",
    "                       for _ in range(num_layers)]\n",
    "  \n",
    "    self.dropout = tf.keras.layers.Dropout(rate)\n",
    "        \n",
    "  def call(self, x, training, mask):\n",
    "\n",
    "    seq_len = tf.shape(x)[1]\n",
    "    \n",
    "    # adding embedding and position encoding.\n",
    "    x = self.embedding(x)  # (batch_size, input_seq_len, d_model)\n",
    "    x *= tf.math.sqrt(tf.cast(self.d_model, tf.float32))\n",
    "    x += self.pos_encoding[:, :seq_len, :]\n",
    "\n",
    "    x = self.dropout(x, training=training)\n",
    "    \n",
    "    for i in range(self.num_layers):\n",
    "      x = self.enc_layers[i](x, training, mask)\n",
    "    \n",
    "    return x  # (batch_size, input_seq_len, d_model)"
   ]
  },
  {
   "cell_type": "code",
   "execution_count": 37,
   "metadata": {
    "execution": {
     "iopub.execute_input": "2021-01-08T06:10:23.927599Z",
     "iopub.status.busy": "2021-01-08T06:10:23.927038Z",
     "iopub.status.idle": "2021-01-08T06:10:24.192759Z",
     "shell.execute_reply": "2021-01-08T06:10:24.193139Z"
    },
    "id": "8QG9nueFQKXx"
   },
   "outputs": [
    {
     "name": "stdout",
     "output_type": "stream",
     "text": [
      "(64, 62, 512)\n"
     ]
    }
   ],
   "source": [
    "sample_encoder = Encoder(num_layers=2, d_model=512, num_heads=8, \n",
    "                         dff=2048, input_vocab_size=8500,\n",
    "                         maximum_position_encoding=10000)\n",
    "temp_input = tf.random.uniform((64, 62), dtype=tf.int64, minval=0, maxval=200)\n",
    "\n",
    "sample_encoder_output = sample_encoder(temp_input, training=False, mask=None)\n",
    "\n",
    "print (sample_encoder_output.shape)  # (batch_size, input_seq_len, d_model)"
   ]
  },
  {
   "cell_type": "markdown",
   "metadata": {
    "id": "p-uO6ls8m2O5"
   },
   "source": [
    "### Decoder"
   ]
  },
  {
   "cell_type": "markdown",
   "metadata": {
    "id": "ZtT7PKzrXkNr"
   },
   "source": [
    " The `Decoder` consists of:\n",
    "1.   Output Embedding\n",
    "2.   Positional Encoding\n",
    "3.   N decoder layers\n",
    "\n",
    "The target is put through an embedding which is summed with the positional encoding. The output of this summation\n",
    "is the input to the decoder layers. The output of the decoder is the input to the final linear layer."
   ]
  },
  {
   "cell_type": "code",
   "execution_count": 38,
   "metadata": {
    "execution": {
     "iopub.execute_input": "2021-01-08T06:10:24.201869Z",
     "iopub.status.busy": "2021-01-08T06:10:24.201304Z",
     "iopub.status.idle": "2021-01-08T06:10:24.202902Z",
     "shell.execute_reply": "2021-01-08T06:10:24.203254Z"
    },
    "id": "d5_d5-PLQXwY"
   },
   "outputs": [],
   "source": [
    "class Decoder(tf.keras.layers.Layer):\n",
    "  def __init__(self, num_layers, d_model, num_heads, dff, target_vocab_size,\n",
    "               maximum_position_encoding, rate=0.1):\n",
    "    super(Decoder, self).__init__()\n",
    "\n",
    "    self.d_model = d_model\n",
    "    self.num_layers = num_layers\n",
    "    \n",
    "    self.embedding = tf.keras.layers.Embedding(target_vocab_size, d_model)\n",
    "    self.pos_encoding = positional_encoding(maximum_position_encoding, d_model)\n",
    "    \n",
    "    self.dec_layers = [DecoderLayer(d_model, num_heads, dff, rate) \n",
    "                       for _ in range(num_layers)]\n",
    "    self.dropout = tf.keras.layers.Dropout(rate)\n",
    "    \n",
    "  def call(self, x, enc_output, training, \n",
    "           look_ahead_mask, padding_mask):\n",
    "\n",
    "    seq_len = tf.shape(x)[1]\n",
    "    attention_weights = {}\n",
    "    \n",
    "    x = self.embedding(x)  # (batch_size, target_seq_len, d_model)\n",
    "    x *= tf.math.sqrt(tf.cast(self.d_model, tf.float32))\n",
    "    x += self.pos_encoding[:, :seq_len, :]\n",
    "    \n",
    "    x = self.dropout(x, training=training)\n",
    "\n",
    "    for i in range(self.num_layers):\n",
    "      x, block1, block2 = self.dec_layers[i](x, enc_output, training,\n",
    "                                             look_ahead_mask, padding_mask)\n",
    "      \n",
    "      attention_weights['decoder_layer{}_block1'.format(i+1)] = block1\n",
    "      attention_weights['decoder_layer{}_block2'.format(i+1)] = block2\n",
    "    \n",
    "    # x.shape == (batch_size, target_seq_len, d_model)\n",
    "    return x, attention_weights"
   ]
  },
  {
   "cell_type": "code",
   "execution_count": 39,
   "metadata": {
    "execution": {
     "iopub.execute_input": "2021-01-08T06:10:24.208750Z",
     "iopub.status.busy": "2021-01-08T06:10:24.208175Z",
     "iopub.status.idle": "2021-01-08T06:10:24.405402Z",
     "shell.execute_reply": "2021-01-08T06:10:24.404842Z"
    },
    "id": "a1jXoAMRZyvu"
   },
   "outputs": [
    {
     "data": {
      "text/plain": "(TensorShape([64, 26, 512]), TensorShape([64, 8, 26, 62]))"
     },
     "execution_count": 39,
     "metadata": {},
     "output_type": "execute_result"
    }
   ],
   "source": [
    "sample_decoder = Decoder(num_layers=2, d_model=512, num_heads=8, \n",
    "                         dff=2048, target_vocab_size=8000,\n",
    "                         maximum_position_encoding=5000)\n",
    "temp_input = tf.random.uniform((64, 26), dtype=tf.int64, minval=0, maxval=200)\n",
    "\n",
    "output, attn = sample_decoder(temp_input, \n",
    "                              enc_output=sample_encoder_output, \n",
    "                              training=False,\n",
    "                              look_ahead_mask=None, \n",
    "                              padding_mask=None)\n",
    "\n",
    "output.shape, attn['decoder_layer2_block2'].shape"
   ]
  },
  {
   "cell_type": "markdown",
   "metadata": {
    "id": "y54xnJnuYgJ7"
   },
   "source": [
    "## Create the Transformer"
   ]
  },
  {
   "cell_type": "markdown",
   "metadata": {
    "id": "uERO1y54cOKq"
   },
   "source": [
    "Transformer consists of the encoder, decoder and a final linear layer. The output of the decoder is the input to\n",
    "the linear layer and its output is returned."
   ]
  },
  {
   "cell_type": "code",
   "execution_count": 40,
   "metadata": {
    "execution": {
     "iopub.execute_input": "2021-01-08T06:10:24.411991Z",
     "iopub.status.busy": "2021-01-08T06:10:24.411418Z",
     "iopub.status.idle": "2021-01-08T06:10:24.413093Z",
     "shell.execute_reply": "2021-01-08T06:10:24.413442Z"
    },
    "id": "PED3bIpOYkBu"
   },
   "outputs": [],
   "source": [
    "class Transformer(tf.keras.Model):\n",
    "  def __init__(self, num_layers, d_model, num_heads, dff, input_vocab_size, \n",
    "               target_vocab_size, pe_input, pe_target, rate=0.1):\n",
    "    super(Transformer, self).__init__()\n",
    "\n",
    "    self.encoder = Encoder(num_layers, d_model, num_heads, dff, \n",
    "                           input_vocab_size, pe_input, rate)\n",
    "\n",
    "    self.decoder = Decoder(num_layers, d_model, num_heads, dff, \n",
    "                           target_vocab_size, pe_target, rate)\n",
    "\n",
    "    self.final_layer = tf.keras.layers.Dense(target_vocab_size)\n",
    "    \n",
    "  def call(self, inp, tar, training, enc_padding_mask, \n",
    "           look_ahead_mask, dec_padding_mask):\n",
    "\n",
    "    # this is the output of 6 consecutive encoder layers\n",
    "    enc_output = self.encoder(inp, training, enc_padding_mask)  # (batch_size, inp_seq_len, d_model)\n",
    "    \n",
    "    # dec_output.shape == (batch_size, tar_seq_len, d_model)\n",
    "    # encoder_output is then fed into each of the 6 decoder layers\n",
    "    dec_output, attention_weights = self.decoder(tar, enc_output, training, look_ahead_mask, dec_padding_mask)\n",
    "    \n",
    "    final_output = self.final_layer(dec_output)  # (batch_size, tar_seq_len, target_vocab_size)\n",
    "    \n",
    "    return final_output, attention_weights"
   ]
  },
  {
   "cell_type": "code",
   "execution_count": 41,
   "metadata": {
    "execution": {
     "iopub.execute_input": "2021-01-08T06:10:24.420454Z",
     "iopub.status.busy": "2021-01-08T06:10:24.419337Z",
     "iopub.status.idle": "2021-01-08T06:10:24.893888Z",
     "shell.execute_reply": "2021-01-08T06:10:24.893401Z"
    },
    "id": "tJ4fbQcIkHW1"
   },
   "outputs": [
    {
     "data": {
      "text/plain": "TensorShape([64, 36, 8000])"
     },
     "execution_count": 41,
     "metadata": {},
     "output_type": "execute_result"
    }
   ],
   "source": [
    "sample_transformer = Transformer(\n",
    "    num_layers=2, d_model=512, num_heads=8, dff=2048, \n",
    "    input_vocab_size=8500, target_vocab_size=8000, \n",
    "    pe_input=10000, pe_target=6000)\n",
    "\n",
    "temp_input = tf.random.uniform((64, 38), dtype=tf.int64, minval=0, maxval=200)\n",
    "temp_target = tf.random.uniform((64, 36), dtype=tf.int64, minval=0, maxval=200)\n",
    "\n",
    "fn_out, _ = sample_transformer(temp_input, temp_target, training=False, \n",
    "                               enc_padding_mask=None, \n",
    "                               look_ahead_mask=None,\n",
    "                               dec_padding_mask=None)\n",
    "\n",
    "fn_out.shape  # (batch_size, tar_seq_len, target_vocab_size)"
   ]
  },
  {
   "cell_type": "markdown",
   "metadata": {
    "id": "wsINyf1VEQLC"
   },
   "source": [
    "## Set hyperparameters"
   ]
  },
  {
   "cell_type": "markdown",
   "metadata": {
    "id": "zVjWCxFNcgbt"
   },
   "source": [
    "To keep this example small and relatively fast, the values for *num_layers, d_model, and dff* have been reduced. \n",
    "\n",
    "The values used in the base model of transformer were; *num_layers=6*, *d_model = 512*, *dff = 2048*. See the\n",
    "[paper](https://arxiv.org/abs/1706.03762) for all the other versions of the transformer.\n",
    "\n",
    "Note: By changing the values below, you can get the model that achieved state of the art on many tasks."
   ]
  },
  {
   "cell_type": "code",
   "execution_count": 42,
   "metadata": {
    "execution": {
     "iopub.execute_input": "2021-01-08T06:10:24.898151Z",
     "iopub.status.busy": "2021-01-08T06:10:24.897583Z",
     "iopub.status.idle": "2021-01-08T06:10:24.899289Z",
     "shell.execute_reply": "2021-01-08T06:10:24.899635Z"
    },
    "id": "lnJn5SLA2ahP"
   },
   "outputs": [],
   "source": [
    "num_layers = 4\n",
    "d_model = 128\n",
    "dff = 512\n",
    "num_heads = 8\n",
    "\n",
    "input_vocab_size = tokenizer_pt.vocab_size + 2\n",
    "target_vocab_size = tokenizer_en.vocab_size + 2\n",
    "dropout_rate = 0.1"
   ]
  },
  {
   "cell_type": "markdown",
   "metadata": {
    "id": "xYEGhEOtzn5W"
   },
   "source": [
    "## Optimizer"
   ]
  },
  {
   "cell_type": "markdown",
   "metadata": {
    "id": "GOmWW--yP3zx"
   },
   "source": [
    "Use the Adam optimizer with a custom learning rate scheduler according to the formula in the\n",
    "[paper](https://arxiv.org/abs/1706.03762).\n",
    "\n",
    "$$\\Large{lrate = d_{model}^{-0.5} * min(step{\\_}num^{-0.5}, step{\\_}num * warmup{\\_}steps^{-1.5})}$$\n"
   ]
  },
  {
   "cell_type": "code",
   "execution_count": 43,
   "metadata": {
    "execution": {
     "iopub.execute_input": "2021-01-08T06:10:24.905128Z",
     "iopub.status.busy": "2021-01-08T06:10:24.904462Z",
     "iopub.status.idle": "2021-01-08T06:10:24.906494Z",
     "shell.execute_reply": "2021-01-08T06:10:24.906089Z"
    },
    "id": "iYQdOO1axwEI"
   },
   "outputs": [],
   "source": [
    "class CustomSchedule(tf.keras.optimizers.schedules.LearningRateSchedule):\n",
    "\n",
    "  def __init__(self, d_model, warmup_steps=4000):\n",
    "    super(CustomSchedule, self).__init__()\n",
    "    \n",
    "    self.d_model = d_model\n",
    "    self.d_model = tf.cast(self.d_model, tf.float32)\n",
    "\n",
    "    self.warmup_steps = warmup_steps\n",
    "    \n",
    "  def __call__(self, step):\n",
    "    arg1 = tf.math.rsqrt(step)\n",
    "    arg2 = step * (self.warmup_steps ** -1.5)\n",
    "    \n",
    "    return tf.math.rsqrt(self.d_model) * tf.math.minimum(arg1, arg2)"
   ]
  },
  {
   "cell_type": "code",
   "execution_count": 44,
   "metadata": {
    "execution": {
     "iopub.execute_input": "2021-01-08T06:10:24.909928Z",
     "iopub.status.busy": "2021-01-08T06:10:24.909361Z",
     "iopub.status.idle": "2021-01-08T06:10:24.911791Z",
     "shell.execute_reply": "2021-01-08T06:10:24.912140Z"
    },
    "id": "7r4scdulztRx"
   },
   "outputs": [],
   "source": [
    "learning_rate = CustomSchedule(d_model)\n",
    "\n",
    "optimizer = tf.keras.optimizers.Adam(learning_rate,\n",
    "                                     beta_1=0.9,\n",
    "                                     beta_2=0.98,\n",
    "                                     epsilon=1e-9)"
   ]
  },
  {
   "cell_type": "code",
   "execution_count": 45,
   "metadata": {
    "execution": {
     "iopub.execute_input": "2021-01-08T06:10:24.916142Z",
     "iopub.status.busy": "2021-01-08T06:10:24.915556Z",
     "iopub.status.idle": "2021-01-08T06:10:25.048217Z",
     "shell.execute_reply": "2021-01-08T06:10:25.047776Z"
    },
    "id": "f33ZCgvHpPdG"
   },
   "outputs": [
    {
     "data": {
      "text/plain": "Text(0.5, 0, 'Train Step')"
     },
     "execution_count": 45,
     "metadata": {},
     "output_type": "execute_result"
    },
    {
     "data": {
      "text/plain": "<Figure size 432x288 with 1 Axes>",
      "image/png": "[encoded data removed]"
     },
     "metadata": {
      "needs_background": "light"
     },
     "output_type": "display_data"
    }
   ],
   "source": [
    "temp_learning_rate_schedule = CustomSchedule(d_model)\n",
    "\n",
    "plt.plot(temp_learning_rate_schedule(tf.range(40000, dtype=tf.float32)))\n",
    "plt.ylabel(\"Learning Rate\")\n",
    "plt.xlabel(\"Train Step\")"
   ]
  },
  {
   "cell_type": "markdown",
   "metadata": {
    "id": "YgkDE7hzo8r5"
   },
   "source": [
    "## Loss and metrics"
   ]
  },
  {
   "cell_type": "markdown",
   "metadata": {
    "id": "oxGJtoDuYIHL"
   },
   "source": [
    "Since the target sequences are padded, it is important to apply a padding mask when calculating the loss."
   ]
  },
  {
   "cell_type": "code",
   "execution_count": 46,
   "metadata": {
    "execution": {
     "iopub.execute_input": "2021-01-08T06:10:25.051904Z",
     "iopub.status.busy": "2021-01-08T06:10:25.051347Z",
     "iopub.status.idle": "2021-01-08T06:10:25.053070Z",
     "shell.execute_reply": "2021-01-08T06:10:25.053423Z"
    },
    "id": "MlhsJMm0TW_B"
   },
   "outputs": [],
   "source": [
    "loss_object = tf.keras.losses.SparseCategoricalCrossentropy(\n",
    "    from_logits=True, reduction='none')"
   ]
  },
  {
   "cell_type": "code",
   "execution_count": 47,
   "metadata": {
    "execution": {
     "iopub.execute_input": "2021-01-08T06:10:25.059425Z",
     "iopub.status.busy": "2021-01-08T06:10:25.058852Z",
     "iopub.status.idle": "2021-01-08T06:10:25.060747Z",
     "shell.execute_reply": "2021-01-08T06:10:25.060251Z"
    },
    "id": "67oqVHiT0Eiu"
   },
   "outputs": [],
   "source": [
    "def loss_function(real, pred):\n",
    "  mask = tf.math.logical_not(tf.math.equal(real, 0))\n",
    "  loss_ = loss_object(real, pred)\n",
    "\n",
    "  mask = tf.cast(mask, dtype=loss_.dtype)\n",
    "  loss_ *= mask\n",
    "  \n",
    "  return tf.reduce_sum(loss_)/tf.reduce_sum(mask)\n",
    "\n",
    "\n",
    "def accuracy_function(real, pred):\n",
    "  accuracies = tf.equal(real, tf.argmax(pred, axis=2))\n",
    "  \n",
    "  mask = tf.math.logical_not(tf.math.equal(real, 0))\n",
    "  accuracies = tf.math.logical_and(mask, accuracies)\n",
    "\n",
    "  accuracies = tf.cast(accuracies, dtype=tf.float32)\n",
    "  mask = tf.cast(mask, dtype=tf.float32)\n",
    "  return tf.reduce_sum(accuracies)/tf.reduce_sum(mask)"
   ]
  },
  {
   "cell_type": "code",
   "execution_count": 48,
   "metadata": {
    "execution": {
     "iopub.execute_input": "2021-01-08T06:10:25.070200Z",
     "iopub.status.busy": "2021-01-08T06:10:25.069628Z",
     "iopub.status.idle": "2021-01-08T06:10:25.077395Z",
     "shell.execute_reply": "2021-01-08T06:10:25.076922Z"
    },
    "id": "phlyxMnm-Tpx"
   },
   "outputs": [],
   "source": [
    "train_loss = tf.keras.metrics.Mean(name='train_loss')\n",
    "train_accuracy = tf.keras.metrics.Mean(name='train_accuracy')"
   ]
  },
  {
   "cell_type": "markdown",
   "metadata": {
    "id": "aeHumfr7zmMa"
   },
   "source": [
    "## Training and checkpointing"
   ]
  },
  {
   "cell_type": "code",
   "execution_count": 49,
   "metadata": {
    "execution": {
     "iopub.execute_input": "2021-01-08T06:10:25.082470Z",
     "iopub.status.busy": "2021-01-08T06:10:25.081925Z",
     "iopub.status.idle": "2021-01-08T06:10:25.216072Z",
     "shell.execute_reply": "2021-01-08T06:10:25.216438Z"
    },
    "id": "UiysUa--4tOU"
   },
   "outputs": [],
   "source": [
    "transformer = Transformer(num_layers, d_model, num_heads, dff,\n",
    "                          input_vocab_size, target_vocab_size, \n",
    "                          pe_input=input_vocab_size, \n",
    "                          pe_target=target_vocab_size,\n",
    "                          rate=dropout_rate)"
   ]
  },
  {
   "cell_type": "code",
   "execution_count": 50,
   "metadata": {
    "execution": {
     "iopub.execute_input": "2021-01-08T06:10:25.221215Z",
     "iopub.status.busy": "2021-01-08T06:10:25.220607Z",
     "iopub.status.idle": "2021-01-08T06:10:25.222787Z",
     "shell.execute_reply": "2021-01-08T06:10:25.222348Z"
    },
    "id": "ZOJUSB1T8GjM"
   },
   "outputs": [],
   "source": [
    "def create_masks(inp, tar):\n",
    "  # Encoder padding mask\n",
    "  enc_padding_mask = create_padding_mask(inp)\n",
    "  \n",
    "  # Used in the 2nd attention block in the decoder.\n",
    "  # This padding mask is used to mask the encoder outputs.\n",
    "  dec_padding_mask = create_padding_mask(inp)\n",
    "  \n",
    "  # Used in the 1st attention block in the decoder.\n",
    "  # It is used to pad and mask future tokens in the input received by \n",
    "  # the decoder.\n",
    "  look_ahead_mask = create_look_ahead_mask(tf.shape(tar)[1])\n",
    "  dec_target_padding_mask = create_padding_mask(tar)\n",
    "  combined_mask = tf.maximum(dec_target_padding_mask, look_ahead_mask)\n",
    "  \n",
    "  return enc_padding_mask, combined_mask, dec_padding_mask"
   ]
  },
  {
   "cell_type": "markdown",
   "metadata": {
    "id": "Fzuf06YZp66w"
   },
   "source": [
    "Create the checkpoint path and the checkpoint manager. This will be used to save checkpoints every `n` epochs."
   ]
  },
  {
   "cell_type": "code",
   "execution_count": 51,
   "metadata": {
    "execution": {
     "iopub.execute_input": "2021-01-08T06:10:25.227422Z",
     "iopub.status.busy": "2021-01-08T06:10:25.226871Z",
     "iopub.status.idle": "2021-01-08T06:10:25.228661Z",
     "shell.execute_reply": "2021-01-08T06:10:25.229042Z"
    },
    "id": "hNhuYfllndLZ"
   },
   "outputs": [],
   "source": [
    "checkpoint_path = \"./checkpoints/train\"\n",
    "\n",
    "ckpt = tf.train.Checkpoint(transformer=transformer,\n",
    "                           optimizer=optimizer)\n",
    "\n",
    "ckpt_manager = tf.train.CheckpointManager(ckpt, checkpoint_path, max_to_keep=5)\n",
    "\n",
    "# if a checkpoint exists, restore the latest checkpoint.\n",
    "if ckpt_manager.latest_checkpoint:\n",
    "  ckpt.restore(ckpt_manager.latest_checkpoint)\n",
    "  print ('Latest checkpoint restored!!')"
   ]
  },
  {
   "cell_type": "markdown",
   "metadata": {
    "id": "0Di_Yaa1gf9r"
   },
   "source": [
    "The target is divided into tar_inp and tar_real. tar_inp is passed as an input to the decoder. `tar_real` is that\n",
    "same input shifted by 1: At each location in `tar_input`, `tar_real` contains the  next token that should be predicted.\n",
    "\n",
    "For example, `sentence` = \"SOS A lion in the jungle is sleeping EOS\"\n",
    "\n",
    "`tar_inp` =  \"SOS A lion in the jungle is sleeping\"\n",
    "\n",
    "`tar_real` = \"A lion in the jungle is sleeping EOS\"\n",
    "\n",
    "The transformer is an auto-regressive model: it makes predictions one part at a time, and uses its output so far to\n",
    "decide what to do next.\n",
    "\n",
    "During training this example uses teacher-forcing (like in the [text generation tutorial](./text_generation.ipynb)).\n",
    "Teacher forcing is passing the true output to the next time step regardless of what the model predicts at the\n",
    "current time step.\n",
    "\n",
    "As the transformer predicts each word, *self-attention* allows it to look at the previous words in the input\n",
    "sequence to better predict the next word.\n",
    "\n",
    "To prevent the model from peeking at the expected output the model uses a look-ahead mask."
   ]
  },
  {
   "cell_type": "code",
   "execution_count": 52,
   "metadata": {
    "execution": {
     "iopub.execute_input": "2021-01-08T06:10:25.232553Z",
     "iopub.status.busy": "2021-01-08T06:10:25.232009Z",
     "iopub.status.idle": "2021-01-08T06:10:25.234266Z",
     "shell.execute_reply": "2021-01-08T06:10:25.233734Z"
    },
    "id": "LKpoA6q1sJFj"
   },
   "outputs": [],
   "source": [
    "EPOCHS = 20"
   ]
  },
  {
   "cell_type": "code",
   "execution_count": 53,
   "metadata": {
    "execution": {
     "iopub.execute_input": "2021-01-08T06:10:25.240606Z",
     "iopub.status.busy": "2021-01-08T06:10:25.239973Z",
     "iopub.status.idle": "2021-01-08T06:10:25.242091Z",
     "shell.execute_reply": "2021-01-08T06:10:25.241660Z"
    },
    "id": "iJwmp9OE29oj"
   },
   "outputs": [],
   "source": [
    "# The @tf.function trace-compiles train_step into a TF graph for faster\n",
    "# execution. The function specializes to the precise shape of the argument\n",
    "# tensors. To avoid re-tracing due to the variable sequence lengths or variable\n",
    "# batch sizes (the last batch is smaller), use input_signature to specify\n",
    "# more generic shapes.\n",
    "\n",
    "train_step_signature = [\n",
    "    tf.TensorSpec(shape=(None, None), dtype=tf.int64),\n",
    "    tf.TensorSpec(shape=(None, None), dtype=tf.int64),\n",
    "]\n",
    "\n",
    "@tf.function(input_signature=train_step_signature)\n",
    "def train_step(inp, tar):\n",
    "  tar_inp = tar[:, :-1]\n",
    "  tar_real = tar[:, 1:]\n",
    "  \n",
    "  enc_padding_mask, combined_mask, dec_padding_mask = create_masks(inp, tar_inp)\n",
    "  \n",
    "  with tf.GradientTape() as tape:\n",
    "    predictions, _ = transformer(inp, tar_inp, \n",
    "                                 True, \n",
    "                                 enc_padding_mask, \n",
    "                                 combined_mask, \n",
    "                                 dec_padding_mask)\n",
    "    loss = loss_function(tar_real, predictions)\n",
    "\n",
    "  gradients = tape.gradient(loss, transformer.trainable_variables)    \n",
    "  optimizer.apply_gradients(zip(gradients, transformer.trainable_variables))\n",
    "  \n",
    "  train_loss(loss)\n",
    "  train_accuracy(accuracy_function(tar_real, predictions))"
   ]
  },
  {
   "cell_type": "markdown",
   "metadata": {
    "id": "qM2PDWGDJ_8V"
   },
   "source": [
    "Portuguese is used as the input language and English is the target language."
   ]
  },
  {
   "cell_type": "code",
   "execution_count": 54,
   "metadata": {
    "execution": {
     "iopub.execute_input": "2021-01-08T06:10:25.248378Z",
     "iopub.status.busy": "2021-01-08T06:10:25.247669Z",
     "iopub.status.idle": "2021-01-08T06:21:08.163518Z",
     "shell.execute_reply": "2021-01-08T06:21:08.162991Z"
    },
    "id": "bbvmaKNiznHZ"
   },
   "outputs": [
    {
     "name": "stdout",
     "output_type": "stream",
     "text": [
      "Epoch 1 Batch 0 Loss 8.9812 Accuracy 0.0000\n",
      "Epoch 1 Batch 25 Loss 8.9679 Accuracy 0.0002\n",
      "Epoch 1 Batch 50 Loss 8.9257 Accuracy 0.0182\n",
      "Epoch 1 Batch 75 Loss 8.8782 Accuracy 0.0311\n",
      "Epoch 1 Batch 100 Loss 8.8285 Accuracy 0.0375\n",
      "Epoch 1 Batch 125 Loss 8.7752 Accuracy 0.0413\n",
      "Epoch 1 Batch 150 Loss 8.7149 Accuracy 0.0440\n",
      "Epoch 1 Batch 175 Loss 8.6468 Accuracy 0.0459\n",
      "Epoch 1 Loss 8.6468 Accuracy 0.0459\n",
      "Time taken for 1 epoch: 38.299975633621216 secs\n",
      "\n",
      "Epoch 2 Batch 0 Loss 8.1391 Accuracy 0.0542\n",
      "Epoch 2 Batch 25 Loss 8.0280 Accuracy 0.0588\n",
      "Epoch 2 Batch 50 Loss 7.9131 Accuracy 0.0598\n",
      "Epoch 2 Batch 75 Loss 7.7971 Accuracy 0.0606\n",
      "Epoch 2 Batch 100 Loss 7.6823 Accuracy 0.0634\n",
      "Epoch 2 Batch 125 Loss 7.5691 Accuracy 0.0720\n",
      "Epoch 2 Batch 150 Loss 7.4595 Accuracy 0.0803\n",
      "Epoch 2 Batch 175 Loss 7.3566 Accuracy 0.0872\n",
      "Epoch 2 Loss 7.3566 Accuracy 0.0872\n",
      "Time taken for 1 epoch: 25.281402587890625 secs\n",
      "\n",
      "Epoch 3 Batch 0 Loss 6.6312 Accuracy 0.1284\n",
      "Epoch 3 Batch 25 Loss 6.5876 Accuracy 0.1319\n",
      "Epoch 3 Batch 50 Loss 6.5247 Accuracy 0.1324\n",
      "Epoch 3 Batch 75 Loss 6.4714 Accuracy 0.1362\n",
      "Epoch 3 Batch 100 Loss 6.4227 Accuracy 0.1421\n",
      "Epoch 3 Batch 125 Loss 6.3715 Accuracy 0.1477\n",
      "Epoch 3 Batch 150 Loss 6.3189 Accuracy 0.1534\n",
      "Epoch 3 Batch 175 Loss 6.2637 Accuracy 0.1589\n",
      "Epoch 3 Loss 6.2637 Accuracy 0.1589\n",
      "Time taken for 1 epoch: 25.511725187301636 secs\n",
      "\n",
      "Epoch 4 Batch 0 Loss 5.8610 Accuracy 0.1957\n",
      "Epoch 4 Batch 25 Loss 5.7970 Accuracy 0.1972\n",
      "Epoch 4 Batch 50 Loss 5.7334 Accuracy 0.2009\n",
      "Epoch 4 Batch 75 Loss 5.6787 Accuracy 0.2050\n",
      "Epoch 4 Batch 100 Loss 5.6303 Accuracy 0.2087\n",
      "Epoch 4 Batch 125 Loss 5.5816 Accuracy 0.2128\n",
      "Epoch 4 Batch 150 Loss 5.5343 Accuracy 0.2168\n",
      "Epoch 4 Batch 175 Loss 5.4926 Accuracy 0.2202\n",
      "Epoch 4 Loss 5.4926 Accuracy 0.2202\n",
      "Time taken for 1 epoch: 24.549723863601685 secs\n",
      "\n",
      "Epoch 5 Batch 0 Loss 5.1504 Accuracy 0.2447\n",
      "Epoch 5 Batch 25 Loss 5.1225 Accuracy 0.2528\n",
      "Epoch 5 Batch 50 Loss 5.1070 Accuracy 0.2542\n",
      "Epoch 5 Batch 75 Loss 5.0810 Accuracy 0.2567\n",
      "Epoch 5 Batch 100 Loss 5.0569 Accuracy 0.2586\n",
      "Epoch 5 Batch 125 Loss 5.0314 Accuracy 0.2614\n",
      "Epoch 5 Batch 150 Loss 5.0077 Accuracy 0.2640\n",
      "Epoch 5 Batch 175 Loss 4.9825 Accuracy 0.2665\n",
      "Saving checkpoint for epoch 5 at ./checkpoints/train/ckpt-1\n",
      "Epoch 5 Loss 4.9825 Accuracy 0.2665\n",
      "Time taken for 1 epoch: 25.556002378463745 secs\n",
      "\n",
      "Epoch 6 Batch 0 Loss 4.7547 Accuracy 0.2939\n",
      "Epoch 6 Batch 25 Loss 4.7920 Accuracy 0.2875\n",
      "Epoch 6 Batch 50 Loss 4.7774 Accuracy 0.2887\n",
      "Epoch 6 Batch 75 Loss 4.7590 Accuracy 0.2904\n",
      "Epoch 6 Batch 100 Loss 4.7437 Accuracy 0.2918\n",
      "Epoch 6 Batch 125 Loss 4.7282 Accuracy 0.2933\n",
      "Epoch 6 Batch 150 Loss 4.7109 Accuracy 0.2949\n",
      "Epoch 6 Batch 175 Loss 4.6971 Accuracy 0.2967\n",
      "Epoch 6 Loss 4.6971 Accuracy 0.2967\n",
      "Time taken for 1 epoch: 24.878665924072266 secs\n",
      "\n",
      "Epoch 7 Batch 0 Loss 4.5220 Accuracy 0.3141\n",
      "Epoch 7 Batch 25 Loss 4.5442 Accuracy 0.3115\n",
      "Epoch 7 Batch 50 Loss 4.5342 Accuracy 0.3125\n",
      "Epoch 7 Batch 75 Loss 4.5275 Accuracy 0.3132\n",
      "Epoch 7 Batch 100 Loss 4.5144 Accuracy 0.3145\n",
      "Epoch 7 Batch 125 Loss 4.5022 Accuracy 0.3156\n",
      "Epoch 7 Batch 150 Loss 4.4917 Accuracy 0.3168\n",
      "Epoch 7 Batch 175 Loss 4.4819 Accuracy 0.3177\n",
      "Epoch 7 Loss 4.4819 Accuracy 0.3177\n",
      "Time taken for 1 epoch: 24.729122638702393 secs\n",
      "\n",
      "Epoch 8 Batch 0 Loss 4.3498 Accuracy 0.3286\n",
      "Epoch 8 Batch 25 Loss 4.3449 Accuracy 0.3320\n",
      "Epoch 8 Batch 50 Loss 4.3283 Accuracy 0.3334\n",
      "Epoch 8 Batch 75 Loss 4.3142 Accuracy 0.3350\n",
      "Epoch 8 Batch 100 Loss 4.3024 Accuracy 0.3367\n",
      "Epoch 8 Batch 125 Loss 4.2884 Accuracy 0.3383\n",
      "Epoch 8 Batch 150 Loss 4.2756 Accuracy 0.3399\n",
      "Epoch 8 Batch 175 Loss 4.2636 Accuracy 0.3414\n",
      "Epoch 8 Loss 4.2636 Accuracy 0.3414\n",
      "Time taken for 1 epoch: 25.13285541534424 secs\n",
      "\n",
      "Epoch 9 Batch 0 Loss 4.1367 Accuracy 0.3576\n",
      "Epoch 9 Batch 25 Loss 4.0823 Accuracy 0.3628\n",
      "Epoch 9 Batch 50 Loss 4.0783 Accuracy 0.3633\n",
      "Epoch 9 Batch 75 Loss 4.0680 Accuracy 0.3646\n",
      "Epoch 9 Batch 100 Loss 4.0532 Accuracy 0.3663\n",
      "Epoch 9 Batch 125 Loss 4.0383 Accuracy 0.3682\n",
      "Epoch 9 Batch 150 Loss 4.0254 Accuracy 0.3700\n",
      "Epoch 9 Batch 175 Loss 4.0121 Accuracy 0.3720\n",
      "Epoch 9 Loss 4.0121 Accuracy 0.3720\n",
      "Time taken for 1 epoch: 24.948570251464844 secs\n",
      "\n",
      "Epoch 10 Batch 0 Loss 3.8445 Accuracy 0.3825\n",
      "Epoch 10 Batch 25 Loss 3.8229 Accuracy 0.3945\n",
      "Epoch 10 Batch 50 Loss 3.8143 Accuracy 0.3954\n",
      "Epoch 10 Batch 75 Loss 3.7992 Accuracy 0.3975\n",
      "Epoch 10 Batch 100 Loss 3.7858 Accuracy 0.3993\n",
      "Epoch 10 Batch 125 Loss 3.7689 Accuracy 0.4015\n",
      "Epoch 10 Batch 150 Loss 3.7561 Accuracy 0.4033\n",
      "Epoch 10 Batch 175 Loss 3.7430 Accuracy 0.4049\n",
      "Saving checkpoint for epoch 10 at ./checkpoints/train/ckpt-2\n",
      "Epoch 10 Loss 3.7430 Accuracy 0.4049\n",
      "Time taken for 1 epoch: 26.28457736968994 secs\n",
      "\n",
      "Epoch 11 Batch 0 Loss 3.5589 Accuracy 0.4275\n",
      "Epoch 11 Batch 25 Loss 3.5407 Accuracy 0.4278\n",
      "Epoch 11 Batch 50 Loss 3.5322 Accuracy 0.4285\n",
      "Epoch 11 Batch 75 Loss 3.5226 Accuracy 0.4298\n",
      "Epoch 11 Batch 100 Loss 3.5085 Accuracy 0.4317\n",
      "Epoch 11 Batch 125 Loss 3.4982 Accuracy 0.4331\n",
      "Epoch 11 Batch 150 Loss 3.4901 Accuracy 0.4340\n",
      "Epoch 11 Batch 175 Loss 3.4804 Accuracy 0.4353\n",
      "Epoch 11 Loss 3.4804 Accuracy 0.4353\n",
      "Time taken for 1 epoch: 26.461106061935425 secs\n",
      "\n",
      "Epoch 12 Batch 0 Loss 3.3089 Accuracy 0.4580\n",
      "Epoch 12 Batch 25 Loss 3.2882 Accuracy 0.4577\n",
      "Epoch 12 Batch 50 Loss 3.2882 Accuracy 0.4573\n",
      "Epoch 12 Batch 75 Loss 3.2743 Accuracy 0.4586\n",
      "Epoch 12 Batch 100 Loss 3.2679 Accuracy 0.4591\n",
      "Epoch 12 Batch 125 Loss 3.2522 Accuracy 0.4609\n",
      "Epoch 12 Batch 150 Loss 3.2451 Accuracy 0.4618\n",
      "Epoch 12 Batch 175 Loss 3.2363 Accuracy 0.4628\n",
      "Epoch 12 Loss 3.2363 Accuracy 0.4628\n",
      "Time taken for 1 epoch: 26.23634958267212 secs\n",
      "\n",
      "Epoch 13 Batch 0 Loss 2.9960 Accuracy 0.4797\n",
      "Epoch 13 Batch 25 Loss 3.0457 Accuracy 0.4846\n",
      "Epoch 13 Batch 50 Loss 3.0482 Accuracy 0.4834\n",
      "Epoch 13 Batch 75 Loss 3.0332 Accuracy 0.4850\n",
      "Epoch 13 Batch 100 Loss 3.0283 Accuracy 0.4858\n",
      "Epoch 13 Batch 125 Loss 3.0226 Accuracy 0.4864\n",
      "Epoch 13 Batch 150 Loss 3.0167 Accuracy 0.4871\n",
      "Epoch 13 Batch 175 Loss 3.0067 Accuracy 0.4886\n",
      "Epoch 13 Loss 3.0067 Accuracy 0.4886\n",
      "Time taken for 1 epoch: 25.92481803894043 secs\n",
      "\n",
      "Epoch 14 Batch 0 Loss 2.7939 Accuracy 0.5157\n",
      "Epoch 14 Batch 25 Loss 2.8229 Accuracy 0.5085\n",
      "Epoch 14 Batch 50 Loss 2.8209 Accuracy 0.5093\n",
      "Epoch 14 Batch 75 Loss 2.8138 Accuracy 0.5107\n",
      "Epoch 14 Batch 100 Loss 2.8099 Accuracy 0.5110\n",
      "Epoch 14 Batch 125 Loss 2.8019 Accuracy 0.5121\n",
      "Epoch 14 Batch 150 Loss 2.7961 Accuracy 0.5130\n",
      "Epoch 14 Batch 175 Loss 2.7905 Accuracy 0.5136\n",
      "Epoch 14 Loss 2.7905 Accuracy 0.5136\n",
      "Time taken for 1 epoch: 25.87682271003723 secs\n",
      "\n",
      "Epoch 15 Batch 0 Loss 2.6385 Accuracy 0.5289\n",
      "Epoch 15 Batch 25 Loss 2.6010 Accuracy 0.5354\n",
      "Epoch 15 Batch 50 Loss 2.5989 Accuracy 0.5362\n",
      "Epoch 15 Batch 75 Loss 2.6029 Accuracy 0.5357\n",
      "Epoch 15 Batch 100 Loss 2.5966 Accuracy 0.5365\n",
      "Epoch 15 Batch 125 Loss 2.5931 Accuracy 0.5367\n",
      "Epoch 15 Batch 150 Loss 2.5920 Accuracy 0.5369\n",
      "Epoch 15 Batch 175 Loss 2.5895 Accuracy 0.5374\n",
      "Saving checkpoint for epoch 15 at ./checkpoints/train/ckpt-3\n",
      "Epoch 15 Loss 2.5895 Accuracy 0.5374\n",
      "Time taken for 1 epoch: 26.072293043136597 secs\n",
      "\n",
      "Epoch 16 Batch 0 Loss 2.3445 Accuracy 0.5592\n",
      "Epoch 16 Batch 25 Loss 2.4076 Accuracy 0.5575\n",
      "Epoch 16 Batch 50 Loss 2.4183 Accuracy 0.5574\n",
      "Epoch 16 Batch 75 Loss 2.4195 Accuracy 0.5576\n",
      "Epoch 16 Batch 100 Loss 2.4168 Accuracy 0.5582\n",
      "Epoch 16 Batch 125 Loss 2.4162 Accuracy 0.5584\n",
      "Epoch 16 Batch 150 Loss 2.4150 Accuracy 0.5587\n",
      "Epoch 16 Batch 175 Loss 2.4144 Accuracy 0.5587\n",
      "Epoch 16 Loss 2.4144 Accuracy 0.5587\n",
      "Time taken for 1 epoch: 25.749967575073242 secs\n",
      "\n",
      "Epoch 17 Batch 0 Loss 2.2533 Accuracy 0.5844\n",
      "Epoch 17 Batch 25 Loss 2.2224 Accuracy 0.5826\n",
      "Epoch 17 Batch 50 Loss 2.2509 Accuracy 0.5785\n",
      "Epoch 17 Batch 75 Loss 2.2536 Accuracy 0.5790\n",
      "Epoch 17 Batch 100 Loss 2.2524 Accuracy 0.5787\n",
      "Epoch 17 Batch 125 Loss 2.2564 Accuracy 0.5781\n",
      "Epoch 17 Batch 150 Loss 2.2580 Accuracy 0.5781\n",
      "Epoch 17 Batch 175 Loss 2.2648 Accuracy 0.5771\n",
      "Epoch 17 Loss 2.2648 Accuracy 0.5771\n",
      "Time taken for 1 epoch: 25.274553298950195 secs\n",
      "\n",
      "Epoch 18 Batch 0 Loss 2.0555 Accuracy 0.6008\n",
      "Epoch 18 Batch 25 Loss 2.0877 Accuracy 0.6007\n",
      "Epoch 18 Batch 50 Loss 2.0995 Accuracy 0.5985\n",
      "Epoch 18 Batch 75 Loss 2.1089 Accuracy 0.5964\n",
      "Epoch 18 Batch 100 Loss 2.1141 Accuracy 0.5957\n",
      "Epoch 18 Batch 125 Loss 2.1168 Accuracy 0.5953\n",
      "Epoch 18 Batch 150 Loss 2.1223 Accuracy 0.5947\n",
      "Epoch 18 Batch 175 Loss 2.1246 Accuracy 0.5943\n",
      "Epoch 18 Loss 2.1246 Accuracy 0.5943\n",
      "Time taken for 1 epoch: 25.481280088424683 secs\n",
      "\n",
      "Epoch 19 Batch 0 Loss 1.9746 Accuracy 0.6141\n",
      "Epoch 19 Batch 25 Loss 1.9503 Accuracy 0.6162\n",
      "Epoch 19 Batch 50 Loss 1.9792 Accuracy 0.6124\n",
      "Epoch 19 Batch 75 Loss 1.9870 Accuracy 0.6117\n",
      "Epoch 19 Batch 100 Loss 1.9904 Accuracy 0.6111\n",
      "Epoch 19 Batch 125 Loss 1.9969 Accuracy 0.6101\n",
      "Epoch 19 Batch 150 Loss 2.0026 Accuracy 0.6093\n",
      "Epoch 19 Batch 175 Loss 2.0099 Accuracy 0.6084\n",
      "Epoch 19 Loss 2.0099 Accuracy 0.6084\n",
      "Time taken for 1 epoch: 25.62515616416931 secs\n",
      "\n",
      "Epoch 20 Batch 0 Loss 1.9414 Accuracy 0.6252\n",
      "Epoch 20 Batch 25 Loss 1.8507 Accuracy 0.6284\n",
      "Epoch 20 Batch 50 Loss 1.8630 Accuracy 0.6271\n",
      "Epoch 20 Batch 75 Loss 1.8770 Accuracy 0.6249\n",
      "Epoch 20 Batch 100 Loss 1.8852 Accuracy 0.6235\n",
      "Epoch 20 Batch 125 Loss 1.8912 Accuracy 0.6226\n",
      "Epoch 20 Batch 150 Loss 1.9009 Accuracy 0.6212\n",
      "Epoch 20 Batch 175 Loss 1.9077 Accuracy 0.6204\n",
      "Saving checkpoint for epoch 20 at ./checkpoints/train/ckpt-4\n",
      "Epoch 20 Loss 1.9077 Accuracy 0.6204\n",
      "Time taken for 1 epoch: 25.709178686141968 secs\n",
      "\n"
     ]
    }
   ],
   "source": [
    "for epoch in range(EPOCHS):\n",
    "  start = time.time()\n",
    "  \n",
    "  train_loss.reset_states()\n",
    "  train_accuracy.reset_states()\n",
    "  \n",
    "  # inp -> portuguese, tar -> english\n",
    "  for (batch, (inp, tar)) in enumerate(train_dataset):\n",
    "    train_step(inp, tar)\n",
    "    \n",
    "    if batch % 25 == 0:\n",
    "      print ('Epoch {} Batch {} Loss {:.4f} Accuracy {:.4f}'.format(\n",
    "          epoch + 1, batch, train_loss.result(), train_accuracy.result()))\n",
    "      \n",
    "  if (epoch + 1) % 5 == 0:\n",
    "    ckpt_save_path = ckpt_manager.save()\n",
    "    print ('Saving checkpoint for epoch {} at {}'.format(epoch+1,\n",
    "                                                         ckpt_save_path))\n",
    "    \n",
    "  print ('Epoch {} Loss {:.4f} Accuracy {:.4f}'.format(epoch + 1, \n",
    "                                                train_loss.result(), \n",
    "                                                train_accuracy.result()))\n",
    "\n",
    "  print ('Time taken for 1 epoch: {} secs\\n'.format(time.time() - start))"
   ]
  },
  {
   "cell_type": "markdown",
   "metadata": {
    "id": "QfcsSWswSdGV"
   },
   "source": [
    "## Evaluate"
   ]
  },
  {
   "cell_type": "markdown",
   "metadata": {
    "id": "y6APsFrgImLW"
   },
   "source": [
    "The following steps are used for evaluation:\n",
    "\n",
    "* Encode the input sentence using the Portuguese tokenizer (`tokenizer_pt`). Moreover, add the start and end\n",
    "token, so the input is equivalent to what the model is trained with. This is the encoder input.\n",
    "* The decoder input is the `start token == tokenizer_en.vocab_size`.\n",
    "* Calculate the padding masks, and the look ahead masks.\n",
    "* The `decoder` then outputs the predictions by looking at the `encoder output` and its own output (self-attention).\n",
    "* Select the last word and calculate the argmax of that.\n",
    "* Concatentate the predicted word to the decoder input as pass it to the decoder.\n",
    "* In this approach, the decoder predicts the next word based on the previous words it predicted.\n",
    "\n",
    "Note: The model used here has less capacity to keep the example relatively faster, so the predictions maybe less\n",
    "right. To reproduce the results in the paper, use the entire dataset and base transformer model or transformer XL,\n",
    "by changing the hyperparameters above."
   ]
  },
  {
   "cell_type": "code",
   "execution_count": 55,
   "metadata": {
    "execution": {
     "iopub.execute_input": "2021-01-08T06:21:08.171405Z",
     "iopub.status.busy": "2021-01-08T06:21:08.170518Z",
     "iopub.status.idle": "2021-01-08T06:21:08.172899Z",
     "shell.execute_reply": "2021-01-08T06:21:08.172443Z"
    },
    "id": "5buvMlnvyrFm"
   },
   "outputs": [],
   "source": [
    "def evaluate(inp_sentence):\n",
    "  start_token = [tokenizer_pt.vocab_size]\n",
    "  end_token = [tokenizer_pt.vocab_size + 1]\n",
    "  \n",
    "  # inp sentence is portuguese, hence adding the start and end token\n",
    "  inp_sentence = start_token + tokenizer_pt.encode(inp_sentence) + end_token\n",
    "  encoder_input = tf.expand_dims(inp_sentence, 0)\n",
    "  \n",
    "  # as the target is english, the first word to the transformer should be the\n",
    "  # english start token.\n",
    "  decoder_input = [tokenizer_en.vocab_size]\n",
    "  output = tf.expand_dims(decoder_input, 0)\n",
    "    \n",
    "  for i in range(MAX_LENGTH):\n",
    "    enc_padding_mask, combined_mask, dec_padding_mask = create_masks(\n",
    "        encoder_input, output)\n",
    "  \n",
    "    # predictions.shape == (batch_size, seq_len, vocab_size)\n",
    "    predictions, attention_weights = transformer(encoder_input, \n",
    "                                                 output,\n",
    "                                                 False,\n",
    "                                                 enc_padding_mask,\n",
    "                                                 combined_mask,\n",
    "                                                 dec_padding_mask)\n",
    "    \n",
    "    # select the last word from the seq_len dimension\n",
    "    predictions = predictions[: ,-1:, :]  # (batch_size, 1, vocab_size)\n",
    "\n",
    "    predicted_id = tf.cast(tf.argmax(predictions, axis=-1), tf.int32)\n",
    "    \n",
    "    # return the result if the predicted_id is equal to the end token\n",
    "    if predicted_id == tokenizer_en.vocab_size+1:\n",
    "      return tf.squeeze(output, axis=0), attention_weights\n",
    "    \n",
    "    # concatentate the predicted_id to the output which is given to the decoder\n",
    "    # as its input.\n",
    "    output = tf.concat([output, predicted_id], axis=-1)\n",
    "\n",
    "  return tf.squeeze(output, axis=0), attention_weights"
   ]
  },
  {
   "cell_type": "code",
   "execution_count": 56,
   "metadata": {
    "execution": {
     "iopub.execute_input": "2021-01-08T06:21:08.180529Z",
     "iopub.status.busy": "2021-01-08T06:21:08.179728Z",
     "iopub.status.idle": "2021-01-08T06:21:08.181979Z",
     "shell.execute_reply": "2021-01-08T06:21:08.181554Z"
    },
    "id": "CN-BV43FMBej"
   },
   "outputs": [],
   "source": [
    "def plot_attention_weights(attention, sentence, result, layer):\n",
    "  fig = plt.figure(figsize=(16, 8))\n",
    "  \n",
    "  sentence = tokenizer_pt.encode(sentence)\n",
    "  \n",
    "  attention = tf.squeeze(attention[layer], axis=0)\n",
    "  \n",
    "  for head in range(attention.shape[0]):\n",
    "    ax = fig.add_subplot(2, 4, head+1)\n",
    "    \n",
    "    # plot the attention weights\n",
    "    ax.matshow(attention[head][:-1, :], cmap='viridis')\n",
    "\n",
    "    fontdict = {'fontsize': 10}\n",
    "    \n",
    "    ax.set_xticks(range(len(sentence)+2))\n",
    "    ax.set_yticks(range(len(result)))\n",
    "    \n",
    "    ax.set_ylim(len(result)-1.5, -0.5)\n",
    "        \n",
    "    ax.set_xticklabels(\n",
    "        ['<start>']+[tokenizer_pt.decode([i]) for i in sentence]+['<end>'], \n",
    "        fontdict=fontdict, rotation=90)\n",
    "    \n",
    "    ax.set_yticklabels([tokenizer_en.decode([i]) for i in result \n",
    "                        if i < tokenizer_en.vocab_size], \n",
    "                       fontdict=fontdict)\n",
    "    \n",
    "    ax.set_xlabel('Head {}'.format(head+1))\n",
    "  \n",
    "  plt.tight_layout()\n",
    "  plt.show()"
   ]
  },
  {
   "cell_type": "code",
   "execution_count": 57,
   "metadata": {
    "execution": {
     "iopub.execute_input": "2021-01-08T06:21:08.186861Z",
     "iopub.status.busy": "2021-01-08T06:21:08.186040Z",
     "iopub.status.idle": "2021-01-08T06:21:08.188352Z",
     "shell.execute_reply": "2021-01-08T06:21:08.187946Z"
    },
    "id": "lU2_yG_vBGza"
   },
   "outputs": [],
   "source": [
    "def translate(sentence, plot=''):\n",
    "  result, attention_weights = evaluate(sentence)\n",
    "  \n",
    "  predicted_sentence = tokenizer_en.decode([i for i in result \n",
    "                                            if i < tokenizer_en.vocab_size])  \n",
    "\n",
    "  print('Input: {}'.format(sentence))\n",
    "  print('Predicted translation: {}'.format(predicted_sentence))\n",
    "  \n",
    "  if plot:\n",
    "    plot_attention_weights(attention_weights, sentence, result, plot)"
   ]
  },
  {
   "cell_type": "code",
   "execution_count": 58,
   "metadata": {
    "execution": {
     "iopub.execute_input": "2021-01-08T06:21:08.192320Z",
     "iopub.status.busy": "2021-01-08T06:21:08.191426Z",
     "iopub.status.idle": "2021-01-08T06:21:09.244598Z",
     "shell.execute_reply": "2021-01-08T06:21:09.245032Z"
    },
    "id": "YsxrAlvFG8SZ"
   },
   "outputs": [
    {
     "name": "stdout",
     "output_type": "stream",
     "text": [
      "Input: este é um problema que temos que resolver.\n",
      "Predicted translation: this is a problem that we have to solve it .\n",
      "Real translation: this is a problem we have to solve .\n"
     ]
    }
   ],
   "source": [
    "translate(\"este é um problema que temos que resolver.\")\n",
    "print (\"Real translation: this is a problem we have to solve .\")"
   ]
  },
  {
   "cell_type": "code",
   "execution_count": 59,
   "metadata": {
    "execution": {
     "iopub.execute_input": "2021-01-08T06:21:09.249785Z",
     "iopub.status.busy": "2021-01-08T06:21:09.248763Z",
     "iopub.status.idle": "2021-01-08T06:21:10.052091Z",
     "shell.execute_reply": "2021-01-08T06:21:10.052442Z"
    },
    "id": "7EH5y_aqI4t1"
   },
   "outputs": [
    {
     "name": "stdout",
     "output_type": "stream",
     "text": [
      "Input: os meus vizinhos ouviram sobre esta ideia.\n",
      "Predicted translation: my neighbors heard about this idea .\n",
      "Real translation: and my neighboring homes heard about this idea .\n"
     ]
    }
   ],
   "source": [
    "translate(\"os meus vizinhos ouviram sobre esta ideia.\")\n",
    "print (\"Real translation: and my neighboring homes heard about this idea .\")"
   ]
  },
  {
   "cell_type": "code",
   "execution_count": 60,
   "metadata": {
    "execution": {
     "iopub.execute_input": "2021-01-08T06:21:10.056363Z",
     "iopub.status.busy": "2021-01-08T06:21:10.055715Z",
     "iopub.status.idle": "2021-01-08T06:21:11.839969Z",
     "shell.execute_reply": "2021-01-08T06:21:11.840372Z"
    },
    "id": "J-hVCTSUMlkb"
   },
   "outputs": [
    {
     "name": "stdout",
     "output_type": "stream",
     "text": [
      "Input: vou então muito rapidamente partilhar convosco algumas histórias de algumas coisas mágicas que aconteceram.\n",
      "Predicted translation: so i 'm going to quickly you quickly share with some of some magic things that happened on .\n",
      "Real translation: so i 'll just share with you some stories very quickly of some magical things that have happened .\n"
     ]
    }
   ],
   "source": [
    "translate(\"vou então muito rapidamente partilhar convosco algumas histórias de algumas coisas mágicas que aconteceram.\")\n",
    "print (\"Real translation: so i 'll just share with you some stories very quickly of some magical things that have happened .\")"
   ]
  },
  {
   "cell_type": "markdown",
   "metadata": {
    "id": "_1MxkSZvz0jX"
   },
   "source": [
    "You can pass different layers and attention blocks of the decoder to the `plot` parameter."
   ]
  },
  {
   "cell_type": "code",
   "execution_count": 61,
   "metadata": {
    "execution": {
     "iopub.execute_input": "2021-01-08T06:21:11.844478Z",
     "iopub.status.busy": "2021-01-08T06:21:11.843905Z",
     "iopub.status.idle": "2021-01-08T06:21:13.396345Z",
     "shell.execute_reply": "2021-01-08T06:21:13.396719Z"
    },
    "id": "t-kFyiOLH0xg"
   },
   "outputs": [
    {
     "name": "stdout",
     "output_type": "stream",
     "text": [
      "Input: este é o primeiro livro que eu fiz.\n",
      "Predicted translation: this is the first book i did .\n",
      "Real translation: this is the first book i've ever done.\n"
     ]
    },
    {
     "data": {
      "text/plain": "<Figure size 1152x576 with 8 Axes>",
      "image/png": "[encoded data removed]"
     },
     "metadata": {
      "needs_background": "light"
     },
     "output_type": "display_data"
    }
   ],
   "source": [
    "translate(\"este é o primeiro livro que eu fiz.\", plot='decoder_layer4_block2')\n",
    "print (\"Real translation: this is the first book i've ever done.\")"
   ]
  },
  {
   "cell_type": "markdown",
   "metadata": {
    "id": "RqQ1fIsLwkGE"
   },
   "source": [
    "## Summary\n",
    "\n",
    "In this tutorial, you learned about positional encoding, multi-head attention, the importance of masking and\n",
    "how to create a transformer.\n",
    "\n",
    "Try using a different dataset to train the transformer. You can also create the base transformer or transformer XL\n",
    "by changing the hyperparameters above. You can also use the layers defined here to create\n",
    "[BERT](https://arxiv.org/abs/1810.04805) and train state-of-the-art models. Futhermore, you can implement beam\n",
    "search to get better predictions."
   ]
  }
 ],
 "metadata": {
  "accelerator": "GPU",
  "colab": {
   "collapsed_sections": [
    "s_qNSzzyaCbD"
   ],
   "name": "transformer.ipynb",
   "toc_visible": true
  },
  "kernelspec": {
   "name": "python3",
   "language": "python",
   "display_name": "Python 3"
  },
  "language_info": {
   "codemirror_mode": {
    "name": "ipython",
    "version": 3
   },
   "file_extension": ".py",
   "mimetype": "text/x-python",
   "name": "python",
   "nbconvert_exporter": "python",
   "pygments_lexer": "ipython3",
   "version": "3.6.9"
  }
 },
 "nbformat": 4,
 "nbformat_minor": 0
}