{
 "cells": [
  {
   "cell_type": "markdown",
   "metadata": {
    "id": "klGNgWREsvQv"
   },
   "source": [
    "##### Copyright 2021 The TF-Agents Authors."
   ]
  },
  {
   "cell_type": "code",
   "execution_count": 1,
   "metadata": {
    "cellView": "form",
    "execution": {
     "iopub.execute_input": "2021-01-06T12:12:26.795201Z",
     "iopub.status.busy": "2021-01-06T12:12:26.794409Z",
     "iopub.status.idle": "2021-01-06T12:12:26.796666Z",
     "shell.execute_reply": "2021-01-06T12:12:26.797112Z"
    },
    "id": "nQnmcm0oI1Q-"
   },
   "outputs": [],
   "source": [
    "#@title Licensed under the Apache License, Version 2.0 (the \"License\");\n",
    "# you may not use this file except in compliance with the License.\n",
    "# You may obtain a copy of the License at\n",
    "#\n",
    "# https://www.apache.org/licenses/LICENSE-2.0\n",
    "#\n",
    "# Unless required by applicable law or agreed to in writing, software\n",
    "# distributed under the License is distributed on an \"AS IS\" BASIS,\n",
    "# WITHOUT WARRANTIES OR CONDITIONS OF ANY KIND, either express or implied.\n",
    "# See the License for the specific language governing permissions and\n",
    "# limitations under the License."
   ]
  },
  {
   "cell_type": "markdown",
   "metadata": {
    "id": "HNtBC6Bbb1YU"
   },
   "source": [
    "# REINFORCE agent\n",
    "\n",
    "<table class=\"tfo-notebook-buttons\" align=\"left\">\n",
    "  <td>\n",
    "    <a target=\"_blank\" href=\"https://www.tensorflow.org/agents/tutorials/6_reinforce_tutorial\">\n",
    "    <img src=\"https://www.tensorflow.org/images/tf_logo_32px.png\" />\n",
    "    View on TensorFlow.org</a>\n",
    "  </td>\n",
    "  <td>\n",
    "    <a target=\"_blank\" href=\"https://colab.research.google.com/github/tensorflow/agents/blob/master/docs/tutorials/6_reinforce_tutorial.ipynb\">\n",
    "    <img src=\"https://www.tensorflow.org/images/colab_logo_32px.png\" />\n",
    "    Run in Google Colab</a>\n",
    "  </td>\n",
    "  <td>\n",
    "    <a target=\"_blank\" href=\"https://github.com/tensorflow/agents/blob/master/docs/tutorials/6_reinforce_tutorial.ipynb\">\n",
    "    <img src=\"https://www.tensorflow.org/images/GitHub-Mark-32px.png\" />\n",
    "    View source on GitHub</a>\n",
    "  </td>\n",
    "  <td>\n",
    "    <a href=\"https://storage.googleapis.com/tensorflow_docs/agents/docs/tutorials/6_reinforce_tutorial.ipynb\"><img src=\"https://www.tensorflow.org/images/download_logo_32px.png\" />Download notebook</a>\n",
    "  </td>\n",
    "</table>"
   ]
  },
  {
   "cell_type": "markdown",
   "metadata": {
    "id": "ZOUOQOrFs3zn"
   },
   "source": [
    "## Introduction"
   ]
  },
  {
   "cell_type": "markdown",
   "metadata": {
    "id": "cKOCZlhUgXVK"
   },
   "source": [
    "This example shows how to train a [REINFORCE](https://www-anw.cs.umass.edu/~barto/courses/cs687/williams92simple.pdf) agent on the Cartpole environment using the TF-Agents library, similar to the [DQN tutorial](1_dqn_tutorial.ipynb).\n",
    "\n",
    "![Cartpole environment](images/cartpole.png)\n",
    "\n",
    "We will walk you through all the components in a Reinforcement Learning (RL) pipeline for training, evaluation and data collection.\n"
   ]
  },
  {
   "cell_type": "markdown",
   "metadata": {
    "id": "1u9QVVsShC9X"
   },
   "source": [
    "## Setup"
   ]
  },
  {
   "cell_type": "markdown",
   "metadata": {
    "id": "I5PNmEzIb9t4"
   },
   "source": [
    "If you haven't installed the following dependencies, run:"
   ]
  },
  {
   "cell_type": "code",
   "execution_count": 2,
   "metadata": {
    "execution": {
     "iopub.execute_input": "2021-01-06T12:12:26.811891Z",
     "iopub.status.busy": "2021-01-06T12:12:26.808421Z",
     "iopub.status.idle": "2021-01-06T12:12:37.336180Z",
     "shell.execute_reply": "2021-01-06T12:12:37.336647Z"
    },
    "id": "KEHR2Ui-lo8O"
   },
   "outputs": [
    {
     "name": "stdout",
     "output_type": "stream",
     "text": [
      "\r",
      "Reading package lists... 0%\r",
      "\r",
      "Reading package lists... 100%\r",
      "\r",
      "Reading package lists... Done\r",
      "\r\n",
      "\r",
      "Building dependency tree... 0%\r",
      "\r",
      "Building dependency tree... 0%\r"
     ]
    },
    {
     "name": "stdout",
     "output_type": "stream",
     "text": [
      "\r",
      "Building dependency tree... 50%\r",
      "\r",
      "Building dependency tree... 50%\r"
     ]
    },
    {
     "name": "stdout",
     "output_type": "stream",
     "text": [
      "\r",
      "Building dependency tree       \r",
      "\r\n",
      "\r",
      "Reading state information... 0%\r",
      "\r",
      "Reading state information... 0%\r",
      "\r",
      "Reading state information... Done\r",
      "\r\n"
     ]
    },
    {
     "name": "stdout",
     "output_type": "stream",
     "text": [
      "ffmpeg is already the newest version (7:3.4.8-0ubuntu0.2).\r\n",
      "xvfb is already the newest version (2:1.19.6-1ubuntu4.8).\r\n"
     ]
    },
    {
     "name": "stdout",
     "output_type": "stream",
     "text": [
      "The following packages were automatically installed and are no longer required:\r\n",
      "  adwaita-icon-theme ca-certificates-java dconf-gsettings-backend\r\n",
      "  dconf-service default-jre default-jre-headless dkms fonts-dejavu-extra\r\n",
      "  freeglut3 freeglut3-dev g++-6 glib-networking glib-networking-common\r\n",
      "  glib-networking-services gsettings-desktop-schemas gtk-update-icon-cache\r\n",
      "  hicolor-icon-theme humanity-icon-theme java-common libaccinj64-9.1\r\n",
      "  libatk-bridge2.0-0 libatk-wrapper-java libatk-wrapper-java-jni libatk1.0-0\r\n",
      "  libatk1.0-data libatspi2.0-0 libavahi-client3 libavahi-common-data\r\n",
      "  libavahi-common3 libcairo-gobject2 libcolord2 libcudart9.1 libcufft9.1\r\n",
      "  libcufftw9.1 libcups2 libcurand9.1 libcusolver9.1 libcusparse9.1 libdconf1\r\n",
      "  libdrm-dev libegl-mesa0 libegl1 libegl1-mesa libepoxy0 libgbm1 libgif7\r\n",
      "  libgl1-mesa-dev libgles1 libgles2 libglu1-mesa libglu1-mesa-dev\r\n",
      "  libglvnd-core-dev libglvnd-dev libgtk-3-0 libgtk-3-common libgtk2.0-0\r\n",
      "  libgtk2.0-common libice-dev libjansson4 libjson-glib-1.0-0\r\n",
      "  libjson-glib-1.0-common liblcms2-2 libnppc9.1 libnppial9.1 libnppicc9.1\r\n",
      "  libnppicom9.1 libnppidei9.1 libnppif9.1 libnppig9.1 libnppim9.1 libnppist9.1\r\n",
      "  libnppisu9.1 libnppitc9.1 libnpps9.1 libnvrtc9.1 libnvtoolsext1 libnvvm3\r\n",
      "  libopengl0 libpcsclite1 libproxy1v5 libpthread-stubs0-dev librest-0.7-0\r\n",
      "  libsm-dev libsoup-gnome2.4-1 libsoup2.4-1 libstdc++-6-dev libthrust-dev\r\n",
      "  libvdpau-dev libwayland-server0 libx11-dev libx11-xcb-dev libxau-dev\r\n",
      "  libxcb-dri2-0-dev libxcb-dri3-dev libxcb-glx0-dev libxcb-present-dev\r\n",
      "  libxcb-randr0 libxcb-randr0-dev libxcb-render0-dev libxcb-shape0-dev\r\n",
      "  libxcb-sync-dev libxcb-xfixes0-dev libxcb1-dev libxcomposite1 libxdamage-dev\r\n",
      "  libxdmcp-dev libxext-dev libxfixes-dev libxft2 libxi-dev libxmu-dev\r\n",
      "  libxmu-headers libxnvctrl0 libxshmfence-dev libxt-dev libxtst6 libxxf86dga1\r\n",
      "  libxxf86vm-dev linux-gcp-5.3-headers-5.3.0-1030 linux-gcp-headers-5.0.0-1026\r\n",
      "  linux-headers-5.3.0-1030-gcp linux-image-5.3.0-1030-gcp\r\n",
      "  linux-modules-5.0.0-1026-gcp linux-modules-5.3.0-1030-gcp\r\n",
      "  linux-modules-extra-5.3.0-1030-gcp mesa-common-dev ocl-icd-libopencl1\r\n",
      "  ocl-icd-opencl-dev opencl-c-headers openjdk-11-jre openjdk-11-jre-headless\r\n",
      "  openjdk-8-jre openjdk-8-jre-headless pkg-config policykit-1-gnome\r\n",
      "  python3-xkit screen-resolution-extra ubuntu-mono x11-utils x11proto-core-dev\r\n",
      "  x11proto-damage-dev x11proto-dev x11proto-fixes-dev x11proto-input-dev\r\n",
      "  x11proto-xext-dev x11proto-xf86vidmode-dev xorg-sgml-doctools\r\n",
      "  xserver-xorg-core-hwe-18.04 xtrans-dev\r\n",
      "Use 'sudo apt autoremove' to remove them.\r\n"
     ]
    },
    {
     "name": "stdout",
     "output_type": "stream",
     "text": [
      "0 upgraded, 0 newly installed, 0 to remove and 91 not upgraded.\r\n"
     ]
    },
    {
     "name": "stdout",
     "output_type": "stream",
     "text": [
      "\u001b[33mWARNING: You are using pip version 20.3.1; however, version 20.3.3 is available.\r\n",
      "You should consider upgrading via the '/tmpfs/src/tf_docs_env/bin/python -m pip install --upgrade pip' command.\u001b[0m\r\n"
     ]
    },
    {
     "name": "stdout",
     "output_type": "stream",
     "text": [
      "\u001b[33mWARNING: You are using pip version 20.3.1; however, version 20.3.3 is available.\r\n",
      "You should consider upgrading via the '/tmpfs/src/tf_docs_env/bin/python -m pip install --upgrade pip' command.\u001b[0m\r\n"
     ]
    },
    {
     "name": "stdout",
     "output_type": "stream",
     "text": [
      "\u001b[33mWARNING: You are using pip version 20.3.1; however, version 20.3.3 is available.\r\n",
      "You should consider upgrading via the '/tmpfs/src/tf_docs_env/bin/python -m pip install --upgrade pip' command.\u001b[0m\r\n"
     ]
    }
   ],
   "source": [
    "!sudo apt-get install -y xvfb ffmpeg\n",
    "!pip install -q 'imageio==2.4.0'\n",
    "!pip install -q pyvirtualdisplay\n",
    "!pip install -q tf-agents"
   ]
  },
  {
   "cell_type": "code",
   "execution_count": 3,
   "metadata": {
    "execution": {
     "iopub.execute_input": "2021-01-06T12:12:37.344655Z",
     "iopub.status.busy": "2021-01-06T12:12:37.343828Z",
     "iopub.status.idle": "2021-01-06T12:12:44.786444Z",
     "shell.execute_reply": "2021-01-06T12:12:44.785828Z"
    },
    "id": "sMitx5qSgJk1"
   },
   "outputs": [],
   "source": [
    "from __future__ import absolute_import\n",
    "from __future__ import division\n",
    "from __future__ import print_function\n",
    "\n",
    "import base64\n",
    "import imageio\n",
    "import IPython\n",
    "import matplotlib\n",
    "import matplotlib.pyplot as plt\n",
    "import numpy as np\n",
    "import PIL.Image\n",
    "import pyvirtualdisplay\n",
    "\n",
    "import tensorflow as tf\n",
    "\n",
    "from tf_agents.agents.reinforce import reinforce_agent\n",
    "from tf_agents.drivers import dynamic_step_driver\n",
    "from tf_agents.environments import suite_gym\n",
    "from tf_agents.environments import tf_py_environment\n",
    "from tf_agents.eval import metric_utils\n",
    "from tf_agents.metrics import tf_metrics\n",
    "from tf_agents.networks import actor_distribution_network\n",
    "from tf_agents.replay_buffers import tf_uniform_replay_buffer\n",
    "from tf_agents.trajectories import trajectory\n",
    "from tf_agents.utils import common\n",
    "\n",
    "tf.compat.v1.enable_v2_behavior()\n",
    "\n",
    "\n",
    "# Set up a virtual display for rendering OpenAI gym environments.\n",
    "display = pyvirtualdisplay.Display(visible=0, size=(1400, 900)).start()"
   ]
  },
  {
   "cell_type": "markdown",
   "metadata": {
    "id": "LmC0NDhdLIKY"
   },
   "source": [
    "## Hyperparameters"
   ]
  },
  {
   "cell_type": "code",
   "execution_count": 4,
   "metadata": {
    "execution": {
     "iopub.execute_input": "2021-01-06T12:12:44.792700Z",
     "iopub.status.busy": "2021-01-06T12:12:44.791594Z",
     "iopub.status.idle": "2021-01-06T12:12:44.794203Z",
     "shell.execute_reply": "2021-01-06T12:12:44.793605Z"
    },
    "id": "HC1kNrOsLSIZ"
   },
   "outputs": [],
   "source": [
    "env_name = \"CartPole-v0\" # @param {type:\"string\"}\n",
    "num_iterations = 250 # @param {type:\"integer\"}\n",
    "collect_episodes_per_iteration = 2 # @param {type:\"integer\"}\n",
    "replay_buffer_capacity = 2000 # @param {type:\"integer\"}\n",
    "\n",
    "fc_layer_params = (100,)\n",
    "\n",
    "learning_rate = 1e-3 # @param {type:\"number\"}\n",
    "log_interval = 25 # @param {type:\"integer\"}\n",
    "num_eval_episodes = 10 # @param {type:\"integer\"}\n",
    "eval_interval = 50 # @param {type:\"integer\"}"
   ]
  },
  {
   "cell_type": "markdown",
   "metadata": {
    "id": "VMsJC3DEgI0x"
   },
   "source": [
    "## Environment\n",
    "\n",
    "Environments in RL represent the task or problem that we are trying to solve. Standard environments can be easily created in TF-Agents using `suites`. We have different `suites` for loading environments from sources such as the OpenAI Gym, Atari, DM Control, etc., given a string environment name.\n",
    "\n",
    "Now let us load the CartPole environment from the OpenAI Gym suite."
   ]
  },
  {
   "cell_type": "code",
   "execution_count": 5,
   "metadata": {
    "execution": {
     "iopub.execute_input": "2021-01-06T12:12:44.799358Z",
     "iopub.status.busy": "2021-01-06T12:12:44.798240Z",
     "iopub.status.idle": "2021-01-06T12:12:44.808419Z",
     "shell.execute_reply": "2021-01-06T12:12:44.807911Z"
    },
    "id": "pYEz-S9gEv2-"
   },
   "outputs": [],
   "source": [
    "env = suite_gym.load(env_name)"
   ]
  },
  {
   "cell_type": "markdown",
   "metadata": {
    "id": "IIHYVBkuvPNw"
   },
   "source": [
    "We can render this environment to see how it looks. A free-swinging pole is attached to a cart.  The goal is to move the cart right or left in order to keep the pole pointing up."
   ]
  },
  {
   "cell_type": "code",
   "execution_count": 6,
   "metadata": {
    "execution": {
     "iopub.execute_input": "2021-01-06T12:12:44.815241Z",
     "iopub.status.busy": "2021-01-06T12:12:44.814167Z",
     "iopub.status.idle": "2021-01-06T12:12:45.330662Z",
     "shell.execute_reply": "2021-01-06T12:12:45.331185Z"
    },
    "id": "RlO7WIQHu_7D"
   },
   "outputs": [
    {
     "data": {
      "image/png": "[encoded data removed]",
      "text/plain": [
       "<PIL.Image.Image image mode=RGB size=600x400 at 0x7FD776E23F98>"
      ]
     },
     "execution_count": 1,
     "metadata": {},
     "output_type": "execute_result"
    }
   ],
   "source": [
    "#@test {\"skip\": true}\n",
    "env.reset()\n",
    "PIL.Image.fromarray(env.render())"
   ]
  },
  {
   "cell_type": "markdown",
   "metadata": {
    "id": "B9_lskPOey18"
   },
   "source": [
    "The `time_step = environment.step(action)` statement takes `action` in the environment.  The `TimeStep` tuple returned contains the environment's next observation and reward for that action. The `time_step_spec()` and `action_spec()` methods in the environment return the specifications (types, shapes, bounds) of the `time_step` and `action` respectively."
   ]
  },
  {
   "cell_type": "code",
   "execution_count": 7,
   "metadata": {
    "execution": {
     "iopub.execute_input": "2021-01-06T12:12:45.342196Z",
     "iopub.status.busy": "2021-01-06T12:12:45.341036Z",
     "iopub.status.idle": "2021-01-06T12:12:45.344027Z",
     "shell.execute_reply": "2021-01-06T12:12:45.344486Z"
    },
    "id": "exDv57iHfwQV"
   },
   "outputs": [
    {
     "name": "stdout",
     "output_type": "stream",
     "text": [
      "Observation Spec:\n",
      "BoundedArraySpec(shape=(4,), dtype=dtype('float32'), name='observation', minimum=[-4.8000002e+00 -3.4028235e+38 -4.1887903e-01 -3.4028235e+38], maximum=[4.8000002e+00 3.4028235e+38 4.1887903e-01 3.4028235e+38])\n",
      "Action Spec:\n",
      "BoundedArraySpec(shape=(), dtype=dtype('int64'), name='action', minimum=0, maximum=1)\n"
     ]
    }
   ],
   "source": [
    "print('Observation Spec:')\n",
    "print(env.time_step_spec().observation)\n",
    "print('Action Spec:')\n",
    "print(env.action_spec())"
   ]
  },
  {
   "cell_type": "markdown",
   "metadata": {
    "id": "eJCgJnx3g0yY"
   },
   "source": [
    "So, we see that observation is an array of 4 floats: the position and velocity of the cart, and the angular position and velocity of the pole. Since only two actions are possible (move left or move right), the `action_spec` is a scalar where 0 means \"move left\" and 1 means \"move right.\""
   ]
  },
  {
   "cell_type": "code",
   "execution_count": 8,
   "metadata": {
    "execution": {
     "iopub.execute_input": "2021-01-06T12:12:45.354555Z",
     "iopub.status.busy": "2021-01-06T12:12:45.353591Z",
     "iopub.status.idle": "2021-01-06T12:12:45.356819Z",
     "shell.execute_reply": "2021-01-06T12:12:45.357328Z"
    },
    "id": "V2UGR5t_iZX-"
   },
   "outputs": [
    {
     "name": "stdout",
     "output_type": "stream",
     "text": [
      "Time step:\n",
      "TimeStep(step_type=array(0, dtype=int32), reward=array(0., dtype=float32), discount=array(1., dtype=float32), observation=array([ 0.03037029, -0.02667559,  0.00637377, -0.03489717], dtype=float32))\n",
      "Next time step:\n",
      "TimeStep(step_type=array(1, dtype=int32), reward=array(1., dtype=float32), discount=array(1., dtype=float32), observation=array([ 0.02983678,  0.16835438,  0.00567583, -0.3255623 ], dtype=float32))\n"
     ]
    }
   ],
   "source": [
    "time_step = env.reset()\n",
    "print('Time step:')\n",
    "print(time_step)\n",
    "\n",
    "action = np.array(1, dtype=np.int32)\n",
    "\n",
    "next_time_step = env.step(action)\n",
    "print('Next time step:')\n",
    "print(next_time_step)"
   ]
  },
  {
   "cell_type": "markdown",
   "metadata": {
    "id": "zuUqXAVmecTU"
   },
   "source": [
    "Usually we create two environments: one for training and one for evaluation. Most environments are written in pure python, but they can be easily converted to TensorFlow using the `TFPyEnvironment` wrapper. The original environment's API uses numpy arrays, the `TFPyEnvironment` converts these to/from `Tensors` for you to more easily interact with TensorFlow policies and agents.\n"
   ]
  },
  {
   "cell_type": "code",
   "execution_count": 9,
   "metadata": {
    "execution": {
     "iopub.execute_input": "2021-01-06T12:12:45.366426Z",
     "iopub.status.busy": "2021-01-06T12:12:45.365652Z",
     "iopub.status.idle": "2021-01-06T12:12:45.374743Z",
     "shell.execute_reply": "2021-01-06T12:12:45.375221Z"
    },
    "id": "Xp-Y4mD6eDhF"
   },
   "outputs": [],
   "source": [
    "train_py_env = suite_gym.load(env_name)\n",
    "eval_py_env = suite_gym.load(env_name)\n",
    "\n",
    "train_env = tf_py_environment.TFPyEnvironment(train_py_env)\n",
    "eval_env = tf_py_environment.TFPyEnvironment(eval_py_env)"
   ]
  },
  {
   "cell_type": "markdown",
   "metadata": {
    "id": "E9lW_OZYFR8A"
   },
   "source": [
    "## Agent\n",
    "\n",
    "The algorithm that we use to solve an RL problem is represented as an `Agent`. In addition to the REINFORCE agent, TF-Agents provides standard implementations of a variety of `Agents` such as [DQN](https://storage.googleapis.com/deepmind-media/dqn/DQNNaturePaper.pdf), [DDPG](https://arxiv.org/pdf/1509.02971.pdf), [TD3](https://arxiv.org/pdf/1802.09477.pdf), [PPO](https://arxiv.org/abs/1707.06347) and [SAC](https://arxiv.org/abs/1801.01290).\n",
    "\n",
    "To create a REINFORCE Agent, we first need an `Actor Network` that can learn to predict the action given an observation from the environment.\n",
    "\n",
    "We can easily create an `Actor Network` using the specs of the observations and actions. We can specify the layers in the network which, in this example, is the `fc_layer_params` argument set to a tuple of `ints` representing the sizes of each hidden layer (see the Hyperparameters section above).\n"
   ]
  },
  {
   "cell_type": "code",
   "execution_count": 10,
   "metadata": {
    "execution": {
     "iopub.execute_input": "2021-01-06T12:12:45.380036Z",
     "iopub.status.busy": "2021-01-06T12:12:45.379361Z",
     "iopub.status.idle": "2021-01-06T12:12:45.420658Z",
     "shell.execute_reply": "2021-01-06T12:12:45.420077Z"
    },
    "id": "TgkdEPg_muzV"
   },
   "outputs": [],
   "source": [
    "actor_net = actor_distribution_network.ActorDistributionNetwork(\n",
    "    train_env.observation_spec(),\n",
    "    train_env.action_spec(),\n",
    "    fc_layer_params=fc_layer_params)"
   ]
  },
  {
   "cell_type": "markdown",
   "metadata": {
    "id": "z62u55hSmviJ"
   },
   "source": [
    "We also need an `optimizer` to train the network we just created, and a `train_step_counter` variable to keep track of how many times the network was updated.\n"
   ]
  },
  {
   "cell_type": "code",
   "execution_count": 11,
   "metadata": {
    "execution": {
     "iopub.execute_input": "2021-01-06T12:12:46.835929Z",
     "iopub.status.busy": "2021-01-06T12:12:46.159167Z",
     "iopub.status.idle": "2021-01-06T12:12:47.585121Z",
     "shell.execute_reply": "2021-01-06T12:12:47.584475Z"
    },
    "id": "jbY4yrjTEyc9"
   },
   "outputs": [],
   "source": [
    "optimizer = tf.compat.v1.train.AdamOptimizer(learning_rate=learning_rate)\n",
    "\n",
    "train_step_counter = tf.compat.v2.Variable(0)\n",
    "\n",
    "tf_agent = reinforce_agent.ReinforceAgent(\n",
    "    train_env.time_step_spec(),\n",
    "    train_env.action_spec(),\n",
    "    actor_network=actor_net,\n",
    "    optimizer=optimizer,\n",
    "    normalize_returns=True,\n",
    "    train_step_counter=train_step_counter)\n",
    "tf_agent.initialize()"
   ]
  },
  {
   "cell_type": "markdown",
   "metadata": {
    "id": "I0KLrEPwkn5x"
   },
   "source": [
    "## Policies\n",
    "\n",
    "In TF-Agents, policies represent the standard notion of policies in RL: given a `time_step` produce an action or a distribution over actions. The main method is `policy_step = policy.step(time_step)` where `policy_step` is a named tuple `PolicyStep(action, state, info)`.  The `policy_step.action` is the `action` to be applied to the environment, `state` represents the state for stateful (RNN) policies and `info` may contain auxiliary information such as log probabilities of the actions.\n",
    "\n",
    "Agents contain two policies: the main policy that is used for evaluation/deployment (agent.policy) and another policy that is used for data collection (agent.collect_policy)."
   ]
  },
  {
   "cell_type": "code",
   "execution_count": 12,
   "metadata": {
    "execution": {
     "iopub.execute_input": "2021-01-06T12:12:47.589772Z",
     "iopub.status.busy": "2021-01-06T12:12:47.589098Z",
     "iopub.status.idle": "2021-01-06T12:12:47.591541Z",
     "shell.execute_reply": "2021-01-06T12:12:47.591037Z"
    },
    "id": "BwY7StuMkuV4"
   },
   "outputs": [],
   "source": [
    "eval_policy = tf_agent.policy\n",
    "collect_policy = tf_agent.collect_policy"
   ]
  },
  {
   "cell_type": "markdown",
   "metadata": {
    "id": "94rCXQtbUbXv"
   },
   "source": [
    "## Metrics and Evaluation\n",
    "\n",
    "The most common metric used to evaluate a policy is the average return. The return is the sum of rewards obtained while running a policy in an environment for an episode, and we usually average this over a few episodes. We can compute the average return metric as follows.\n"
   ]
  },
  {
   "cell_type": "code",
   "execution_count": 13,
   "metadata": {
    "execution": {
     "iopub.execute_input": "2021-01-06T12:12:47.597376Z",
     "iopub.status.busy": "2021-01-06T12:12:47.596712Z",
     "iopub.status.idle": "2021-01-06T12:12:47.598641Z",
     "shell.execute_reply": "2021-01-06T12:12:47.599104Z"
    },
    "id": "bitzHo5_UbXy"
   },
   "outputs": [],
   "source": [
    "#@test {\"skip\": true}\n",
    "def compute_avg_return(environment, policy, num_episodes=10):\n",
    "\n",
    "  total_return = 0.0\n",
    "  for _ in range(num_episodes):\n",
    "\n",
    "    time_step = environment.reset()\n",
    "    episode_return = 0.0\n",
    "\n",
    "    while not time_step.is_last():\n",
    "      action_step = policy.action(time_step)\n",
    "      time_step = environment.step(action_step.action)\n",
    "      episode_return += time_step.reward\n",
    "    total_return += episode_return\n",
    "\n",
    "  avg_return = total_return / num_episodes\n",
    "  return avg_return.numpy()[0]\n",
    "\n",
    "\n",
    "# Please also see the metrics module for standard implementations of different\n",
    "# metrics."
   ]
  },
  {
   "cell_type": "markdown",
   "metadata": {
    "id": "NLva6g2jdWgr"
   },
   "source": [
    "## Replay Buffer\n",
    "\n",
    "In order to keep track of the data collected from the environment, we will use the TFUniformReplayBuffer. This replay buffer is constructed using specs describing the tensors that are to be stored, which can be obtained from the agent using `tf_agent.collect_data_spec`."
   ]
  },
  {
   "cell_type": "code",
   "execution_count": 14,
   "metadata": {
    "execution": {
     "iopub.execute_input": "2021-01-06T12:12:47.603602Z",
     "iopub.status.busy": "2021-01-06T12:12:47.602932Z",
     "iopub.status.idle": "2021-01-06T12:12:47.612905Z",
     "shell.execute_reply": "2021-01-06T12:12:47.612388Z"
    },
    "id": "vX2zGUWJGWAl"
   },
   "outputs": [],
   "source": [
    "replay_buffer = tf_uniform_replay_buffer.TFUniformReplayBuffer(\n",
    "    data_spec=tf_agent.collect_data_spec,\n",
    "    batch_size=train_env.batch_size,\n",
    "    max_length=replay_buffer_capacity)"
   ]
  },
  {
   "cell_type": "markdown",
   "metadata": {
    "id": "ZGNTDJpZs4NN"
   },
   "source": [
    "For most agents, the `collect_data_spec` is a `Trajectory` named tuple containing the observation, action, reward etc."
   ]
  },
  {
   "cell_type": "markdown",
   "metadata": {
    "id": "rVD5nQ9ZGo8_"
   },
   "source": [
    "## Data Collection\n",
    "\n",
    "As REINFORCE learns from whole episodes, we define a function to collect an episode using the given data collection policy and save the data (observations, actions, rewards etc.) as trajectories in the replay buffer."
   ]
  },
  {
   "cell_type": "code",
   "execution_count": 15,
   "metadata": {
    "execution": {
     "iopub.execute_input": "2021-01-06T12:12:47.618911Z",
     "iopub.status.busy": "2021-01-06T12:12:47.618222Z",
     "iopub.status.idle": "2021-01-06T12:12:47.619977Z",
     "shell.execute_reply": "2021-01-06T12:12:47.620390Z"
    },
    "id": "wr1KSAEGG4h9"
   },
   "outputs": [],
   "source": [
    "#@test {\"skip\": true}\n",
    "\n",
    "def collect_episode(environment, policy, num_episodes):\n",
    "\n",
    "  episode_counter = 0\n",
    "  environment.reset()\n",
    "\n",
    "  while episode_counter < num_episodes:\n",
    "    time_step = environment.current_time_step()\n",
    "    action_step = policy.action(time_step)\n",
    "    next_time_step = environment.step(action_step.action)\n",
    "    traj = trajectory.from_transition(time_step, action_step, next_time_step)\n",
    "\n",
    "    # Add trajectory to the replay buffer\n",
    "    replay_buffer.add_batch(traj)\n",
    "\n",
    "    if traj.is_boundary():\n",
    "      episode_counter += 1\n",
    "\n",
    "\n",
    "# This loop is so common in RL, that we provide standard implementations of\n",
    "# these. For more details see the drivers module."
   ]
  },
  {
   "cell_type": "markdown",
   "metadata": {
    "id": "hBc9lj9VWWtZ"
   },
   "source": [
    "## Training the agent\n",
    "\n",
    "The training loop involves both collecting data from the environment and optimizing the agent's networks. Along the way, we will occasionally evaluate the agent's policy to see how we are doing.\n",
    "\n",
    "The following will take ~3 minutes to run."
   ]
  },
  {
   "cell_type": "code",
   "execution_count": 16,
   "metadata": {
    "execution": {
     "iopub.execute_input": "2021-01-06T12:12:47.631458Z",
     "iopub.status.busy": "2021-01-06T12:12:47.630227Z",
     "iopub.status.idle": "2021-01-06T12:18:14.914219Z",
     "shell.execute_reply": "2021-01-06T12:18:14.914685Z"
    },
    "id": "0pTbJ3PeyF-u"
   },
   "outputs": [
    {
     "name": "stdout",
     "output_type": "stream",
     "text": [
      "WARNING:tensorflow:From <ipython-input-1-235ae48023f9>:24: ReplayBuffer.gather_all (from tf_agents.replay_buffers.replay_buffer) is deprecated and will be removed in a future version.\n",
      "Instructions for updating:\n",
      "Use `as_dataset(..., single_deterministic_pass=True)` instead.\n"
     ]
    },
    {
     "name": "stdout",
     "output_type": "stream",
     "text": [
      "step = 25: loss = -0.03577017784118652\n"
     ]
    },
    {
     "name": "stdout",
     "output_type": "stream",
     "text": [
      "step = 50: loss = -0.7830626964569092\n"
     ]
    },
    {
     "name": "stdout",
     "output_type": "stream",
     "text": [
      "step = 50: Average Return = 153.89999389648438\n"
     ]
    },
    {
     "name": "stdout",
     "output_type": "stream",
     "text": [
      "step = 75: loss = -1.2827575206756592\n"
     ]
    },
    {
     "name": "stdout",
     "output_type": "stream",
     "text": [
      "step = 100: loss = 1.0007905960083008\n"
     ]
    },
    {
     "name": "stdout",
     "output_type": "stream",
     "text": [
      "step = 100: Average Return = 83.19999694824219\n"
     ]
    },
    {
     "name": "stdout",
     "output_type": "stream",
     "text": [
      "step = 125: loss = -2.8805646896362305\n"
     ]
    },
    {
     "name": "stdout",
     "output_type": "stream",
     "text": [
      "step = 150: loss = -0.44356298446655273\n"
     ]
    },
    {
     "name": "stdout",
     "output_type": "stream",
     "text": [
      "step = 150: Average Return = 179.3000030517578\n"
     ]
    },
    {
     "name": "stdout",
     "output_type": "stream",
     "text": [
      "step = 175: loss = -1.675619125366211\n"
     ]
    },
    {
     "name": "stdout",
     "output_type": "stream",
     "text": [
      "step = 200: loss = -1.489908218383789\n"
     ]
    },
    {
     "name": "stdout",
     "output_type": "stream",
     "text": [
      "step = 200: Average Return = 200.0\n"
     ]
    },
    {
     "name": "stdout",
     "output_type": "stream",
     "text": [
      "step = 225: loss = -2.424057960510254\n"
     ]
    },
    {
     "name": "stdout",
     "output_type": "stream",
     "text": [
      "step = 250: loss = -1.5413885116577148\n"
     ]
    },
    {
     "name": "stdout",
     "output_type": "stream",
     "text": [
      "step = 250: Average Return = 200.0\n"
     ]
    }
   ],
   "source": [
    "#@test {\"skip\": true}\n",
    "try:\n",
    "  %%time\n",
    "except:\n",
    "  pass\n",
    "\n",
    "# (Optional) Optimize by wrapping some of the code in a graph using TF function.\n",
    "tf_agent.train = common.function(tf_agent.train)\n",
    "\n",
    "# Reset the train step\n",
    "tf_agent.train_step_counter.assign(0)\n",
    "\n",
    "# Evaluate the agent's policy once before training.\n",
    "avg_return = compute_avg_return(eval_env, tf_agent.policy, num_eval_episodes)\n",
    "returns = [avg_return]\n",
    "\n",
    "for _ in range(num_iterations):\n",
    "\n",
    "  # Collect a few episodes using collect_policy and save to the replay buffer.\n",
    "  collect_episode(\n",
    "      train_env, tf_agent.collect_policy, collect_episodes_per_iteration)\n",
    "\n",
    "  # Use data from the buffer and update the agent's network.\n",
    "  experience = replay_buffer.gather_all()\n",
    "  train_loss = tf_agent.train(experience)\n",
    "  replay_buffer.clear()\n",
    "\n",
    "  step = tf_agent.train_step_counter.numpy()\n",
    "\n",
    "  if step % log_interval == 0:\n",
    "    print('step = {0}: loss = {1}'.format(step, train_loss.loss))\n",
    "\n",
    "  if step % eval_interval == 0:\n",
    "    avg_return = compute_avg_return(eval_env, tf_agent.policy, num_eval_episodes)\n",
    "    print('step = {0}: Average Return = {1}'.format(step, avg_return))\n",
    "    returns.append(avg_return)"
   ]
  },
  {
   "cell_type": "markdown",
   "metadata": {
    "id": "68jNcA_TiJDq"
   },
   "source": [
    "## Visualization\n"
   ]
  },
  {
   "cell_type": "markdown",
   "metadata": {
    "id": "aO-LWCdbbOIC"
   },
   "source": [
    "### Plots\n",
    "\n",
    "We can plot return vs global steps to see the performance of our agent. In `Cartpole-v0`, the environment gives a reward of +1 for every time step the pole stays up, and since the maximum number of steps is 200, the maximum possible return is also 200."
   ]
  },
  {
   "cell_type": "code",
   "execution_count": 17,
   "metadata": {
    "execution": {
     "iopub.execute_input": "2021-01-06T12:18:14.934730Z",
     "iopub.status.busy": "2021-01-06T12:18:14.920979Z",
     "iopub.status.idle": "2021-01-06T12:18:15.056524Z",
     "shell.execute_reply": "2021-01-06T12:18:15.056972Z"
    },
    "id": "NxtL1mbOYCVO"
   },
   "outputs": [
    {
     "data": {
      "text/plain": [
       "(-0.5500000000000007, 250.0)"
      ]
     },
     "execution_count": 1,
     "metadata": {},
     "output_type": "execute_result"
    },
    {
     "data": {
      "image/png": "[encoded data removed]",
      "text/plain": [
       "<Figure size 432x288 with 1 Axes>"
      ]
     },
     "metadata": {
      "needs_background": "light"
     },
     "output_type": "display_data"
    }
   ],
   "source": [
    "#@test {\"skip\": true}\n",
    "\n",
    "steps = range(0, num_iterations + 1, eval_interval)\n",
    "plt.plot(steps, returns)\n",
    "plt.ylabel('Average Return')\n",
    "plt.xlabel('Step')\n",
    "plt.ylim(top=250)"
   ]
  },
  {
   "cell_type": "markdown",
   "metadata": {
    "id": "M7-XpPP99Cy7"
   },
   "source": [
    "### Videos"
   ]
  },
  {
   "cell_type": "markdown",
   "metadata": {
    "id": "9pGfGxSH32gn"
   },
   "source": [
    "It is helpful to visualize the performance of an agent by rendering the environment at each step. Before we do that, let us first create a function to embed videos in this colab."
   ]
  },
  {
   "cell_type": "code",
   "execution_count": 18,
   "metadata": {
    "execution": {
     "iopub.execute_input": "2021-01-06T12:18:15.063072Z",
     "iopub.status.busy": "2021-01-06T12:18:15.062317Z",
     "iopub.status.idle": "2021-01-06T12:18:15.064708Z",
     "shell.execute_reply": "2021-01-06T12:18:15.064185Z"
    },
    "id": "ULaGr8pvOKbl"
   },
   "outputs": [],
   "source": [
    "def embed_mp4(filename):\n",
    "  \"\"\"Embeds an mp4 file in the notebook.\"\"\"\n",
    "  video = open(filename,'rb').read()\n",
    "  b64 = base64.b64encode(video)\n",
    "  tag = '''\n",
    "  <video width=\"640\" height=\"480\" controls>\n",
    "    <source src=\"data:video/mp4;base64,{0}\" type=\"video/mp4\">\n",
    "  Your browser does not support the video tag.\n",
    "  </video>'''.format(b64.decode())\n",
    "\n",
    "  return IPython.display.HTML(tag)"
   ]
  },
  {
   "cell_type": "markdown",
   "metadata": {
    "id": "9c_PH-pX4Pr5"
   },
   "source": [
    "The following code visualizes the agent's policy for a few episodes:"
   ]
  },
  {
   "cell_type": "code",
   "execution_count": 19,
   "metadata": {
    "execution": {
     "iopub.execute_input": "2021-01-06T12:18:15.071408Z",
     "iopub.status.busy": "2021-01-06T12:18:15.070697Z",
     "iopub.status.idle": "2021-01-06T12:18:24.203387Z",
     "shell.execute_reply": "2021-01-06T12:18:24.203866Z"
    },
    "id": "owOVWB158NlF"
   },
   "outputs": [
    {
     "name": "stderr",
     "output_type": "stream",
     "text": [
      "WARNING:root:IMAGEIO FFMPEG_WRITER WARNING: input image is not divisible by macro_block_size=16, resizing from (400, 600) to (400, 608) to ensure video compatibility with most codecs and players. To prevent resizing, make your input image divisible by the macro_block_size or set the macro_block_size to None (risking incompatibility). You may also see a FFMPEG warning concerning speedloss due to data not being aligned.\n"
     ]
    },
    {
     "data": {
      "text/html": [
       "\n",
       "  <video width=\"640\" height=\"480\" controls>\n",
       "    <source src=\"data:video/mp4;base64,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\" type=\"video/mp4\">\n",
       "  Your browser does not support the video tag.\n",
       "  </video>"
      ],
      "text/plain": [
       "<IPython.core.display.HTML object>"
      ]
     },
     "execution_count": 1,
     "metadata": {},
     "output_type": "execute_result"
    }
   ],
   "source": [
    "num_episodes = 3\n",
    "video_filename = 'imageio.mp4'\n",
    "with imageio.get_writer(video_filename, fps=60) as video:\n",
    "  for _ in range(num_episodes):\n",
    "    time_step = eval_env.reset()\n",
    "    video.append_data(eval_py_env.render())\n",
    "    while not time_step.is_last():\n",
    "      action_step = tf_agent.policy.action(time_step)\n",
    "      time_step = eval_env.step(action_step.action)\n",
    "      video.append_data(eval_py_env.render())\n",
    "\n",
    "embed_mp4(video_filename)"
   ]
  }
 ],
 "metadata": {
  "accelerator": "GPU",
  "colab": {
   "collapsed_sections": [],
   "name": "REINFORCE Tutorial.ipynb",
   "private_outputs": true,
   "provenance": [],
   "toc_visible": true
  },
  "kernelspec": {
   "display_name": "Python 3",
   "language": "python",
   "name": "python3"
  },
  "language_info": {
   "codemirror_mode": {
    "name": "ipython",
    "version": 3
   },
   "file_extension": ".py",
   "mimetype": "text/x-python",
   "name": "python",
   "nbconvert_exporter": "python",
   "pygments_lexer": "ipython3",
   "version": "3.6.9"
  },
  "pycharm": {
   "stem_cell": {
    "cell_type": "raw",
    "metadata": {
     "collapsed": false
    },
    "source": []
   }
  }
 },
 "nbformat": 4,
 "nbformat_minor": 0
}
