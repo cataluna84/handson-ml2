{
 "cells": [
  {
   "cell_type": "markdown",
   "metadata": {
    "id": "klGNgWREsvQv"
   },
   "source": [
    "##### Copyright 2021 The TF-Agents Authors."
   ]
  },
  {
   "cell_type": "code",
   "execution_count": 1,
   "metadata": {
    "cellView": "form",
    "execution": {
     "iopub.execute_input": "2021-01-06T12:27:37.984429Z",
     "iopub.status.busy": "2021-01-06T12:27:37.983739Z",
     "iopub.status.idle": "2021-01-06T12:27:37.986028Z",
     "shell.execute_reply": "2021-01-06T12:27:37.985547Z"
    },
    "id": "nQnmcm0oI1Q-"
   },
   "outputs": [],
   "source": [
    "#@title Licensed under the Apache License, Version 2.0 (the \"License\");\n",
    "# you may not use this file except in compliance with the License.\n",
    "# You may obtain a copy of the License at\n",
    "#\n",
    "# https://www.apache.org/licenses/LICENSE-2.0\n",
    "#\n",
    "# Unless required by applicable law or agreed to in writing, software\n",
    "# distributed under the License is distributed on an \"AS IS\" BASIS,\n",
    "# WITHOUT WARRANTIES OR CONDITIONS OF ANY KIND, either express or implied.\n",
    "# See the License for the specific language governing permissions and\n",
    "# limitations under the License."
   ]
  },
  {
   "cell_type": "markdown",
   "metadata": {
    "id": "oMaGpi7TciQs"
   },
   "source": [
    "# DQN C51/Rainbow\n",
    "\n",
    "<table class=\"tfo-notebook-buttons\" align=\"left\">\n",
    "  <td>\n",
    "    <a target=\"_blank\" href=\"https://www.tensorflow.org/agents/tutorials/9_c51_tutorial\">\n",
    "    <img src=\"https://www.tensorflow.org/images/tf_logo_32px.png\" />\n",
    "    View on TensorFlow.org</a>\n",
    "  </td>\n",
    "  <td>\n",
    "    <a target=\"_blank\" href=\"https://colab.research.google.com/github/tensorflow/agents/blob/master/docs/tutorials/9_c51_tutorial.ipynb\">\n",
    "    <img src=\"https://www.tensorflow.org/images/colab_logo_32px.png\" />\n",
    "    Run in Google Colab</a>\n",
    "  </td>\n",
    "  <td>\n",
    "    <a target=\"_blank\" href=\"https://github.com/tensorflow/agents/blob/master/docs/tutorials/9_c51_tutorial.ipynb\">\n",
    "    <img src=\"https://www.tensorflow.org/images/GitHub-Mark-32px.png\" />\n",
    "    View source on GitHub</a>\n",
    "  </td>\n",
    "  <td>\n",
    "    <a href=\"https://storage.googleapis.com/tensorflow_docs/agents/docs/tutorials/9_c51_tutorial.ipynb\"><img src=\"https://www.tensorflow.org/images/download_logo_32px.png\" />Download notebook</a>\n",
    "  </td>\n",
    "</table>"
   ]
  },
  {
   "cell_type": "markdown",
   "metadata": {
    "id": "ZOUOQOrFs3zn"
   },
   "source": [
    "## Introduction"
   ]
  },
  {
   "cell_type": "markdown",
   "metadata": {
    "id": "cKOCZlhUgXVK"
   },
   "source": [
    "This example shows how to train a [Categorical DQN (C51)](https://arxiv.org/pdf/1707.06887.pdf) agent on the Cartpole environment using the TF-Agents library.\n",
    "\n",
    "![Cartpole environment](https://github.com/tensorflow/agents/blob/master/docs/tutorials/images/cartpole.png?raw=1)\n",
    "\n",
    "Make sure you take a look through the [DQN tutorial](https://github.com/tensorflow/agents/blob/master/docs/tutorials/1_dqn_tutorial.ipynb) as a prerequisite. This tutorial will assume familiarity with the DQN tutorial; it will mainly focus on the differences between DQN and C51.\n"
   ]
  },
  {
   "cell_type": "markdown",
   "metadata": {
    "id": "lsaQlK8fFQqH"
   },
   "source": [
    "## Setup\n"
   ]
  },
  {
   "cell_type": "markdown",
   "metadata": {
    "id": "-NzBsZzPcyBm"
   },
   "source": [
    "If you haven't installed tf-agents yet, run:"
   ]
  },
  {
   "cell_type": "code",
   "execution_count": 2,
   "metadata": {
    "execution": {
     "iopub.execute_input": "2021-01-06T12:27:37.999824Z",
     "iopub.status.busy": "2021-01-06T12:27:37.996861Z",
     "iopub.status.idle": "2021-01-06T12:27:48.436650Z",
     "shell.execute_reply": "2021-01-06T12:27:48.436017Z"
    },
    "id": "KEHR2Ui-lo8O"
   },
   "outputs": [
    {
     "name": "stdout",
     "output_type": "stream",
     "text": [
      "\r",
      "Reading package lists... 0%\r",
      "\r",
      "Reading package lists... 100%\r",
      "\r",
      "Reading package lists... Done\r",
      "\r\n",
      "\r",
      "Building dependency tree... 0%\r",
      "\r",
      "Building dependency tree... 0%\r"
     ]
    },
    {
     "name": "stdout",
     "output_type": "stream",
     "text": [
      "\r",
      "Building dependency tree... 50%\r",
      "\r",
      "Building dependency tree... 50%\r"
     ]
    },
    {
     "name": "stdout",
     "output_type": "stream",
     "text": [
      "\r",
      "Building dependency tree       \r",
      "\r\n",
      "\r",
      "Reading state information... 0%\r",
      "\r",
      "Reading state information... 0%\r",
      "\r",
      "Reading state information... Done\r",
      "\r\n"
     ]
    },
    {
     "name": "stdout",
     "output_type": "stream",
     "text": [
      "ffmpeg is already the newest version (7:3.4.8-0ubuntu0.2).\r\n",
      "xvfb is already the newest version (2:1.19.6-1ubuntu4.8).\r\n"
     ]
    },
    {
     "name": "stdout",
     "output_type": "stream",
     "text": [
      "The following packages were automatically installed and are no longer required:\r\n",
      "  adwaita-icon-theme ca-certificates-java dconf-gsettings-backend\r\n",
      "  dconf-service default-jre default-jre-headless dkms fonts-dejavu-extra\r\n",
      "  freeglut3 freeglut3-dev g++-6 glib-networking glib-networking-common\r\n",
      "  glib-networking-services gsettings-desktop-schemas gtk-update-icon-cache\r\n",
      "  hicolor-icon-theme humanity-icon-theme java-common libaccinj64-9.1\r\n",
      "  libatk-bridge2.0-0 libatk-wrapper-java libatk-wrapper-java-jni libatk1.0-0\r\n",
      "  libatk1.0-data libatspi2.0-0 libavahi-client3 libavahi-common-data\r\n",
      "  libavahi-common3 libcairo-gobject2 libcolord2 libcudart9.1 libcufft9.1\r\n",
      "  libcufftw9.1 libcups2 libcurand9.1 libcusolver9.1 libcusparse9.1 libdconf1\r\n",
      "  libdrm-dev libegl-mesa0 libegl1 libegl1-mesa libepoxy0 libgbm1 libgif7\r\n",
      "  libgl1-mesa-dev libgles1 libgles2 libglu1-mesa libglu1-mesa-dev\r\n",
      "  libglvnd-core-dev libglvnd-dev libgtk-3-0 libgtk-3-common libgtk2.0-0\r\n",
      "  libgtk2.0-common libice-dev libjansson4 libjson-glib-1.0-0\r\n",
      "  libjson-glib-1.0-common liblcms2-2 libnppc9.1 libnppial9.1 libnppicc9.1\r\n",
      "  libnppicom9.1 libnppidei9.1 libnppif9.1 libnppig9.1 libnppim9.1 libnppist9.1\r\n",
      "  libnppisu9.1 libnppitc9.1 libnpps9.1 libnvrtc9.1 libnvtoolsext1 libnvvm3\r\n",
      "  libopengl0 libpcsclite1 libproxy1v5 libpthread-stubs0-dev librest-0.7-0\r\n",
      "  libsm-dev libsoup-gnome2.4-1 libsoup2.4-1 libstdc++-6-dev libthrust-dev\r\n",
      "  libvdpau-dev libwayland-server0 libx11-dev libx11-xcb-dev libxau-dev\r\n",
      "  libxcb-dri2-0-dev libxcb-dri3-dev libxcb-glx0-dev libxcb-present-dev\r\n",
      "  libxcb-randr0 libxcb-randr0-dev libxcb-render0-dev libxcb-shape0-dev\r\n",
      "  libxcb-sync-dev libxcb-xfixes0-dev libxcb1-dev libxcomposite1 libxdamage-dev\r\n",
      "  libxdmcp-dev libxext-dev libxfixes-dev libxft2 libxi-dev libxmu-dev\r\n",
      "  libxmu-headers libxnvctrl0 libxshmfence-dev libxt-dev libxtst6 libxxf86dga1\r\n",
      "  libxxf86vm-dev linux-gcp-5.3-headers-5.3.0-1030 linux-gcp-headers-5.0.0-1026\r\n",
      "  linux-headers-5.3.0-1030-gcp linux-image-5.3.0-1030-gcp\r\n",
      "  linux-modules-5.0.0-1026-gcp linux-modules-5.3.0-1030-gcp\r\n",
      "  linux-modules-extra-5.3.0-1030-gcp mesa-common-dev ocl-icd-libopencl1\r\n",
      "  ocl-icd-opencl-dev opencl-c-headers openjdk-11-jre openjdk-11-jre-headless\r\n",
      "  openjdk-8-jre openjdk-8-jre-headless pkg-config policykit-1-gnome\r\n",
      "  python3-xkit screen-resolution-extra ubuntu-mono x11-utils x11proto-core-dev\r\n",
      "  x11proto-damage-dev x11proto-dev x11proto-fixes-dev x11proto-input-dev\r\n",
      "  x11proto-xext-dev x11proto-xf86vidmode-dev xorg-sgml-doctools\r\n",
      "  xserver-xorg-core-hwe-18.04 xtrans-dev\r\n",
      "Use 'sudo apt autoremove' to remove them.\r\n"
     ]
    },
    {
     "name": "stdout",
     "output_type": "stream",
     "text": [
      "0 upgraded, 0 newly installed, 0 to remove and 91 not upgraded.\r\n"
     ]
    },
    {
     "name": "stdout",
     "output_type": "stream",
     "text": [
      "\u001b[33mWARNING: You are using pip version 20.3.1; however, version 20.3.3 is available.\r\n",
      "You should consider upgrading via the '/tmpfs/src/tf_docs_env/bin/python -m pip install --upgrade pip' command.\u001b[0m\r\n"
     ]
    },
    {
     "name": "stdout",
     "output_type": "stream",
     "text": [
      "\u001b[33mWARNING: You are using pip version 20.3.1; however, version 20.3.3 is available.\r\n",
      "You should consider upgrading via the '/tmpfs/src/tf_docs_env/bin/python -m pip install --upgrade pip' command.\u001b[0m\r\n"
     ]
    },
    {
     "name": "stdout",
     "output_type": "stream",
     "text": [
      "\u001b[33mWARNING: You are using pip version 20.3.1; however, version 20.3.3 is available.\r\n",
      "You should consider upgrading via the '/tmpfs/src/tf_docs_env/bin/python -m pip install --upgrade pip' command.\u001b[0m\r\n"
     ]
    }
   ],
   "source": [
    "!sudo apt-get install -y xvfb ffmpeg\n",
    "!pip install -q 'imageio==2.4.0'\n",
    "!pip install -q pyvirtualdisplay\n",
    "!pip install -q tf-agents"
   ]
  },
  {
   "cell_type": "code",
   "execution_count": 3,
   "metadata": {
    "execution": {
     "iopub.execute_input": "2021-01-06T12:27:48.444344Z",
     "iopub.status.busy": "2021-01-06T12:27:48.443657Z",
     "iopub.status.idle": "2021-01-06T12:27:55.789517Z",
     "shell.execute_reply": "2021-01-06T12:27:55.788873Z"
    },
    "id": "sMitx5qSgJk1"
   },
   "outputs": [],
   "source": [
    "from __future__ import absolute_import\n",
    "from __future__ import division\n",
    "from __future__ import print_function\n",
    "\n",
    "import base64\n",
    "import imageio\n",
    "import IPython\n",
    "import matplotlib\n",
    "import matplotlib.pyplot as plt\n",
    "import PIL.Image\n",
    "import pyvirtualdisplay\n",
    "\n",
    "import tensorflow as tf\n",
    "\n",
    "from tf_agents.agents.categorical_dqn import categorical_dqn_agent\n",
    "from tf_agents.drivers import dynamic_step_driver\n",
    "from tf_agents.environments import suite_gym\n",
    "from tf_agents.environments import tf_py_environment\n",
    "from tf_agents.eval import metric_utils\n",
    "from tf_agents.metrics import tf_metrics\n",
    "from tf_agents.networks import categorical_q_network\n",
    "from tf_agents.policies import random_tf_policy\n",
    "from tf_agents.replay_buffers import tf_uniform_replay_buffer\n",
    "from tf_agents.trajectories import trajectory\n",
    "from tf_agents.utils import common\n",
    "\n",
    "tf.compat.v1.enable_v2_behavior()\n",
    "\n",
    "\n",
    "# Set up a virtual display for rendering OpenAI gym environments.\n",
    "display = pyvirtualdisplay.Display(visible=0, size=(1400, 900)).start()"
   ]
  },
  {
   "cell_type": "markdown",
   "metadata": {
    "id": "LmC0NDhdLIKY"
   },
   "source": [
    "## Hyperparameters"
   ]
  },
  {
   "cell_type": "code",
   "execution_count": 4,
   "metadata": {
    "execution": {
     "iopub.execute_input": "2021-01-06T12:27:55.796198Z",
     "iopub.status.busy": "2021-01-06T12:27:55.795470Z",
     "iopub.status.idle": "2021-01-06T12:27:55.797960Z",
     "shell.execute_reply": "2021-01-06T12:27:55.797425Z"
    },
    "id": "HC1kNrOsLSIZ"
   },
   "outputs": [],
   "source": [
    "env_name = \"CartPole-v1\" # @param {type:\"string\"}\n",
    "num_iterations = 15000 # @param {type:\"integer\"}\n",
    "\n",
    "initial_collect_steps = 1000  # @param {type:\"integer\"} \n",
    "collect_steps_per_iteration = 1  # @param {type:\"integer\"}\n",
    "replay_buffer_capacity = 100000  # @param {type:\"integer\"}\n",
    "\n",
    "fc_layer_params = (100,)\n",
    "\n",
    "batch_size = 64  # @param {type:\"integer\"}\n",
    "learning_rate = 1e-3  # @param {type:\"number\"}\n",
    "gamma = 0.99\n",
    "log_interval = 200  # @param {type:\"integer\"}\n",
    "\n",
    "num_atoms = 51  # @param {type:\"integer\"}\n",
    "min_q_value = -20  # @param {type:\"integer\"}\n",
    "max_q_value = 20  # @param {type:\"integer\"}\n",
    "n_step_update = 2  # @param {type:\"integer\"}\n",
    "\n",
    "num_eval_episodes = 10  # @param {type:\"integer\"}\n",
    "eval_interval = 1000  # @param {type:\"integer\"}"
   ]
  },
  {
   "cell_type": "markdown",
   "metadata": {
    "id": "VMsJC3DEgI0x"
   },
   "source": [
    "## Environment\n",
    "\n",
    "Load the environment as before, with one for training and one for evaluation. Here we use CartPole-v1 (vs. CartPole-v0 in the DQN tutorial), which has a larger max reward of 500 rather than 200."
   ]
  },
  {
   "cell_type": "code",
   "execution_count": 5,
   "metadata": {
    "execution": {
     "iopub.execute_input": "2021-01-06T12:27:55.802675Z",
     "iopub.status.busy": "2021-01-06T12:27:55.802026Z",
     "iopub.status.idle": "2021-01-06T12:27:55.820825Z",
     "shell.execute_reply": "2021-01-06T12:27:55.820326Z"
    },
    "id": "Xp-Y4mD6eDhF"
   },
   "outputs": [],
   "source": [
    "train_py_env = suite_gym.load(env_name)\n",
    "eval_py_env = suite_gym.load(env_name)\n",
    "\n",
    "train_env = tf_py_environment.TFPyEnvironment(train_py_env)\n",
    "eval_env = tf_py_environment.TFPyEnvironment(eval_py_env)"
   ]
  },
  {
   "cell_type": "markdown",
   "metadata": {
    "id": "E9lW_OZYFR8A"
   },
   "source": [
    "## Agent\n",
    "\n",
    "C51 is a Q-learning algorithm based on DQN. Like DQN, it can be used on any environment with a discrete action space.\n",
    "\n",
    "The main difference between C51 and DQN is that rather than simply predicting the Q-value for each state-action pair, C51 predicts a histogram model for the probability distribution of the Q-value:\n",
    "\n",
    "![Example C51 Distribution](images/c51_distribution.png)\n",
    "\n",
    "By learning the distribution rather than simply the expected value, the algorithm is able to stay more stable during training, leading to improved final performance. This is particularly true in situations with bimodal or even multimodal value distributions, where a single average does not provide an accurate picture.\n",
    "\n",
    "In order to train on probability distributions rather than on values, C51 must perform some complex distributional computations in order to calculate its loss function. But don't worry, all of this is taken care of for you in TF-Agents!\n",
    "\n",
    "To create a C51 Agent, we first need to create a `CategoricalQNetwork`. The API of the `CategoricalQNetwork` is the same as that of the `QNetwork`, except that there is an additional argument `num_atoms`. This represents the number of support points in our probability distribution estimates. (The above image includes 10 support points, each represented by a vertical blue bar.) As you can tell from the name, the default number of atoms is 51.\n"
   ]
  },
  {
   "cell_type": "code",
   "execution_count": 6,
   "metadata": {
    "execution": {
     "iopub.execute_input": "2021-01-06T12:27:55.830469Z",
     "iopub.status.busy": "2021-01-06T12:27:55.824905Z",
     "iopub.status.idle": "2021-01-06T12:27:55.869176Z",
     "shell.execute_reply": "2021-01-06T12:27:55.868520Z"
    },
    "id": "TgkdEPg_muzV"
   },
   "outputs": [],
   "source": [
    "categorical_q_net = categorical_q_network.CategoricalQNetwork(\n",
    "    train_env.observation_spec(),\n",
    "    train_env.action_spec(),\n",
    "    num_atoms=num_atoms,\n",
    "    fc_layer_params=fc_layer_params)"
   ]
  },
  {
   "cell_type": "markdown",
   "metadata": {
    "id": "z62u55hSmviJ"
   },
   "source": [
    "We also need an `optimizer` to train the network we just created, and a `train_step_counter` variable to keep track of how many times the network was updated.\n",
    "\n",
    "Note that one other significant difference from vanilla `DqnAgent` is that we now need to specify `min_q_value` and `max_q_value` as arguments. These specify the most extreme values of the support (in other words, the most extreme of the 51 atoms on either side). Make sure to choose these appropriately for your particular environment. Here we use -20 and 20."
   ]
  },
  {
   "cell_type": "code",
   "execution_count": 7,
   "metadata": {
    "execution": {
     "iopub.execute_input": "2021-01-06T12:27:57.314711Z",
     "iopub.status.busy": "2021-01-06T12:27:57.313533Z",
     "iopub.status.idle": "2021-01-06T12:27:58.106449Z",
     "shell.execute_reply": "2021-01-06T12:27:58.105738Z"
    },
    "id": "jbY4yrjTEyc9"
   },
   "outputs": [],
   "source": [
    "optimizer = tf.compat.v1.train.AdamOptimizer(learning_rate=learning_rate)\n",
    "\n",
    "train_step_counter = tf.compat.v2.Variable(0)\n",
    "\n",
    "agent = categorical_dqn_agent.CategoricalDqnAgent(\n",
    "    train_env.time_step_spec(),\n",
    "    train_env.action_spec(),\n",
    "    categorical_q_network=categorical_q_net,\n",
    "    optimizer=optimizer,\n",
    "    min_q_value=min_q_value,\n",
    "    max_q_value=max_q_value,\n",
    "    n_step_update=n_step_update,\n",
    "    td_errors_loss_fn=common.element_wise_squared_loss,\n",
    "    gamma=gamma,\n",
    "    train_step_counter=train_step_counter)\n",
    "agent.initialize()"
   ]
  },
  {
   "cell_type": "markdown",
   "metadata": {
    "id": "L7O7F_HqiQ1G"
   },
   "source": [
    "One last thing to note is that we also added an argument to use n-step updates with $n$ = 2. In single-step Q-learning ($n$ = 1), we only compute the error between the Q-values at the current time step and the next time step using the single-step return (based on the Bellman optimality equation). The single-step return is defined as:\n",
    "\n",
    "$G_t = R_{t + 1} + \\gamma V(s_{t + 1})$\n",
    "\n",
    "where we define $V(s) = \\max_a{Q(s, a)}$.\n",
    "\n",
    "N-step updates involve expanding the standard single-step return function $n$ times:\n",
    "\n",
    "$G_t^n = R_{t + 1} + \\gamma R_{t + 2} + \\gamma^2 R_{t + 3} + \\dots + \\gamma^n V(s_{t + n})$\n",
    "\n",
    "N-step updates enable the agent to bootstrap from further in the future, and with the right value of $n$, this often leads to faster learning.\n",
    "\n",
    "Although C51 and n-step updates are often combined with prioritized replay to form the core of the [Rainbow agent](https://arxiv.org/pdf/1710.02298.pdf), we saw no measurable improvement from implementing prioritized replay. Moreover, we find that when combining our C51 agent with n-step updates alone, our agent performs as well as other Rainbow agents on the sample of Atari environments we've tested."
   ]
  },
  {
   "cell_type": "markdown",
   "metadata": {
    "id": "94rCXQtbUbXv"
   },
   "source": [
    "## Metrics and Evaluation\n",
    "\n",
    "The most common metric used to evaluate a policy is the average return. The return is the sum of rewards obtained while running a policy in an environment for an episode, and we usually average this over a few episodes. We can compute the average return metric as follows.\n"
   ]
  },
  {
   "cell_type": "code",
   "execution_count": 8,
   "metadata": {
    "execution": {
     "iopub.execute_input": "2021-01-06T12:27:58.117513Z",
     "iopub.status.busy": "2021-01-06T12:27:58.114746Z",
     "iopub.status.idle": "2021-01-06T12:27:58.796061Z",
     "shell.execute_reply": "2021-01-06T12:27:58.796535Z"
    },
    "id": "bitzHo5_UbXy"
   },
   "outputs": [
    {
     "data": {
      "text/plain": [
       "28.7"
      ]
     },
     "execution_count": 1,
     "metadata": {},
     "output_type": "execute_result"
    }
   ],
   "source": [
    "#@test {\"skip\": true}\n",
    "def compute_avg_return(environment, policy, num_episodes=10):\n",
    "\n",
    "  total_return = 0.0\n",
    "  for _ in range(num_episodes):\n",
    "\n",
    "    time_step = environment.reset()\n",
    "    episode_return = 0.0\n",
    "\n",
    "    while not time_step.is_last():\n",
    "      action_step = policy.action(time_step)\n",
    "      time_step = environment.step(action_step.action)\n",
    "      episode_return += time_step.reward\n",
    "    total_return += episode_return\n",
    "\n",
    "  avg_return = total_return / num_episodes\n",
    "  return avg_return.numpy()[0]\n",
    "\n",
    "\n",
    "random_policy = random_tf_policy.RandomTFPolicy(train_env.time_step_spec(),\n",
    "                                                train_env.action_spec())\n",
    "\n",
    "compute_avg_return(eval_env, random_policy, num_eval_episodes)\n",
    "\n",
    "# Please also see the metrics module for standard implementations of different\n",
    "# metrics."
   ]
  },
  {
   "cell_type": "markdown",
   "metadata": {
    "id": "NLva6g2jdWgr"
   },
   "source": [
    "## Data Collection\n",
    "\n",
    "As in the DQN tutorial, set up the replay buffer and the initial data collection with the random policy."
   ]
  },
  {
   "cell_type": "code",
   "execution_count": 9,
   "metadata": {
    "execution": {
     "iopub.execute_input": "2021-01-06T12:27:58.803819Z",
     "iopub.status.busy": "2021-01-06T12:27:58.803084Z",
     "iopub.status.idle": "2021-01-06T12:28:03.953439Z",
     "shell.execute_reply": "2021-01-06T12:28:03.952834Z"
    },
    "id": "wr1KSAEGG4h9"
   },
   "outputs": [
    {
     "name": "stdout",
     "output_type": "stream",
     "text": [
      "WARNING:tensorflow:From /tmpfs/src/tf_docs_env/lib/python3.6/site-packages/tensorflow/python/autograph/operators/control_flow.py:1218: ReplayBuffer.get_next (from tf_agents.replay_buffers.replay_buffer) is deprecated and will be removed in a future version.\n",
      "Instructions for updating:\n",
      "Use `as_dataset(..., single_deterministic_pass=False) instead.\n"
     ]
    }
   ],
   "source": [
    "#@test {\"skip\": true}\n",
    "replay_buffer = tf_uniform_replay_buffer.TFUniformReplayBuffer(\n",
    "    data_spec=agent.collect_data_spec,\n",
    "    batch_size=train_env.batch_size,\n",
    "    max_length=replay_buffer_capacity)\n",
    "\n",
    "def collect_step(environment, policy):\n",
    "  time_step = environment.current_time_step()\n",
    "  action_step = policy.action(time_step)\n",
    "  next_time_step = environment.step(action_step.action)\n",
    "  traj = trajectory.from_transition(time_step, action_step, next_time_step)\n",
    "\n",
    "  # Add trajectory to the replay buffer\n",
    "  replay_buffer.add_batch(traj)\n",
    "\n",
    "for _ in range(initial_collect_steps):\n",
    "  collect_step(train_env, random_policy)\n",
    "\n",
    "# This loop is so common in RL, that we provide standard implementations of\n",
    "# these. For more details see the drivers module.\n",
    "\n",
    "# Dataset generates trajectories with shape [BxTx...] where\n",
    "# T = n_step_update + 1.\n",
    "dataset = replay_buffer.as_dataset(\n",
    "    num_parallel_calls=3, sample_batch_size=batch_size,\n",
    "    num_steps=n_step_update + 1).prefetch(3)\n",
    "\n",
    "iterator = iter(dataset)"
   ]
  },
  {
   "cell_type": "markdown",
   "metadata": {
    "id": "hBc9lj9VWWtZ"
   },
   "source": [
    "## Training the agent\n",
    "\n",
    "The training loop involves both collecting data from the environment and optimizing the agent's networks. Along the way, we will occasionally evaluate the agent's policy to see how we are doing.\n",
    "\n",
    "The following will take ~7 minutes to run."
   ]
  },
  {
   "cell_type": "code",
   "execution_count": 10,
   "metadata": {
    "execution": {
     "iopub.execute_input": "2021-01-06T12:28:03.964924Z",
     "iopub.status.busy": "2021-01-06T12:28:03.964222Z",
     "iopub.status.idle": "2021-01-06T12:35:51.620730Z",
     "shell.execute_reply": "2021-01-06T12:35:51.621163Z"
    },
    "id": "0pTbJ3PeyF-u"
   },
   "outputs": [
    {
     "name": "stdout",
     "output_type": "stream",
     "text": [
      "WARNING:tensorflow:From /tmpfs/src/tf_docs_env/lib/python3.6/site-packages/tensorflow/python/util/dispatch.py:201: calling foldr_v2 (from tensorflow.python.ops.functional_ops) with back_prop=False is deprecated and will be removed in a future version.\n",
      "Instructions for updating:\n",
      "back_prop=False is deprecated. Consider using tf.stop_gradient instead.\n",
      "Instead of:\n",
      "results = tf.foldr(fn, elems, back_prop=False)\n",
      "Use:\n",
      "results = tf.nest.map_structure(tf.stop_gradient, tf.foldr(fn, elems))\n"
     ]
    },
    {
     "name": "stdout",
     "output_type": "stream",
     "text": [
      "step = 200: loss = 3.321129560470581\n"
     ]
    },
    {
     "name": "stdout",
     "output_type": "stream",
     "text": [
      "step = 400: loss = 2.485752820968628\n"
     ]
    },
    {
     "name": "stdout",
     "output_type": "stream",
     "text": [
      "step = 600: loss = 2.0748603343963623\n"
     ]
    },
    {
     "name": "stdout",
     "output_type": "stream",
     "text": [
      "step = 800: loss = 1.899770736694336\n"
     ]
    },
    {
     "name": "stdout",
     "output_type": "stream",
     "text": [
      "step = 1000: loss = 1.9147026538848877\n"
     ]
    },
    {
     "name": "stdout",
     "output_type": "stream",
     "text": [
      "step = 1000: Average Return = 69.10\n"
     ]
    },
    {
     "name": "stdout",
     "output_type": "stream",
     "text": [
      "step = 1200: loss = 1.470450758934021\n"
     ]
    },
    {
     "name": "stdout",
     "output_type": "stream",
     "text": [
      "step = 1400: loss = 1.524451494216919\n"
     ]
    },
    {
     "name": "stdout",
     "output_type": "stream",
     "text": [
      "step = 1600: loss = 1.3602908849716187\n"
     ]
    },
    {
     "name": "stdout",
     "output_type": "stream",
     "text": [
      "step = 1800: loss = 1.3945512771606445\n"
     ]
    },
    {
     "name": "stdout",
     "output_type": "stream",
     "text": [
      "step = 2000: loss = 1.2128956317901611\n"
     ]
    },
    {
     "name": "stdout",
     "output_type": "stream",
     "text": [
      "step = 2000: Average Return = 201.20\n"
     ]
    },
    {
     "name": "stdout",
     "output_type": "stream",
     "text": [
      "step = 2200: loss = 1.2250053882598877\n"
     ]
    },
    {
     "name": "stdout",
     "output_type": "stream",
     "text": [
      "step = 2400: loss = 1.0739798545837402\n"
     ]
    },
    {
     "name": "stdout",
     "output_type": "stream",
     "text": [
      "step = 2600: loss = 1.0344221591949463\n"
     ]
    },
    {
     "name": "stdout",
     "output_type": "stream",
     "text": [
      "step = 2800: loss = 0.9437637329101562\n"
     ]
    },
    {
     "name": "stdout",
     "output_type": "stream",
     "text": [
      "step = 3000: loss = 1.0215129852294922\n"
     ]
    },
    {
     "name": "stdout",
     "output_type": "stream",
     "text": [
      "step = 3000: Average Return = 142.70\n"
     ]
    },
    {
     "name": "stdout",
     "output_type": "stream",
     "text": [
      "step = 3200: loss = 1.0233310461044312\n"
     ]
    },
    {
     "name": "stdout",
     "output_type": "stream",
     "text": [
      "step = 3400: loss = 0.8907231688499451\n"
     ]
    },
    {
     "name": "stdout",
     "output_type": "stream",
     "text": [
      "step = 3600: loss = 0.7526266574859619\n"
     ]
    },
    {
     "name": "stdout",
     "output_type": "stream",
     "text": [
      "step = 3800: loss = 0.6926383972167969\n"
     ]
    },
    {
     "name": "stdout",
     "output_type": "stream",
     "text": [
      "step = 4000: loss = 0.7934644222259521\n"
     ]
    },
    {
     "name": "stdout",
     "output_type": "stream",
     "text": [
      "step = 4000: Average Return = 476.80\n"
     ]
    },
    {
     "name": "stdout",
     "output_type": "stream",
     "text": [
      "step = 4200: loss = 0.791626513004303\n"
     ]
    },
    {
     "name": "stdout",
     "output_type": "stream",
     "text": [
      "step = 4400: loss = 0.8220507502555847\n"
     ]
    },
    {
     "name": "stdout",
     "output_type": "stream",
     "text": [
      "step = 4600: loss = 0.7975851893424988\n"
     ]
    },
    {
     "name": "stdout",
     "output_type": "stream",
     "text": [
      "step = 4800: loss = 0.4139212369918823\n"
     ]
    },
    {
     "name": "stdout",
     "output_type": "stream",
     "text": [
      "step = 5000: loss = 0.7318903207778931\n"
     ]
    },
    {
     "name": "stdout",
     "output_type": "stream",
     "text": [
      "step = 5000: Average Return = 310.40\n"
     ]
    },
    {
     "name": "stdout",
     "output_type": "stream",
     "text": [
      "step = 5200: loss = 0.7830334305763245\n"
     ]
    },
    {
     "name": "stdout",
     "output_type": "stream",
     "text": [
      "step = 5400: loss = 0.7445043921470642\n"
     ]
    },
    {
     "name": "stdout",
     "output_type": "stream",
     "text": [
      "step = 5600: loss = 0.6130998134613037\n"
     ]
    },
    {
     "name": "stdout",
     "output_type": "stream",
     "text": [
      "step = 5800: loss = 0.5654287338256836\n"
     ]
    },
    {
     "name": "stdout",
     "output_type": "stream",
     "text": [
      "step = 6000: loss = 0.6499170064926147\n"
     ]
    },
    {
     "name": "stdout",
     "output_type": "stream",
     "text": [
      "step = 6000: Average Return = 498.00\n"
     ]
    },
    {
     "name": "stdout",
     "output_type": "stream",
     "text": [
      "step = 6200: loss = 0.6856206655502319\n"
     ]
    },
    {
     "name": "stdout",
     "output_type": "stream",
     "text": [
      "step = 6400: loss = 0.613524317741394\n"
     ]
    },
    {
     "name": "stdout",
     "output_type": "stream",
     "text": [
      "step = 6600: loss = 0.5312545299530029\n"
     ]
    },
    {
     "name": "stdout",
     "output_type": "stream",
     "text": [
      "step = 6800: loss = 0.5998117923736572\n"
     ]
    },
    {
     "name": "stdout",
     "output_type": "stream",
     "text": [
      "step = 7000: loss = 0.35336682200431824\n"
     ]
    },
    {
     "name": "stdout",
     "output_type": "stream",
     "text": [
      "step = 7000: Average Return = 419.60\n"
     ]
    },
    {
     "name": "stdout",
     "output_type": "stream",
     "text": [
      "step = 7200: loss = 0.37572816014289856\n"
     ]
    },
    {
     "name": "stdout",
     "output_type": "stream",
     "text": [
      "step = 7400: loss = 0.3268156051635742\n"
     ]
    },
    {
     "name": "stdout",
     "output_type": "stream",
     "text": [
      "step = 7600: loss = 0.3964875340461731\n"
     ]
    },
    {
     "name": "stdout",
     "output_type": "stream",
     "text": [
      "step = 7800: loss = 0.4353790283203125\n"
     ]
    },
    {
     "name": "stdout",
     "output_type": "stream",
     "text": [
      "step = 8000: loss = 0.47257936000823975\n"
     ]
    },
    {
     "name": "stdout",
     "output_type": "stream",
     "text": [
      "step = 8000: Average Return = 209.20\n"
     ]
    },
    {
     "name": "stdout",
     "output_type": "stream",
     "text": [
      "step = 8200: loss = 0.41818156838417053\n"
     ]
    },
    {
     "name": "stdout",
     "output_type": "stream",
     "text": [
      "step = 8400: loss = 0.295656681060791\n"
     ]
    },
    {
     "name": "stdout",
     "output_type": "stream",
     "text": [
      "step = 8600: loss = 0.30348891019821167\n"
     ]
    },
    {
     "name": "stdout",
     "output_type": "stream",
     "text": [
      "step = 8800: loss = 0.2654055655002594\n"
     ]
    },
    {
     "name": "stdout",
     "output_type": "stream",
     "text": [
      "step = 9000: loss = 0.4846675992012024\n"
     ]
    },
    {
     "name": "stdout",
     "output_type": "stream",
     "text": [
      "step = 9000: Average Return = 431.30\n"
     ]
    },
    {
     "name": "stdout",
     "output_type": "stream",
     "text": [
      "step = 9200: loss = 0.281438410282135\n"
     ]
    },
    {
     "name": "stdout",
     "output_type": "stream",
     "text": [
      "step = 9400: loss = 0.23425081372261047\n"
     ]
    },
    {
     "name": "stdout",
     "output_type": "stream",
     "text": [
      "step = 9600: loss = 0.6559126377105713\n"
     ]
    },
    {
     "name": "stdout",
     "output_type": "stream",
     "text": [
      "step = 9800: loss = 0.4217219948768616\n"
     ]
    },
    {
     "name": "stdout",
     "output_type": "stream",
     "text": [
      "step = 10000: loss = 0.3250614404678345\n"
     ]
    },
    {
     "name": "stdout",
     "output_type": "stream",
     "text": [
      "step = 10000: Average Return = 283.80\n"
     ]
    },
    {
     "name": "stdout",
     "output_type": "stream",
     "text": [
      "step = 10200: loss = 0.2797137498855591\n"
     ]
    },
    {
     "name": "stdout",
     "output_type": "stream",
     "text": [
      "step = 10400: loss = 0.3637545108795166\n"
     ]
    },
    {
     "name": "stdout",
     "output_type": "stream",
     "text": [
      "step = 10600: loss = 0.2684471011161804\n"
     ]
    },
    {
     "name": "stdout",
     "output_type": "stream",
     "text": [
      "step = 10800: loss = 0.45216208696365356\n"
     ]
    },
    {
     "name": "stdout",
     "output_type": "stream",
     "text": [
      "step = 11000: loss = 0.26978206634521484\n"
     ]
    },
    {
     "name": "stdout",
     "output_type": "stream",
     "text": [
      "step = 11000: Average Return = 432.80\n"
     ]
    },
    {
     "name": "stdout",
     "output_type": "stream",
     "text": [
      "step = 11200: loss = 0.41701459884643555\n"
     ]
    },
    {
     "name": "stdout",
     "output_type": "stream",
     "text": [
      "step = 11400: loss = 0.39164310693740845\n"
     ]
    },
    {
     "name": "stdout",
     "output_type": "stream",
     "text": [
      "step = 11600: loss = 0.48381370306015015\n"
     ]
    },
    {
     "name": "stdout",
     "output_type": "stream",
     "text": [
      "step = 11800: loss = 0.3856581449508667\n"
     ]
    },
    {
     "name": "stdout",
     "output_type": "stream",
     "text": [
      "step = 12000: loss = 0.2671810984611511\n"
     ]
    },
    {
     "name": "stdout",
     "output_type": "stream",
     "text": [
      "step = 12000: Average Return = 412.60\n"
     ]
    },
    {
     "name": "stdout",
     "output_type": "stream",
     "text": [
      "step = 12200: loss = 0.37253132462501526\n"
     ]
    },
    {
     "name": "stdout",
     "output_type": "stream",
     "text": [
      "step = 12400: loss = 0.24322597682476044\n"
     ]
    },
    {
     "name": "stdout",
     "output_type": "stream",
     "text": [
      "step = 12600: loss = 0.48967045545578003\n"
     ]
    },
    {
     "name": "stdout",
     "output_type": "stream",
     "text": [
      "step = 12800: loss = 0.3843742907047272\n"
     ]
    },
    {
     "name": "stdout",
     "output_type": "stream",
     "text": [
      "step = 13000: loss = 0.3109121024608612\n"
     ]
    },
    {
     "name": "stdout",
     "output_type": "stream",
     "text": [
      "step = 13000: Average Return = 441.30\n"
     ]
    },
    {
     "name": "stdout",
     "output_type": "stream",
     "text": [
      "step = 13200: loss = 0.32548320293426514\n"
     ]
    },
    {
     "name": "stdout",
     "output_type": "stream",
     "text": [
      "step = 13400: loss = 0.3387058675289154\n"
     ]
    },
    {
     "name": "stdout",
     "output_type": "stream",
     "text": [
      "step = 13600: loss = 0.3758728504180908\n"
     ]
    },
    {
     "name": "stdout",
     "output_type": "stream",
     "text": [
      "step = 13800: loss = 0.2936052680015564\n"
     ]
    },
    {
     "name": "stdout",
     "output_type": "stream",
     "text": [
      "step = 14000: loss = 0.35974568128585815\n"
     ]
    },
    {
     "name": "stdout",
     "output_type": "stream",
     "text": [
      "step = 14000: Average Return = 427.80\n"
     ]
    },
    {
     "name": "stdout",
     "output_type": "stream",
     "text": [
      "step = 14200: loss = 0.3430924713611603\n"
     ]
    },
    {
     "name": "stdout",
     "output_type": "stream",
     "text": [
      "step = 14400: loss = 0.49261224269866943\n"
     ]
    },
    {
     "name": "stdout",
     "output_type": "stream",
     "text": [
      "step = 14600: loss = 0.39563947916030884\n"
     ]
    },
    {
     "name": "stdout",
     "output_type": "stream",
     "text": [
      "step = 14800: loss = 0.3216741681098938\n"
     ]
    },
    {
     "name": "stdout",
     "output_type": "stream",
     "text": [
      "step = 15000: loss = 0.3640541434288025\n"
     ]
    },
    {
     "name": "stdout",
     "output_type": "stream",
     "text": [
      "step = 15000: Average Return = 432.10\n"
     ]
    }
   ],
   "source": [
    "#@test {\"skip\": true}\n",
    "try:\n",
    "  %%time\n",
    "except:\n",
    "  pass\n",
    "\n",
    "# (Optional) Optimize by wrapping some of the code in a graph using TF function.\n",
    "agent.train = common.function(agent.train)\n",
    "\n",
    "# Reset the train step\n",
    "agent.train_step_counter.assign(0)\n",
    "\n",
    "# Evaluate the agent's policy once before training.\n",
    "avg_return = compute_avg_return(eval_env, agent.policy, num_eval_episodes)\n",
    "returns = [avg_return]\n",
    "\n",
    "for _ in range(num_iterations):\n",
    "\n",
    "  # Collect a few steps using collect_policy and save to the replay buffer.\n",
    "  for _ in range(collect_steps_per_iteration):\n",
    "    collect_step(train_env, agent.collect_policy)\n",
    "\n",
    "  # Sample a batch of data from the buffer and update the agent's network.\n",
    "  experience, unused_info = next(iterator)\n",
    "  train_loss = agent.train(experience)\n",
    "\n",
    "  step = agent.train_step_counter.numpy()\n",
    "\n",
    "  if step % log_interval == 0:\n",
    "    print('step = {0}: loss = {1}'.format(step, train_loss.loss))\n",
    "\n",
    "  if step % eval_interval == 0:\n",
    "    avg_return = compute_avg_return(eval_env, agent.policy, num_eval_episodes)\n",
    "    print('step = {0}: Average Return = {1:.2f}'.format(step, avg_return))\n",
    "    returns.append(avg_return)"
   ]
  },
  {
   "cell_type": "markdown",
   "metadata": {
    "id": "68jNcA_TiJDq"
   },
   "source": [
    "## Visualization\n"
   ]
  },
  {
   "cell_type": "markdown",
   "metadata": {
    "id": "aO-LWCdbbOIC"
   },
   "source": [
    "### Plots\n",
    "\n",
    "We can plot return vs global steps to see the performance of our agent. In `Cartpole-v1`, the environment gives a reward of +1 for every time step the pole stays up, and since the maximum number of steps is 500, the maximum possible return is also 500."
   ]
  },
  {
   "cell_type": "code",
   "execution_count": 11,
   "metadata": {
    "execution": {
     "iopub.execute_input": "2021-01-06T12:35:51.641691Z",
     "iopub.status.busy": "2021-01-06T12:35:51.639662Z",
     "iopub.status.idle": "2021-01-06T12:35:51.780325Z",
     "shell.execute_reply": "2021-01-06T12:35:51.780968Z"
    },
    "id": "NxtL1mbOYCVO"
   },
   "outputs": [
    {
     "data": {
      "text/plain": [
       "(-15.555000400543214, 550.0)"
      ]
     },
     "execution_count": 1,
     "metadata": {},
     "output_type": "execute_result"
    },
    {
     "data": {
      "image/png": "[encoded data removed]",
      "text/plain": [
       "<Figure size 432x288 with 1 Axes>"
      ]
     },
     "metadata": {
      "needs_background": "light"
     },
     "output_type": "display_data"
    }
   ],
   "source": [
    "#@test {\"skip\": true}\n",
    "\n",
    "steps = range(0, num_iterations + 1, eval_interval)\n",
    "plt.plot(steps, returns)\n",
    "plt.ylabel('Average Return')\n",
    "plt.xlabel('Step')\n",
    "plt.ylim(top=550)"
   ]
  },
  {
   "cell_type": "markdown",
   "metadata": {
    "id": "M7-XpPP99Cy7"
   },
   "source": [
    "### Videos"
   ]
  },
  {
   "cell_type": "markdown",
   "metadata": {
    "id": "9pGfGxSH32gn"
   },
   "source": [
    "It is helpful to visualize the performance of an agent by rendering the environment at each step. Before we do that, let us first create a function to embed videos in this colab."
   ]
  },
  {
   "cell_type": "code",
   "execution_count": 12,
   "metadata": {
    "execution": {
     "iopub.execute_input": "2021-01-06T12:35:51.786672Z",
     "iopub.status.busy": "2021-01-06T12:35:51.786006Z",
     "iopub.status.idle": "2021-01-06T12:35:51.788172Z",
     "shell.execute_reply": "2021-01-06T12:35:51.788620Z"
    },
    "id": "ULaGr8pvOKbl"
   },
   "outputs": [],
   "source": [
    "def embed_mp4(filename):\n",
    "  \"\"\"Embeds an mp4 file in the notebook.\"\"\"\n",
    "  video = open(filename,'rb').read()\n",
    "  b64 = base64.b64encode(video)\n",
    "  tag = '''\n",
    "  <video width=\"640\" height=\"480\" controls>\n",
    "    <source src=\"data:video/mp4;base64,{0}\" type=\"video/mp4\">\n",
    "  Your browser does not support the video tag.\n",
    "  </video>'''.format(b64.decode())\n",
    "\n",
    "  return IPython.display.HTML(tag)"
   ]
  },
  {
   "cell_type": "markdown",
   "metadata": {
    "id": "9c_PH-pX4Pr5"
   },
   "source": [
    "The following code visualizes the agent's policy for a few episodes:"
   ]
  },
  {
   "cell_type": "code",
   "execution_count": 13,
   "metadata": {
    "execution": {
     "iopub.execute_input": "2021-01-06T12:35:51.794920Z",
     "iopub.status.busy": "2021-01-06T12:35:51.794228Z",
     "iopub.status.idle": "2021-01-06T12:36:12.111473Z",
     "shell.execute_reply": "2021-01-06T12:36:12.111931Z"
    },
    "id": "owOVWB158NlF"
   },
   "outputs": [
    {
     "name": "stderr",
     "output_type": "stream",
     "text": [
      "WARNING:root:IMAGEIO FFMPEG_WRITER WARNING: input image is not divisible by macro_block_size=16, resizing from (400, 600) to (400, 608) to ensure video compatibility with most codecs and players. To prevent resizing, make your input image divisible by the macro_block_size or set the macro_block_size to None (risking incompatibility). You may also see a FFMPEG warning concerning speedloss due to data not being aligned.\n"
     ]
    },
    {
     "data": {
      "text/html": [
       "\n",
       "  <video width=\"640\" height=\"480\" controls>\n",
       "    <source src=\"data:video/mp4;base64,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\" type=\"video/mp4\">\n",
       "  Your browser does not support the video tag.\n",
       "  </video>"
      ],
      "text/plain": [
       "<IPython.core.display.HTML object>"
      ]
     },
     "execution_count": 1,
     "metadata": {},
     "output_type": "execute_result"
    }
   ],
   "source": [
    "num_episodes = 3\n",
    "video_filename = 'imageio.mp4'\n",
    "with imageio.get_writer(video_filename, fps=60) as video:\n",
    "  for _ in range(num_episodes):\n",
    "    time_step = eval_env.reset()\n",
    "    video.append_data(eval_py_env.render())\n",
    "    while not time_step.is_last():\n",
    "      action_step = agent.policy.action(time_step)\n",
    "      time_step = eval_env.step(action_step.action)\n",
    "      video.append_data(eval_py_env.render())\n",
    "\n",
    "embed_mp4(video_filename)"
   ]
  },
  {
   "cell_type": "markdown",
   "metadata": {
    "id": "exziB27hY8ia"
   },
   "source": [
    "C51 tends to do slightly better than DQN on CartPole-v1, but the difference between the two agents becomes more and more significant in increasingly complex environments. For example, on the full Atari 2600 benchmark, C51 demonstrates a mean score improvement of 126% over DQN after normalizing with respect to a random agent. Additional improvements can be gained by including n-step updates.\n",
    "\n",
    "For a deeper dive into the C51 algorithm, see [A Distributional Perspective on Reinforcement Learning (2017)](https://arxiv.org/pdf/1707.06887.pdf)."
   ]
  }
 ],
 "metadata": {
  "colab": {
   "collapsed_sections": [],
   "name": "DQN C51/Rainbow Tutorial.ipynb",
   "private_outputs": true,
   "provenance": [],
   "toc_visible": true
  },
  "kernelspec": {
   "display_name": "Python 3",
   "language": "python",
   "name": "python3"
  },
  "language_info": {
   "codemirror_mode": {
    "name": "ipython",
    "version": 3
   },
   "file_extension": ".py",
   "mimetype": "text/x-python",
   "name": "python",
   "nbconvert_exporter": "python",
   "pygments_lexer": "ipython3",
   "version": "3.6.9"
  },
  "pycharm": {
   "stem_cell": {
    "cell_type": "raw",
    "metadata": {
     "collapsed": false
    },
    "source": []
   }
  }
 },
 "nbformat": 4,
 "nbformat_minor": 0
}
